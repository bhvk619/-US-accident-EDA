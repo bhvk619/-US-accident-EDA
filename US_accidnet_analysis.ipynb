{
  "nbformat": 4,
  "nbformat_minor": 0,
  "metadata": {
    "colab": {
      "name": "US accidnet-analysis.ipynb",
      "provenance": [],
      "collapsed_sections": [
        "0cQEuckwxrwy",
        "nocZ156exy4E"
      ],
      "toc_visible": true
    },
    "kernelspec": {
      "name": "python3",
      "display_name": "Python 3"
    },
    "language_info": {
      "name": "python"
    },
    "accelerator": "GPU"
  },
  "cells": [
    {
      "cell_type": "markdown",
      "metadata": {
        "id": "EgD6QkuVwR83"
      },
      "source": [
        "#Exploratory Data Analysis- US accidents \n",
        "\n"
      ]
    },
    {
      "cell_type": "markdown",
      "metadata": {
        "id": "0cQEuckwxrwy"
      },
      "source": [
        "###**Objective**:To prevent number of accidents occuring in US \n",
        "\n",
        "Data analysis process covers the following Phases\n",
        "\n",
        "1. Ask\n",
        "2. Prepare\n",
        "3. Process\n",
        "4. Analyze\n",
        "5. Share\n",
        "6. Act"
      ]
    },
    {
      "cell_type": "markdown",
      "metadata": {
        "id": "nocZ156exy4E"
      },
      "source": [
        "##Ask Phase\n",
        "1. Identifying which state the observed the majority of accidents/How about per capita?\n",
        "2. Identifying if there is any trend in accident (Increasing or decreasing trend over years)\n",
        "3. How could these trends helps in avoiding accidents?\n",
        "4. Identifying at what time span majority of accidents occured\n",
        "5. Which days of week have most accidents?\n",
        "6. Which months have most accidents?\n",
        "7. Is there any enviromental impact on accident?\n",
        "\n",
        "\n",
        "\n",
        "Stackholders: In this case study Primary stackholder could be any offcial from road transport authority. Seconday stackholder could be project manager, other data analyst who supported the project"
      ]
    },
    {
      "cell_type": "markdown",
      "metadata": {
        "id": "QpQBg8ZDwxMp"
      },
      "source": [
        "## Prepare Phase\n",
        "\n",
        "1. The dataset used is a public data, which covers 49 states of USA, which was collected from February 2016 to December 2020. Which was collected from various data providers including multiple APIs that provide streaming traffic event data(such as the US and state departments of transportation, law enforcement agencies, traffic cameras, and traffic sensors within the road-networks)\n",
        "\n",
        "2. The data is organized in long format\n",
        "\n",
        "3. Checking Bias and Credibility in the data using ROCCC (Reliable, Orginal, Comprehensive, Current, Cited)\n",
        "\n",
        "\n",
        "**Realiable**: As the dataset is obatianed from various sources there is high chance that data is less realiable. Thereby data set might be less accurate, complete, unbaised.\n",
        "\n",
        "**Orginal**: The data is obatined from second party source (US and state departments of transportation, law enforcement agencies, traffic cameras, and traffic sensors within the road-networks)\n",
        "\n",
        "**Comprehensive**: The dataset is very comprehensive as it contain all the relevant information that is required for the analysis\n",
        "\n",
        "**Current**: The dataset is being update at regular intervals of time. Therefore dataset is current and relevant\n",
        "\n",
        "**Cited**: Moosavi, Sobhan, Mohammad Hossein Samavatian, Srinivasan Parthasarathy, Radu Teodorescu, and Rajiv Ramnath. “**Accident Risk Prediction based on Heterogeneous Sparse Data: New Dataset and Insights**.” In proceedings of the 27th ACM SIGSPATIAL International Conference on Advances in Geographic Information Systems, ACM, 2019.\n",
        "\n",
        "4. Licensing, Privacy: This dataset is being distributed only for Research purposes, under Creative Commons Attribution-Noncommercial-ShareAlike license (CC BY-NC-SA 4.0). This data only for non-commercial, research, or academic applications. You may need to cite the above papers if you use this dataset.\n",
        " "
      ]
    },
    {
      "cell_type": "code",
      "metadata": {
        "colab": {
          "base_uri": "https://localhost:8080/"
        },
        "id": "iLwH1VFEMjle",
        "outputId": "a7ad5416-82ab-452c-dacc-f17d05834270"
      },
      "source": [
        "#Download data\n",
        "!pip install opendatasets --upgrade "
      ],
      "execution_count": null,
      "outputs": [
        {
          "output_type": "stream",
          "text": [
            "Requirement already up-to-date: opendatasets in /usr/local/lib/python3.7/dist-packages (0.1.10)\n",
            "Requirement already satisfied, skipping upgrade: click in /usr/local/lib/python3.7/dist-packages (from opendatasets) (8.0.0)\n",
            "Requirement already satisfied, skipping upgrade: tqdm in /usr/local/lib/python3.7/dist-packages (from opendatasets) (4.41.1)\n",
            "Requirement already satisfied, skipping upgrade: kaggle in /usr/local/lib/python3.7/dist-packages (from opendatasets) (1.5.12)\n",
            "Requirement already satisfied, skipping upgrade: urllib3 in /usr/local/lib/python3.7/dist-packages (from kaggle->opendatasets) (1.24.3)\n",
            "Requirement already satisfied, skipping upgrade: six>=1.10 in /usr/local/lib/python3.7/dist-packages (from kaggle->opendatasets) (1.15.0)\n",
            "Requirement already satisfied, skipping upgrade: python-dateutil in /usr/local/lib/python3.7/dist-packages (from kaggle->opendatasets) (2.8.1)\n",
            "Requirement already satisfied, skipping upgrade: requests in /usr/local/lib/python3.7/dist-packages (from kaggle->opendatasets) (2.23.0)\n",
            "Requirement already satisfied, skipping upgrade: certifi in /usr/local/lib/python3.7/dist-packages (from kaggle->opendatasets) (2020.12.5)\n",
            "Requirement already satisfied, skipping upgrade: python-slugify in /usr/local/lib/python3.7/dist-packages (from kaggle->opendatasets) (5.0.2)\n",
            "Requirement already satisfied, skipping upgrade: chardet<4,>=3.0.2 in /usr/local/lib/python3.7/dist-packages (from requests->kaggle->opendatasets) (3.0.4)\n",
            "Requirement already satisfied, skipping upgrade: idna<3,>=2.5 in /usr/local/lib/python3.7/dist-packages (from requests->kaggle->opendatasets) (2.10)\n",
            "Requirement already satisfied, skipping upgrade: text-unidecode>=1.3 in /usr/local/lib/python3.7/dist-packages (from python-slugify->kaggle->opendatasets) (1.3)\n"
          ],
          "name": "stdout"
        }
      ]
    },
    {
      "cell_type": "code",
      "metadata": {
        "colab": {
          "base_uri": "https://localhost:8080/"
        },
        "id": "xYGCKaR5w1t8",
        "outputId": "fc23d2a0-40d6-44d7-fcd1-7acdbbdb7a0d"
      },
      "source": [
        "import opendatasets as od\n",
        "dataset_url = 'https://www.kaggle.com/sobhanmoosavi/us-accidents'\n",
        "od.download(dataset_url)"
      ],
      "execution_count": null,
      "outputs": [
        {
          "output_type": "stream",
          "text": [
            "Please provide your Kaggle credentials to download this dataset. Learn more: http://bit.ly/kaggle-creds\n",
            "Your Kaggle username: vamsikrishnabh\n",
            "Your Kaggle Key: ··········\n"
          ],
          "name": "stdout"
        },
        {
          "output_type": "stream",
          "text": [
            "\r  0%|          | 0.00/290M [00:00<?, ?B/s]"
          ],
          "name": "stderr"
        },
        {
          "output_type": "stream",
          "text": [
            "Downloading us-accidents.zip to ./us-accidents\n"
          ],
          "name": "stdout"
        },
        {
          "output_type": "stream",
          "text": [
            "100%|██████████| 290M/290M [00:02<00:00, 118MB/s]\n"
          ],
          "name": "stderr"
        },
        {
          "output_type": "stream",
          "text": [
            "\n"
          ],
          "name": "stdout"
        }
      ]
    },
    {
      "cell_type": "code",
      "metadata": {
        "id": "k7wjoi-dw14-"
      },
      "source": [
        "data_location= '/content/us-accidents/US_Accidents_Dec20_Updated.csv'"
      ],
      "execution_count": null,
      "outputs": []
    },
    {
      "cell_type": "markdown",
      "metadata": {
        "id": "4H-3ZLtBw2Ok"
      },
      "source": [
        "## Process\n",
        "1.   Loading the file using Pandas\n",
        "2.   Look at some information about the data and columns\n",
        "3.   Checking and fixing errors of the dataset\n",
        "4.   Transforming the data in order to work effectively\n",
        "5.   Documentation of cleaning process"
      ]
    },
    {
      "cell_type": "code",
      "metadata": {
        "id": "7RNGuEI0w7MB"
      },
      "source": [
        "#Importing library\n",
        "import pandas as pd"
      ],
      "execution_count": null,
      "outputs": []
    },
    {
      "cell_type": "code",
      "metadata": {
        "id": "_19AiiTyw7qe"
      },
      "source": [
        "#Reading dataset\n",
        "df=pd.read_csv(data_location)"
      ],
      "execution_count": null,
      "outputs": []
    },
    {
      "cell_type": "code",
      "metadata": {
        "colab": {
          "base_uri": "https://localhost:8080/",
          "height": 942
        },
        "id": "b2pZUaeIVzLQ",
        "outputId": "77bb800f-1f85-4e2e-9556-e56c609baa2c"
      },
      "source": [
        "#Viewing the dataset\n",
        "df"
      ],
      "execution_count": null,
      "outputs": [
        {
          "output_type": "execute_result",
          "data": {
            "text/html": [
              "<div>\n",
              "<style scoped>\n",
              "    .dataframe tbody tr th:only-of-type {\n",
              "        vertical-align: middle;\n",
              "    }\n",
              "\n",
              "    .dataframe tbody tr th {\n",
              "        vertical-align: top;\n",
              "    }\n",
              "\n",
              "    .dataframe thead th {\n",
              "        text-align: right;\n",
              "    }\n",
              "</style>\n",
              "<table border=\"1\" class=\"dataframe\">\n",
              "  <thead>\n",
              "    <tr style=\"text-align: right;\">\n",
              "      <th></th>\n",
              "      <th>ID</th>\n",
              "      <th>Severity</th>\n",
              "      <th>Start_Time</th>\n",
              "      <th>End_Time</th>\n",
              "      <th>Start_Lat</th>\n",
              "      <th>Start_Lng</th>\n",
              "      <th>End_Lat</th>\n",
              "      <th>End_Lng</th>\n",
              "      <th>Distance(mi)</th>\n",
              "      <th>Description</th>\n",
              "      <th>Number</th>\n",
              "      <th>Street</th>\n",
              "      <th>Side</th>\n",
              "      <th>City</th>\n",
              "      <th>County</th>\n",
              "      <th>State</th>\n",
              "      <th>Zipcode</th>\n",
              "      <th>Country</th>\n",
              "      <th>Timezone</th>\n",
              "      <th>Airport_Code</th>\n",
              "      <th>Weather_Timestamp</th>\n",
              "      <th>Temperature(F)</th>\n",
              "      <th>Wind_Chill(F)</th>\n",
              "      <th>Humidity(%)</th>\n",
              "      <th>Pressure(in)</th>\n",
              "      <th>Visibility(mi)</th>\n",
              "      <th>Wind_Direction</th>\n",
              "      <th>Wind_Speed(mph)</th>\n",
              "      <th>Precipitation(in)</th>\n",
              "      <th>Weather_Condition</th>\n",
              "      <th>Amenity</th>\n",
              "      <th>Bump</th>\n",
              "      <th>Crossing</th>\n",
              "      <th>Give_Way</th>\n",
              "      <th>Junction</th>\n",
              "      <th>No_Exit</th>\n",
              "      <th>Railway</th>\n",
              "      <th>Roundabout</th>\n",
              "      <th>Station</th>\n",
              "      <th>Stop</th>\n",
              "      <th>Traffic_Calming</th>\n",
              "      <th>Traffic_Signal</th>\n",
              "      <th>Turning_Loop</th>\n",
              "      <th>Sunrise_Sunset</th>\n",
              "      <th>Civil_Twilight</th>\n",
              "      <th>Nautical_Twilight</th>\n",
              "      <th>Astronomical_Twilight</th>\n",
              "    </tr>\n",
              "  </thead>\n",
              "  <tbody>\n",
              "    <tr>\n",
              "      <th>0</th>\n",
              "      <td>A-1</td>\n",
              "      <td>2</td>\n",
              "      <td>2019-05-21 08:29:55</td>\n",
              "      <td>2019-05-21 09:29:40</td>\n",
              "      <td>34.808868</td>\n",
              "      <td>-82.269157</td>\n",
              "      <td>34.808868</td>\n",
              "      <td>-82.269157</td>\n",
              "      <td>0.000</td>\n",
              "      <td>Accident on Tanner Rd at Pennbrooke Ln.</td>\n",
              "      <td>439.0</td>\n",
              "      <td>Tanner Rd</td>\n",
              "      <td>R</td>\n",
              "      <td>Greenville</td>\n",
              "      <td>Greenville</td>\n",
              "      <td>SC</td>\n",
              "      <td>29607-6027</td>\n",
              "      <td>US</td>\n",
              "      <td>US/Eastern</td>\n",
              "      <td>KGMU</td>\n",
              "      <td>2019-05-21 08:53:00</td>\n",
              "      <td>76.0</td>\n",
              "      <td>76.0</td>\n",
              "      <td>52.0</td>\n",
              "      <td>28.91</td>\n",
              "      <td>10.0</td>\n",
              "      <td>N</td>\n",
              "      <td>7.0</td>\n",
              "      <td>0.0</td>\n",
              "      <td>Fair</td>\n",
              "      <td>False</td>\n",
              "      <td>False</td>\n",
              "      <td>False</td>\n",
              "      <td>False</td>\n",
              "      <td>False</td>\n",
              "      <td>False</td>\n",
              "      <td>False</td>\n",
              "      <td>False</td>\n",
              "      <td>False</td>\n",
              "      <td>False</td>\n",
              "      <td>False</td>\n",
              "      <td>False</td>\n",
              "      <td>False</td>\n",
              "      <td>Day</td>\n",
              "      <td>Day</td>\n",
              "      <td>Day</td>\n",
              "      <td>Day</td>\n",
              "    </tr>\n",
              "    <tr>\n",
              "      <th>1</th>\n",
              "      <td>A-2</td>\n",
              "      <td>2</td>\n",
              "      <td>2019-10-07 17:43:09</td>\n",
              "      <td>2019-10-07 19:42:50</td>\n",
              "      <td>35.090080</td>\n",
              "      <td>-80.745560</td>\n",
              "      <td>35.090080</td>\n",
              "      <td>-80.745560</td>\n",
              "      <td>0.000</td>\n",
              "      <td>Accident on Houston Branch Rd at Providence Br...</td>\n",
              "      <td>3299.0</td>\n",
              "      <td>Providence Branch Ln</td>\n",
              "      <td>R</td>\n",
              "      <td>Charlotte</td>\n",
              "      <td>Mecklenburg</td>\n",
              "      <td>NC</td>\n",
              "      <td>28270-8560</td>\n",
              "      <td>US</td>\n",
              "      <td>US/Eastern</td>\n",
              "      <td>KEQY</td>\n",
              "      <td>2019-10-07 17:53:00</td>\n",
              "      <td>76.0</td>\n",
              "      <td>76.0</td>\n",
              "      <td>62.0</td>\n",
              "      <td>29.30</td>\n",
              "      <td>10.0</td>\n",
              "      <td>VAR</td>\n",
              "      <td>3.0</td>\n",
              "      <td>0.0</td>\n",
              "      <td>Cloudy</td>\n",
              "      <td>False</td>\n",
              "      <td>False</td>\n",
              "      <td>False</td>\n",
              "      <td>False</td>\n",
              "      <td>False</td>\n",
              "      <td>False</td>\n",
              "      <td>False</td>\n",
              "      <td>False</td>\n",
              "      <td>False</td>\n",
              "      <td>False</td>\n",
              "      <td>False</td>\n",
              "      <td>False</td>\n",
              "      <td>False</td>\n",
              "      <td>Day</td>\n",
              "      <td>Day</td>\n",
              "      <td>Day</td>\n",
              "      <td>Day</td>\n",
              "    </tr>\n",
              "    <tr>\n",
              "      <th>2</th>\n",
              "      <td>A-3</td>\n",
              "      <td>2</td>\n",
              "      <td>2020-12-13 21:53:00</td>\n",
              "      <td>2020-12-13 22:44:00</td>\n",
              "      <td>37.145730</td>\n",
              "      <td>-121.985052</td>\n",
              "      <td>37.165850</td>\n",
              "      <td>-121.988062</td>\n",
              "      <td>1.400</td>\n",
              "      <td>Stationary traffic on CA-17 from Summit Rd (CA...</td>\n",
              "      <td>NaN</td>\n",
              "      <td>Santa Cruz Hwy</td>\n",
              "      <td>R</td>\n",
              "      <td>Los Gatos</td>\n",
              "      <td>Santa Clara</td>\n",
              "      <td>CA</td>\n",
              "      <td>95033</td>\n",
              "      <td>US</td>\n",
              "      <td>US/Pacific</td>\n",
              "      <td>KSJC</td>\n",
              "      <td>2020-12-13 21:53:00</td>\n",
              "      <td>51.0</td>\n",
              "      <td>51.0</td>\n",
              "      <td>80.0</td>\n",
              "      <td>30.17</td>\n",
              "      <td>10.0</td>\n",
              "      <td>W</td>\n",
              "      <td>6.0</td>\n",
              "      <td>0.0</td>\n",
              "      <td>Fair</td>\n",
              "      <td>False</td>\n",
              "      <td>False</td>\n",
              "      <td>False</td>\n",
              "      <td>False</td>\n",
              "      <td>False</td>\n",
              "      <td>False</td>\n",
              "      <td>False</td>\n",
              "      <td>False</td>\n",
              "      <td>False</td>\n",
              "      <td>False</td>\n",
              "      <td>False</td>\n",
              "      <td>False</td>\n",
              "      <td>False</td>\n",
              "      <td>Night</td>\n",
              "      <td>Night</td>\n",
              "      <td>Night</td>\n",
              "      <td>Night</td>\n",
              "    </tr>\n",
              "    <tr>\n",
              "      <th>3</th>\n",
              "      <td>A-4</td>\n",
              "      <td>2</td>\n",
              "      <td>2018-04-17 16:51:23</td>\n",
              "      <td>2018-04-17 17:50:46</td>\n",
              "      <td>39.110390</td>\n",
              "      <td>-119.773781</td>\n",
              "      <td>39.110390</td>\n",
              "      <td>-119.773781</td>\n",
              "      <td>0.000</td>\n",
              "      <td>Accident on US-395 Southbound at Topsy Ln.</td>\n",
              "      <td>NaN</td>\n",
              "      <td>US Highway 395 S</td>\n",
              "      <td>R</td>\n",
              "      <td>Carson City</td>\n",
              "      <td>Douglas</td>\n",
              "      <td>NV</td>\n",
              "      <td>89705</td>\n",
              "      <td>US</td>\n",
              "      <td>US/Pacific</td>\n",
              "      <td>KCXP</td>\n",
              "      <td>2018-04-17 16:55:00</td>\n",
              "      <td>53.6</td>\n",
              "      <td>NaN</td>\n",
              "      <td>16.0</td>\n",
              "      <td>30.16</td>\n",
              "      <td>10.0</td>\n",
              "      <td>SSW</td>\n",
              "      <td>4.6</td>\n",
              "      <td>NaN</td>\n",
              "      <td>Clear</td>\n",
              "      <td>False</td>\n",
              "      <td>False</td>\n",
              "      <td>False</td>\n",
              "      <td>False</td>\n",
              "      <td>False</td>\n",
              "      <td>False</td>\n",
              "      <td>False</td>\n",
              "      <td>False</td>\n",
              "      <td>False</td>\n",
              "      <td>False</td>\n",
              "      <td>False</td>\n",
              "      <td>True</td>\n",
              "      <td>False</td>\n",
              "      <td>Day</td>\n",
              "      <td>Day</td>\n",
              "      <td>Day</td>\n",
              "      <td>Day</td>\n",
              "    </tr>\n",
              "    <tr>\n",
              "      <th>4</th>\n",
              "      <td>A-5</td>\n",
              "      <td>3</td>\n",
              "      <td>2016-08-31 17:40:49</td>\n",
              "      <td>2016-08-31 18:10:49</td>\n",
              "      <td>26.102942</td>\n",
              "      <td>-80.265091</td>\n",
              "      <td>26.102942</td>\n",
              "      <td>-80.265091</td>\n",
              "      <td>0.000</td>\n",
              "      <td>Accident on I-595 Westbound at Exit 4 / Pine I...</td>\n",
              "      <td>NaN</td>\n",
              "      <td>I-595 W</td>\n",
              "      <td>R</td>\n",
              "      <td>Fort Lauderdale</td>\n",
              "      <td>Broward</td>\n",
              "      <td>FL</td>\n",
              "      <td>33324</td>\n",
              "      <td>US</td>\n",
              "      <td>US/Eastern</td>\n",
              "      <td>KHWO</td>\n",
              "      <td>2016-08-31 17:53:00</td>\n",
              "      <td>84.2</td>\n",
              "      <td>NaN</td>\n",
              "      <td>84.0</td>\n",
              "      <td>29.92</td>\n",
              "      <td>10.0</td>\n",
              "      <td>SSE</td>\n",
              "      <td>13.8</td>\n",
              "      <td>NaN</td>\n",
              "      <td>Overcast</td>\n",
              "      <td>False</td>\n",
              "      <td>False</td>\n",
              "      <td>False</td>\n",
              "      <td>False</td>\n",
              "      <td>True</td>\n",
              "      <td>False</td>\n",
              "      <td>False</td>\n",
              "      <td>False</td>\n",
              "      <td>False</td>\n",
              "      <td>False</td>\n",
              "      <td>False</td>\n",
              "      <td>True</td>\n",
              "      <td>False</td>\n",
              "      <td>Day</td>\n",
              "      <td>Day</td>\n",
              "      <td>Day</td>\n",
              "      <td>Day</td>\n",
              "    </tr>\n",
              "    <tr>\n",
              "      <th>...</th>\n",
              "      <td>...</td>\n",
              "      <td>...</td>\n",
              "      <td>...</td>\n",
              "      <td>...</td>\n",
              "      <td>...</td>\n",
              "      <td>...</td>\n",
              "      <td>...</td>\n",
              "      <td>...</td>\n",
              "      <td>...</td>\n",
              "      <td>...</td>\n",
              "      <td>...</td>\n",
              "      <td>...</td>\n",
              "      <td>...</td>\n",
              "      <td>...</td>\n",
              "      <td>...</td>\n",
              "      <td>...</td>\n",
              "      <td>...</td>\n",
              "      <td>...</td>\n",
              "      <td>...</td>\n",
              "      <td>...</td>\n",
              "      <td>...</td>\n",
              "      <td>...</td>\n",
              "      <td>...</td>\n",
              "      <td>...</td>\n",
              "      <td>...</td>\n",
              "      <td>...</td>\n",
              "      <td>...</td>\n",
              "      <td>...</td>\n",
              "      <td>...</td>\n",
              "      <td>...</td>\n",
              "      <td>...</td>\n",
              "      <td>...</td>\n",
              "      <td>...</td>\n",
              "      <td>...</td>\n",
              "      <td>...</td>\n",
              "      <td>...</td>\n",
              "      <td>...</td>\n",
              "      <td>...</td>\n",
              "      <td>...</td>\n",
              "      <td>...</td>\n",
              "      <td>...</td>\n",
              "      <td>...</td>\n",
              "      <td>...</td>\n",
              "      <td>...</td>\n",
              "      <td>...</td>\n",
              "      <td>...</td>\n",
              "      <td>...</td>\n",
              "    </tr>\n",
              "    <tr>\n",
              "      <th>2906605</th>\n",
              "      <td>A-2906606</td>\n",
              "      <td>2</td>\n",
              "      <td>2018-06-28 08:49:01</td>\n",
              "      <td>2018-06-28 09:18:51</td>\n",
              "      <td>29.813824</td>\n",
              "      <td>-95.399437</td>\n",
              "      <td>29.813824</td>\n",
              "      <td>-95.399437</td>\n",
              "      <td>0.000</td>\n",
              "      <td>Accident on 30th St at Yale St.</td>\n",
              "      <td>3001.0</td>\n",
              "      <td>Yale St</td>\n",
              "      <td>L</td>\n",
              "      <td>Houston</td>\n",
              "      <td>Harris</td>\n",
              "      <td>TX</td>\n",
              "      <td>77018-8433</td>\n",
              "      <td>US</td>\n",
              "      <td>US/Central</td>\n",
              "      <td>KMCJ</td>\n",
              "      <td>2018-06-28 08:35:00</td>\n",
              "      <td>84.2</td>\n",
              "      <td>NaN</td>\n",
              "      <td>70.0</td>\n",
              "      <td>30.02</td>\n",
              "      <td>9.0</td>\n",
              "      <td>Variable</td>\n",
              "      <td>5.8</td>\n",
              "      <td>NaN</td>\n",
              "      <td>Clear</td>\n",
              "      <td>False</td>\n",
              "      <td>False</td>\n",
              "      <td>False</td>\n",
              "      <td>False</td>\n",
              "      <td>False</td>\n",
              "      <td>False</td>\n",
              "      <td>False</td>\n",
              "      <td>False</td>\n",
              "      <td>False</td>\n",
              "      <td>True</td>\n",
              "      <td>False</td>\n",
              "      <td>False</td>\n",
              "      <td>False</td>\n",
              "      <td>Day</td>\n",
              "      <td>Day</td>\n",
              "      <td>Day</td>\n",
              "      <td>Day</td>\n",
              "    </tr>\n",
              "    <tr>\n",
              "      <th>2906606</th>\n",
              "      <td>A-2906607</td>\n",
              "      <td>2</td>\n",
              "      <td>2019-01-10 02:01:01</td>\n",
              "      <td>2019-01-10 02:30:32</td>\n",
              "      <td>34.068890</td>\n",
              "      <td>-117.342010</td>\n",
              "      <td>34.068890</td>\n",
              "      <td>-117.342010</td>\n",
              "      <td>0.000</td>\n",
              "      <td>At Valley Blvd - Accident.</td>\n",
              "      <td>NaN</td>\n",
              "      <td>Cypress Ave</td>\n",
              "      <td>R</td>\n",
              "      <td>Colton</td>\n",
              "      <td>San Bernardino</td>\n",
              "      <td>CA</td>\n",
              "      <td>92324</td>\n",
              "      <td>US</td>\n",
              "      <td>US/Pacific</td>\n",
              "      <td>KSBD</td>\n",
              "      <td>2019-01-10 02:00:00</td>\n",
              "      <td>46.9</td>\n",
              "      <td>NaN</td>\n",
              "      <td>74.0</td>\n",
              "      <td>30.14</td>\n",
              "      <td>10.0</td>\n",
              "      <td>Calm</td>\n",
              "      <td>NaN</td>\n",
              "      <td>NaN</td>\n",
              "      <td>Clear</td>\n",
              "      <td>False</td>\n",
              "      <td>False</td>\n",
              "      <td>False</td>\n",
              "      <td>False</td>\n",
              "      <td>False</td>\n",
              "      <td>False</td>\n",
              "      <td>False</td>\n",
              "      <td>False</td>\n",
              "      <td>False</td>\n",
              "      <td>False</td>\n",
              "      <td>False</td>\n",
              "      <td>False</td>\n",
              "      <td>False</td>\n",
              "      <td>Night</td>\n",
              "      <td>Night</td>\n",
              "      <td>Night</td>\n",
              "      <td>Night</td>\n",
              "    </tr>\n",
              "    <tr>\n",
              "      <th>2906607</th>\n",
              "      <td>A-2906608</td>\n",
              "      <td>2</td>\n",
              "      <td>2020-11-23 12:52:00</td>\n",
              "      <td>2020-11-24 00:47:37</td>\n",
              "      <td>25.702200</td>\n",
              "      <td>-80.335556</td>\n",
              "      <td>25.703040</td>\n",
              "      <td>-80.334099</td>\n",
              "      <td>0.108</td>\n",
              "      <td>Stationary traffic on County Hwy-913 - FL-986 ...</td>\n",
              "      <td>8798.0</td>\n",
              "      <td>SW 72nd St</td>\n",
              "      <td>L</td>\n",
              "      <td>Miami</td>\n",
              "      <td>Miami-Dade</td>\n",
              "      <td>FL</td>\n",
              "      <td>33173-3512</td>\n",
              "      <td>US</td>\n",
              "      <td>US/Eastern</td>\n",
              "      <td>KTMB</td>\n",
              "      <td>2020-11-23 12:53:00</td>\n",
              "      <td>76.0</td>\n",
              "      <td>76.0</td>\n",
              "      <td>85.0</td>\n",
              "      <td>30.00</td>\n",
              "      <td>10.0</td>\n",
              "      <td>NNW</td>\n",
              "      <td>16.0</td>\n",
              "      <td>0.0</td>\n",
              "      <td>Mostly Cloudy</td>\n",
              "      <td>False</td>\n",
              "      <td>False</td>\n",
              "      <td>False</td>\n",
              "      <td>False</td>\n",
              "      <td>False</td>\n",
              "      <td>False</td>\n",
              "      <td>False</td>\n",
              "      <td>False</td>\n",
              "      <td>False</td>\n",
              "      <td>False</td>\n",
              "      <td>False</td>\n",
              "      <td>False</td>\n",
              "      <td>False</td>\n",
              "      <td>Day</td>\n",
              "      <td>Day</td>\n",
              "      <td>Day</td>\n",
              "      <td>Day</td>\n",
              "    </tr>\n",
              "    <tr>\n",
              "      <th>2906608</th>\n",
              "      <td>A-2906609</td>\n",
              "      <td>2</td>\n",
              "      <td>2019-12-29 22:38:00</td>\n",
              "      <td>2019-12-29 23:38:00</td>\n",
              "      <td>40.660140</td>\n",
              "      <td>-111.952460</td>\n",
              "      <td>40.660140</td>\n",
              "      <td>-111.952460</td>\n",
              "      <td>0.000</td>\n",
              "      <td>At UT-266/4700/Exit 15 - Accident.</td>\n",
              "      <td>NaN</td>\n",
              "      <td>I-215 N</td>\n",
              "      <td>R</td>\n",
              "      <td>Salt Lake City</td>\n",
              "      <td>Salt Lake</td>\n",
              "      <td>UT</td>\n",
              "      <td>84129</td>\n",
              "      <td>US</td>\n",
              "      <td>US/Mountain</td>\n",
              "      <td>KU42</td>\n",
              "      <td>2019-12-29 22:54:00</td>\n",
              "      <td>27.0</td>\n",
              "      <td>19.0</td>\n",
              "      <td>81.0</td>\n",
              "      <td>25.81</td>\n",
              "      <td>10.0</td>\n",
              "      <td>SSE</td>\n",
              "      <td>8.0</td>\n",
              "      <td>0.0</td>\n",
              "      <td>Cloudy</td>\n",
              "      <td>False</td>\n",
              "      <td>False</td>\n",
              "      <td>False</td>\n",
              "      <td>False</td>\n",
              "      <td>False</td>\n",
              "      <td>False</td>\n",
              "      <td>False</td>\n",
              "      <td>False</td>\n",
              "      <td>False</td>\n",
              "      <td>False</td>\n",
              "      <td>False</td>\n",
              "      <td>False</td>\n",
              "      <td>False</td>\n",
              "      <td>Night</td>\n",
              "      <td>Night</td>\n",
              "      <td>Night</td>\n",
              "      <td>Night</td>\n",
              "    </tr>\n",
              "    <tr>\n",
              "      <th>2906609</th>\n",
              "      <td>A-2906610</td>\n",
              "      <td>2</td>\n",
              "      <td>2018-03-26 13:35:03</td>\n",
              "      <td>2018-03-26 14:39:00</td>\n",
              "      <td>38.831749</td>\n",
              "      <td>-104.748161</td>\n",
              "      <td>38.831749</td>\n",
              "      <td>-104.748161</td>\n",
              "      <td>0.000</td>\n",
              "      <td>Accident on Murray Blvd at Byron Dr.</td>\n",
              "      <td>NaN</td>\n",
              "      <td>Byron Dr</td>\n",
              "      <td>R</td>\n",
              "      <td>Colorado Springs</td>\n",
              "      <td>El Paso</td>\n",
              "      <td>CO</td>\n",
              "      <td>80916</td>\n",
              "      <td>US</td>\n",
              "      <td>US/Mountain</td>\n",
              "      <td>KCOS</td>\n",
              "      <td>2018-03-26 13:54:00</td>\n",
              "      <td>51.1</td>\n",
              "      <td>NaN</td>\n",
              "      <td>38.0</td>\n",
              "      <td>29.77</td>\n",
              "      <td>10.0</td>\n",
              "      <td>SE</td>\n",
              "      <td>13.8</td>\n",
              "      <td>NaN</td>\n",
              "      <td>Scattered Clouds</td>\n",
              "      <td>False</td>\n",
              "      <td>False</td>\n",
              "      <td>True</td>\n",
              "      <td>False</td>\n",
              "      <td>False</td>\n",
              "      <td>False</td>\n",
              "      <td>False</td>\n",
              "      <td>False</td>\n",
              "      <td>False</td>\n",
              "      <td>False</td>\n",
              "      <td>False</td>\n",
              "      <td>True</td>\n",
              "      <td>False</td>\n",
              "      <td>Day</td>\n",
              "      <td>Day</td>\n",
              "      <td>Day</td>\n",
              "      <td>Day</td>\n",
              "    </tr>\n",
              "  </tbody>\n",
              "</table>\n",
              "<p>2906610 rows × 47 columns</p>\n",
              "</div>"
            ],
            "text/plain": [
              "                ID  Severity  ... Nautical_Twilight Astronomical_Twilight\n",
              "0              A-1         2  ...               Day                   Day\n",
              "1              A-2         2  ...               Day                   Day\n",
              "2              A-3         2  ...             Night                 Night\n",
              "3              A-4         2  ...               Day                   Day\n",
              "4              A-5         3  ...               Day                   Day\n",
              "...            ...       ...  ...               ...                   ...\n",
              "2906605  A-2906606         2  ...               Day                   Day\n",
              "2906606  A-2906607         2  ...             Night                 Night\n",
              "2906607  A-2906608         2  ...               Day                   Day\n",
              "2906608  A-2906609         2  ...             Night                 Night\n",
              "2906609  A-2906610         2  ...               Day                   Day\n",
              "\n",
              "[2906610 rows x 47 columns]"
            ]
          },
          "metadata": {
            "tags": []
          },
          "execution_count": 77
        }
      ]
    },
    {
      "cell_type": "code",
      "metadata": {
        "colab": {
          "base_uri": "https://localhost:8080/"
        },
        "id": "kSMJtC1QXQHe",
        "outputId": "38151f03-4d87-414a-db1c-692d0337fa2a"
      },
      "source": [
        "#Look at some information about the data and columns\n",
        "df.info()"
      ],
      "execution_count": null,
      "outputs": [
        {
          "output_type": "stream",
          "text": [
            "<class 'pandas.core.frame.DataFrame'>\n",
            "RangeIndex: 2906610 entries, 0 to 2906609\n",
            "Data columns (total 47 columns):\n",
            " #   Column                 Dtype  \n",
            "---  ------                 -----  \n",
            " 0   ID                     object \n",
            " 1   Severity               int64  \n",
            " 2   Start_Time             object \n",
            " 3   End_Time               object \n",
            " 4   Start_Lat              float64\n",
            " 5   Start_Lng              float64\n",
            " 6   End_Lat                float64\n",
            " 7   End_Lng                float64\n",
            " 8   Distance(mi)           float64\n",
            " 9   Description            object \n",
            " 10  Number                 float64\n",
            " 11  Street                 object \n",
            " 12  Side                   object \n",
            " 13  City                   object \n",
            " 14  County                 object \n",
            " 15  State                  object \n",
            " 16  Zipcode                object \n",
            " 17  Country                object \n",
            " 18  Timezone               object \n",
            " 19  Airport_Code           object \n",
            " 20  Weather_Timestamp      object \n",
            " 21  Temperature(F)         float64\n",
            " 22  Wind_Chill(F)          float64\n",
            " 23  Humidity(%)            float64\n",
            " 24  Pressure(in)           float64\n",
            " 25  Visibility(mi)         float64\n",
            " 26  Wind_Direction         object \n",
            " 27  Wind_Speed(mph)        float64\n",
            " 28  Precipitation(in)      float64\n",
            " 29  Weather_Condition      object \n",
            " 30  Amenity                bool   \n",
            " 31  Bump                   bool   \n",
            " 32  Crossing               bool   \n",
            " 33  Give_Way               bool   \n",
            " 34  Junction               bool   \n",
            " 35  No_Exit                bool   \n",
            " 36  Railway                bool   \n",
            " 37  Roundabout             bool   \n",
            " 38  Station                bool   \n",
            " 39  Stop                   bool   \n",
            " 40  Traffic_Calming        bool   \n",
            " 41  Traffic_Signal         bool   \n",
            " 42  Turning_Loop           bool   \n",
            " 43  Sunrise_Sunset         object \n",
            " 44  Civil_Twilight         object \n",
            " 45  Nautical_Twilight      object \n",
            " 46  Astronomical_Twilight  object \n",
            "dtypes: bool(13), float64(13), int64(1), object(20)\n",
            "memory usage: 790.0+ MB\n"
          ],
          "name": "stdout"
        }
      ]
    },
    {
      "cell_type": "code",
      "metadata": {
        "colab": {
          "base_uri": "https://localhost:8080/",
          "height": 311
        },
        "id": "kIgm2HdoXz5L",
        "outputId": "f23a4bf4-def1-43e0-aeb2-614ba7b3c37a"
      },
      "source": [
        "#Statatics of the real valued columns\n",
        "df.describe()"
      ],
      "execution_count": null,
      "outputs": [
        {
          "output_type": "execute_result",
          "data": {
            "text/html": [
              "<div>\n",
              "<style scoped>\n",
              "    .dataframe tbody tr th:only-of-type {\n",
              "        vertical-align: middle;\n",
              "    }\n",
              "\n",
              "    .dataframe tbody tr th {\n",
              "        vertical-align: top;\n",
              "    }\n",
              "\n",
              "    .dataframe thead th {\n",
              "        text-align: right;\n",
              "    }\n",
              "</style>\n",
              "<table border=\"1\" class=\"dataframe\">\n",
              "  <thead>\n",
              "    <tr style=\"text-align: right;\">\n",
              "      <th></th>\n",
              "      <th>Severity</th>\n",
              "      <th>Start_Lat</th>\n",
              "      <th>Start_Lng</th>\n",
              "      <th>End_Lat</th>\n",
              "      <th>End_Lng</th>\n",
              "      <th>Distance(mi)</th>\n",
              "      <th>Number</th>\n",
              "      <th>Temperature(F)</th>\n",
              "      <th>Wind_Chill(F)</th>\n",
              "      <th>Humidity(%)</th>\n",
              "      <th>Pressure(in)</th>\n",
              "      <th>Visibility(mi)</th>\n",
              "      <th>Wind_Speed(mph)</th>\n",
              "      <th>Precipitation(in)</th>\n",
              "    </tr>\n",
              "  </thead>\n",
              "  <tbody>\n",
              "    <tr>\n",
              "      <th>count</th>\n",
              "      <td>2.906610e+06</td>\n",
              "      <td>2.906610e+06</td>\n",
              "      <td>2.906610e+06</td>\n",
              "      <td>2.623789e+06</td>\n",
              "      <td>2.623789e+06</td>\n",
              "      <td>2.906610e+06</td>\n",
              "      <td>1.014938e+06</td>\n",
              "      <td>2.839386e+06</td>\n",
              "      <td>1.722751e+06</td>\n",
              "      <td>2.835340e+06</td>\n",
              "      <td>2.849702e+06</td>\n",
              "      <td>2.834532e+06</td>\n",
              "      <td>2.599447e+06</td>\n",
              "      <td>1.605284e+06</td>\n",
              "    </tr>\n",
              "    <tr>\n",
              "      <th>mean</th>\n",
              "      <td>2.288649e+00</td>\n",
              "      <td>3.653027e+01</td>\n",
              "      <td>-9.642676e+01</td>\n",
              "      <td>3.651733e+01</td>\n",
              "      <td>-9.620367e+01</td>\n",
              "      <td>3.980541e-01</td>\n",
              "      <td>6.789728e+03</td>\n",
              "      <td>6.098873e+01</td>\n",
              "      <td>5.499048e+01</td>\n",
              "      <td>6.537758e+01</td>\n",
              "      <td>2.965685e+01</td>\n",
              "      <td>9.116766e+00</td>\n",
              "      <td>7.818111e+00</td>\n",
              "      <td>1.119459e-02</td>\n",
              "    </tr>\n",
              "    <tr>\n",
              "      <th>std</th>\n",
              "      <td>5.541618e-01</td>\n",
              "      <td>5.013964e+00</td>\n",
              "      <td>1.775412e+01</td>\n",
              "      <td>5.016609e+00</td>\n",
              "      <td>1.765971e+01</td>\n",
              "      <td>1.592556e+00</td>\n",
              "      <td>1.697225e+04</td>\n",
              "      <td>1.845258e+01</td>\n",
              "      <td>2.219542e+01</td>\n",
              "      <td>2.287854e+01</td>\n",
              "      <td>9.094133e-01</td>\n",
              "      <td>2.837271e+00</td>\n",
              "      <td>5.431171e+00</td>\n",
              "      <td>1.540812e-01</td>\n",
              "    </tr>\n",
              "    <tr>\n",
              "      <th>min</th>\n",
              "      <td>1.000000e+00</td>\n",
              "      <td>2.455527e+01</td>\n",
              "      <td>-1.246238e+02</td>\n",
              "      <td>2.455527e+01</td>\n",
              "      <td>-1.246238e+02</td>\n",
              "      <td>0.000000e+00</td>\n",
              "      <td>0.000000e+00</td>\n",
              "      <td>-8.900000e+01</td>\n",
              "      <td>-8.900000e+01</td>\n",
              "      <td>1.000000e+00</td>\n",
              "      <td>0.000000e+00</td>\n",
              "      <td>0.000000e+00</td>\n",
              "      <td>0.000000e+00</td>\n",
              "      <td>0.000000e+00</td>\n",
              "    </tr>\n",
              "    <tr>\n",
              "      <th>25%</th>\n",
              "      <td>2.000000e+00</td>\n",
              "      <td>3.366453e+01</td>\n",
              "      <td>-1.178232e+02</td>\n",
              "      <td>3.364659e+01</td>\n",
              "      <td>-1.177020e+02</td>\n",
              "      <td>0.000000e+00</td>\n",
              "      <td>9.650000e+02</td>\n",
              "      <td>4.890000e+01</td>\n",
              "      <td>3.900000e+01</td>\n",
              "      <td>4.900000e+01</td>\n",
              "      <td>2.959000e+01</td>\n",
              "      <td>1.000000e+01</td>\n",
              "      <td>4.600000e+00</td>\n",
              "      <td>0.000000e+00</td>\n",
              "    </tr>\n",
              "    <tr>\n",
              "      <th>50%</th>\n",
              "      <td>2.000000e+00</td>\n",
              "      <td>3.609977e+01</td>\n",
              "      <td>-9.116690e+01</td>\n",
              "      <td>3.605898e+01</td>\n",
              "      <td>-9.105163e+01</td>\n",
              "      <td>0.000000e+00</td>\n",
              "      <td>3.093000e+03</td>\n",
              "      <td>6.300000e+01</td>\n",
              "      <td>5.800000e+01</td>\n",
              "      <td>6.800000e+01</td>\n",
              "      <td>2.992000e+01</td>\n",
              "      <td>1.000000e+01</td>\n",
              "      <td>7.000000e+00</td>\n",
              "      <td>0.000000e+00</td>\n",
              "    </tr>\n",
              "    <tr>\n",
              "      <th>75%</th>\n",
              "      <td>3.000000e+00</td>\n",
              "      <td>4.037505e+01</td>\n",
              "      <td>-8.085814e+01</td>\n",
              "      <td>4.033133e+01</td>\n",
              "      <td>-8.084679e+01</td>\n",
              "      <td>2.790000e-01</td>\n",
              "      <td>7.976000e+03</td>\n",
              "      <td>7.500000e+01</td>\n",
              "      <td>7.200000e+01</td>\n",
              "      <td>8.500000e+01</td>\n",
              "      <td>3.007000e+01</td>\n",
              "      <td>1.000000e+01</td>\n",
              "      <td>1.040000e+01</td>\n",
              "      <td>0.000000e+00</td>\n",
              "    </tr>\n",
              "    <tr>\n",
              "      <th>max</th>\n",
              "      <td>4.000000e+00</td>\n",
              "      <td>4.900220e+01</td>\n",
              "      <td>-6.711317e+01</td>\n",
              "      <td>4.907500e+01</td>\n",
              "      <td>-6.710924e+01</td>\n",
              "      <td>3.336300e+02</td>\n",
              "      <td>9.999997e+06</td>\n",
              "      <td>2.030000e+02</td>\n",
              "      <td>1.740000e+02</td>\n",
              "      <td>1.000000e+02</td>\n",
              "      <td>5.804000e+01</td>\n",
              "      <td>1.400000e+02</td>\n",
              "      <td>9.840000e+02</td>\n",
              "      <td>2.400000e+01</td>\n",
              "    </tr>\n",
              "  </tbody>\n",
              "</table>\n",
              "</div>"
            ],
            "text/plain": [
              "           Severity     Start_Lat  ...  Wind_Speed(mph)  Precipitation(in)\n",
              "count  2.906610e+06  2.906610e+06  ...     2.599447e+06       1.605284e+06\n",
              "mean   2.288649e+00  3.653027e+01  ...     7.818111e+00       1.119459e-02\n",
              "std    5.541618e-01  5.013964e+00  ...     5.431171e+00       1.540812e-01\n",
              "min    1.000000e+00  2.455527e+01  ...     0.000000e+00       0.000000e+00\n",
              "25%    2.000000e+00  3.366453e+01  ...     4.600000e+00       0.000000e+00\n",
              "50%    2.000000e+00  3.609977e+01  ...     7.000000e+00       0.000000e+00\n",
              "75%    3.000000e+00  4.037505e+01  ...     1.040000e+01       0.000000e+00\n",
              "max    4.000000e+00  4.900220e+01  ...     9.840000e+02       2.400000e+01\n",
              "\n",
              "[8 rows x 14 columns]"
            ]
          },
          "metadata": {
            "tags": []
          },
          "execution_count": 9
        }
      ]
    },
    {
      "cell_type": "code",
      "metadata": {
        "colab": {
          "base_uri": "https://localhost:8080/"
        },
        "id": "dE8GIIC9gc22",
        "outputId": "8c591788-4a25-4129-f7cd-0a4bbd932cd2"
      },
      "source": [
        "#Counting missing values in the dataset\n",
        "missing_values_column=df.isnull().sum().sort_values(ascending=False)\n",
        "missing_percentage=missing_values_column/len(df)\n",
        "missing_percentage"
      ],
      "execution_count": null,
      "outputs": [
        {
          "output_type": "execute_result",
          "data": {
            "text/plain": [
              "Number                   0.650817\n",
              "Precipitation(in)        0.447713\n",
              "Wind_Chill(F)            0.407299\n",
              "Wind_Speed(mph)          0.105677\n",
              "End_Lat                  0.097303\n",
              "End_Lng                  0.097303\n",
              "Visibility(mi)           0.024798\n",
              "Weather_Condition        0.024720\n",
              "Humidity(%)              0.024520\n",
              "Temperature(F)           0.023128\n",
              "Wind_Direction           0.021838\n",
              "Pressure(in)             0.019579\n",
              "Weather_Timestamp        0.016141\n",
              "Airport_Code             0.002273\n",
              "Timezone                 0.001180\n",
              "Zipcode                  0.000383\n",
              "Nautical_Twilight        0.000038\n",
              "Astronomical_Twilight    0.000038\n",
              "Civil_Twilight           0.000038\n",
              "Sunrise_Sunset           0.000038\n",
              "City                     0.000037\n",
              "Amenity                  0.000000\n",
              "Severity                 0.000000\n",
              "Start_Time               0.000000\n",
              "End_Time                 0.000000\n",
              "Start_Lat                0.000000\n",
              "Start_Lng                0.000000\n",
              "Distance(mi)             0.000000\n",
              "Description              0.000000\n",
              "Turning_Loop             0.000000\n",
              "Street                   0.000000\n",
              "Side                     0.000000\n",
              "County                   0.000000\n",
              "Bump                     0.000000\n",
              "State                    0.000000\n",
              "Traffic_Signal           0.000000\n",
              "Country                  0.000000\n",
              "Traffic_Calming          0.000000\n",
              "Stop                     0.000000\n",
              "Station                  0.000000\n",
              "Roundabout               0.000000\n",
              "Railway                  0.000000\n",
              "No_Exit                  0.000000\n",
              "Junction                 0.000000\n",
              "Give_Way                 0.000000\n",
              "Crossing                 0.000000\n",
              "ID                       0.000000\n",
              "dtype: float64"
            ]
          },
          "metadata": {
            "tags": []
          },
          "execution_count": 11
        }
      ]
    },
    {
      "cell_type": "code",
      "metadata": {
        "colab": {
          "base_uri": "https://localhost:8080/",
          "height": 452
        },
        "id": "EEuSGAX4jG4Z",
        "outputId": "d0400fdb-c440-4ed8-ed77-659111208c21"
      },
      "source": [
        "#ploting percentage missing values\n",
        "ax=missing_percentage[missing_percentage!=0].plot(kind='bar',title='Percentage of NaN values',figsize=(12,5));\n",
        "ax.set_ylabel('% of NaN elements')"
      ],
      "execution_count": null,
      "outputs": [
        {
          "output_type": "execute_result",
          "data": {
            "text/plain": [
              "Text(0, 0.5, '% of NaN elements')"
            ]
          },
          "metadata": {
            "tags": []
          },
          "execution_count": 12
        },
        {
          "output_type": "display_data",
          "data": {
            "image/png": "[encoded data removed]",
            "text/plain": [
              "<Figure size 864x360 with 1 Axes>"
            ]
          },
          "metadata": {
            "tags": [],
            "needs_background": "light"
          }
        }
      ]
    },
    {
      "cell_type": "code",
      "metadata": {
        "id": "XlnwHdh7msP1"
      },
      "source": [
        "#Taking out the columns which have columns more 20% of NaN values\n",
        "colum_off=df.isna().sum()[df.isna().sum()>=(0.2*len(df))]\n",
        "list_colum_off=colum_off.index.to_list()"
      ],
      "execution_count": null,
      "outputs": []
    },
    {
      "cell_type": "markdown",
      "metadata": {
        "id": "vwdDFp8XxDOf"
      },
      "source": [
        "All columns containing 20% of NaN values or more will be removed since those columns cannot be used as representative values. But before removing them, I'll create a copy of the data frame, and I'll continue working on this new data frame."
      ]
    },
    {
      "cell_type": "code",
      "metadata": {
        "id": "XFjvnvlTp9qv"
      },
      "source": [
        "#Making a copy orginal dataframe and working on the copy\n",
        "df_copy=df.copy()"
      ],
      "execution_count": null,
      "outputs": []
    },
    {
      "cell_type": "code",
      "metadata": {
        "id": "zwyzZjzMxN5o"
      },
      "source": [
        "df_copy.drop(list_colum_off, axis=1, inplace=True)"
      ],
      "execution_count": null,
      "outputs": []
    },
    {
      "cell_type": "code",
      "metadata": {
        "colab": {
          "base_uri": "https://localhost:8080/"
        },
        "id": "FoVFNdvry02H",
        "outputId": "c3795953-4ee3-46d7-cb04-7e4f31eb87bc"
      },
      "source": [
        "df_copy.columns"
      ],
      "execution_count": null,
      "outputs": [
        {
          "output_type": "execute_result",
          "data": {
            "text/plain": [
              "Index(['ID', 'Severity', 'Start_Time', 'End_Time', 'Start_Lat', 'Start_Lng',\n",
              "       'End_Lat', 'End_Lng', 'Distance(mi)', 'Description', 'Street', 'Side',\n",
              "       'City', 'County', 'State', 'Zipcode', 'Country', 'Timezone',\n",
              "       'Airport_Code', 'Weather_Timestamp', 'Temperature(F)', 'Humidity(%)',\n",
              "       'Pressure(in)', 'Visibility(mi)', 'Wind_Direction', 'Wind_Speed(mph)',\n",
              "       'Weather_Condition', 'Amenity', 'Bump', 'Crossing', 'Give_Way',\n",
              "       'Junction', 'No_Exit', 'Railway', 'Roundabout', 'Station', 'Stop',\n",
              "       'Traffic_Calming', 'Traffic_Signal', 'Turning_Loop', 'Sunrise_Sunset',\n",
              "       'Civil_Twilight', 'Nautical_Twilight', 'Astronomical_Twilight'],\n",
              "      dtype='object')"
            ]
          },
          "metadata": {
            "tags": []
          },
          "execution_count": 81
        }
      ]
    },
    {
      "cell_type": "markdown",
      "metadata": {
        "id": "XAR0xHiJxalo"
      },
      "source": [
        "Picking columns which are useful to fulfill the objective"
      ]
    },
    {
      "cell_type": "code",
      "metadata": {
        "id": "dXE-nCWmxZOA"
      },
      "source": [
        "#Picking only those columns which are necessary to answer the objective\n",
        "interesting_columns=['City','Start_Time','Start_Lat','Start_Lng','Temperature(F)','Weather_Condition',]"
      ],
      "execution_count": null,
      "outputs": []
    },
    {
      "cell_type": "code",
      "metadata": {
        "id": "SPPIERffz47S"
      },
      "source": [
        "# Picking columns to identify number of accidents occured at different parts of road\n",
        "checking_columns=['Amenity', 'Bump', 'Crossing', 'Give_Way',\n",
        "       'Junction', 'No_Exit', 'Railway', 'Roundabout', 'Station', 'Stop',\n",
        "       'Traffic_Calming', 'Traffic_Signal', 'Turning_Loop']"
      ],
      "execution_count": null,
      "outputs": []
    },
    {
      "cell_type": "markdown",
      "metadata": {
        "id": "KXpw3w3sBmc2"
      },
      "source": [
        "##Analyze Phase\n"
      ]
    },
    {
      "cell_type": "code",
      "metadata": {
        "id": "eNoQFlt3LIQ9"
      },
      "source": [
        "### Accidents at various parts of the road"
      ],
      "execution_count": null,
      "outputs": []
    },
    {
      "cell_type": "code",
      "metadata": {
        "id": "JHear_Wwz-W5"
      },
      "source": [
        "#creating data for checking accidents at various parts of the road\n",
        "df_new_1=df_copy[checking_columns]"
      ],
      "execution_count": null,
      "outputs": []
    },
    {
      "cell_type": "code",
      "metadata": {
        "colab": {
          "base_uri": "https://localhost:8080/",
          "height": 411
        },
        "id": "24zK_93W0Odf",
        "outputId": "ed98f587-d9af-4a2a-de9c-ef18d8412efe"
      },
      "source": [
        "df_new_1"
      ],
      "execution_count": null,
      "outputs": [
        {
          "output_type": "execute_result",
          "data": {
            "text/html": [
              "<div>\n",
              "<style scoped>\n",
              "    .dataframe tbody tr th:only-of-type {\n",
              "        vertical-align: middle;\n",
              "    }\n",
              "\n",
              "    .dataframe tbody tr th {\n",
              "        vertical-align: top;\n",
              "    }\n",
              "\n",
              "    .dataframe thead th {\n",
              "        text-align: right;\n",
              "    }\n",
              "</style>\n",
              "<table border=\"1\" class=\"dataframe\">\n",
              "  <thead>\n",
              "    <tr style=\"text-align: right;\">\n",
              "      <th></th>\n",
              "      <th>Amenity</th>\n",
              "      <th>Bump</th>\n",
              "      <th>Crossing</th>\n",
              "      <th>Give_Way</th>\n",
              "      <th>Junction</th>\n",
              "      <th>No_Exit</th>\n",
              "      <th>Railway</th>\n",
              "      <th>Roundabout</th>\n",
              "      <th>Station</th>\n",
              "      <th>Stop</th>\n",
              "      <th>Traffic_Calming</th>\n",
              "      <th>Traffic_Signal</th>\n",
              "      <th>Turning_Loop</th>\n",
              "    </tr>\n",
              "  </thead>\n",
              "  <tbody>\n",
              "    <tr>\n",
              "      <th>0</th>\n",
              "      <td>False</td>\n",
              "      <td>False</td>\n",
              "      <td>False</td>\n",
              "      <td>False</td>\n",
              "      <td>False</td>\n",
              "      <td>False</td>\n",
              "      <td>False</td>\n",
              "      <td>False</td>\n",
              "      <td>False</td>\n",
              "      <td>False</td>\n",
              "      <td>False</td>\n",
              "      <td>False</td>\n",
              "      <td>False</td>\n",
              "    </tr>\n",
              "    <tr>\n",
              "      <th>1</th>\n",
              "      <td>False</td>\n",
              "      <td>False</td>\n",
              "      <td>False</td>\n",
              "      <td>False</td>\n",
              "      <td>False</td>\n",
              "      <td>False</td>\n",
              "      <td>False</td>\n",
              "      <td>False</td>\n",
              "      <td>False</td>\n",
              "      <td>False</td>\n",
              "      <td>False</td>\n",
              "      <td>False</td>\n",
              "      <td>False</td>\n",
              "    </tr>\n",
              "    <tr>\n",
              "      <th>2</th>\n",
              "      <td>False</td>\n",
              "      <td>False</td>\n",
              "      <td>False</td>\n",
              "      <td>False</td>\n",
              "      <td>False</td>\n",
              "      <td>False</td>\n",
              "      <td>False</td>\n",
              "      <td>False</td>\n",
              "      <td>False</td>\n",
              "      <td>False</td>\n",
              "      <td>False</td>\n",
              "      <td>False</td>\n",
              "      <td>False</td>\n",
              "    </tr>\n",
              "    <tr>\n",
              "      <th>3</th>\n",
              "      <td>False</td>\n",
              "      <td>False</td>\n",
              "      <td>False</td>\n",
              "      <td>False</td>\n",
              "      <td>False</td>\n",
              "      <td>False</td>\n",
              "      <td>False</td>\n",
              "      <td>False</td>\n",
              "      <td>False</td>\n",
              "      <td>False</td>\n",
              "      <td>False</td>\n",
              "      <td>True</td>\n",
              "      <td>False</td>\n",
              "    </tr>\n",
              "    <tr>\n",
              "      <th>4</th>\n",
              "      <td>False</td>\n",
              "      <td>False</td>\n",
              "      <td>False</td>\n",
              "      <td>False</td>\n",
              "      <td>True</td>\n",
              "      <td>False</td>\n",
              "      <td>False</td>\n",
              "      <td>False</td>\n",
              "      <td>False</td>\n",
              "      <td>False</td>\n",
              "      <td>False</td>\n",
              "      <td>True</td>\n",
              "      <td>False</td>\n",
              "    </tr>\n",
              "    <tr>\n",
              "      <th>...</th>\n",
              "      <td>...</td>\n",
              "      <td>...</td>\n",
              "      <td>...</td>\n",
              "      <td>...</td>\n",
              "      <td>...</td>\n",
              "      <td>...</td>\n",
              "      <td>...</td>\n",
              "      <td>...</td>\n",
              "      <td>...</td>\n",
              "      <td>...</td>\n",
              "      <td>...</td>\n",
              "      <td>...</td>\n",
              "      <td>...</td>\n",
              "    </tr>\n",
              "    <tr>\n",
              "      <th>2906605</th>\n",
              "      <td>False</td>\n",
              "      <td>False</td>\n",
              "      <td>False</td>\n",
              "      <td>False</td>\n",
              "      <td>False</td>\n",
              "      <td>False</td>\n",
              "      <td>False</td>\n",
              "      <td>False</td>\n",
              "      <td>False</td>\n",
              "      <td>True</td>\n",
              "      <td>False</td>\n",
              "      <td>False</td>\n",
              "      <td>False</td>\n",
              "    </tr>\n",
              "    <tr>\n",
              "      <th>2906606</th>\n",
              "      <td>False</td>\n",
              "      <td>False</td>\n",
              "      <td>False</td>\n",
              "      <td>False</td>\n",
              "      <td>False</td>\n",
              "      <td>False</td>\n",
              "      <td>False</td>\n",
              "      <td>False</td>\n",
              "      <td>False</td>\n",
              "      <td>False</td>\n",
              "      <td>False</td>\n",
              "      <td>False</td>\n",
              "      <td>False</td>\n",
              "    </tr>\n",
              "    <tr>\n",
              "      <th>2906607</th>\n",
              "      <td>False</td>\n",
              "      <td>False</td>\n",
              "      <td>False</td>\n",
              "      <td>False</td>\n",
              "      <td>False</td>\n",
              "      <td>False</td>\n",
              "      <td>False</td>\n",
              "      <td>False</td>\n",
              "      <td>False</td>\n",
              "      <td>False</td>\n",
              "      <td>False</td>\n",
              "      <td>False</td>\n",
              "      <td>False</td>\n",
              "    </tr>\n",
              "    <tr>\n",
              "      <th>2906608</th>\n",
              "      <td>False</td>\n",
              "      <td>False</td>\n",
              "      <td>False</td>\n",
              "      <td>False</td>\n",
              "      <td>False</td>\n",
              "      <td>False</td>\n",
              "      <td>False</td>\n",
              "      <td>False</td>\n",
              "      <td>False</td>\n",
              "      <td>False</td>\n",
              "      <td>False</td>\n",
              "      <td>False</td>\n",
              "      <td>False</td>\n",
              "    </tr>\n",
              "    <tr>\n",
              "      <th>2906609</th>\n",
              "      <td>False</td>\n",
              "      <td>False</td>\n",
              "      <td>True</td>\n",
              "      <td>False</td>\n",
              "      <td>False</td>\n",
              "      <td>False</td>\n",
              "      <td>False</td>\n",
              "      <td>False</td>\n",
              "      <td>False</td>\n",
              "      <td>False</td>\n",
              "      <td>False</td>\n",
              "      <td>True</td>\n",
              "      <td>False</td>\n",
              "    </tr>\n",
              "  </tbody>\n",
              "</table>\n",
              "<p>2906610 rows × 13 columns</p>\n",
              "</div>"
            ],
            "text/plain": [
              "         Amenity   Bump  ...  Traffic_Signal  Turning_Loop\n",
              "0          False  False  ...           False         False\n",
              "1          False  False  ...           False         False\n",
              "2          False  False  ...           False         False\n",
              "3          False  False  ...            True         False\n",
              "4          False  False  ...            True         False\n",
              "...          ...    ...  ...             ...           ...\n",
              "2906605    False  False  ...           False         False\n",
              "2906606    False  False  ...           False         False\n",
              "2906607    False  False  ...           False         False\n",
              "2906608    False  False  ...           False         False\n",
              "2906609    False  False  ...            True         False\n",
              "\n",
              "[2906610 rows x 13 columns]"
            ]
          },
          "metadata": {
            "tags": []
          },
          "execution_count": 85
        }
      ]
    },
    {
      "cell_type": "code",
      "metadata": {
        "id": "liE8-2ul4vKd"
      },
      "source": [
        "# Function to determine number of accidents that occured at various parts of the road.\n",
        "def counting(columns,data):\n",
        "  numb=list()\n",
        "  for elements in columns:\n",
        "    x=(data[elements].value_counts())\n",
        "    numb.append(x)\n",
        "  return numb"
      ],
      "execution_count": null,
      "outputs": []
    },
    {
      "cell_type": "code",
      "metadata": {
        "id": "00FUGabj4SfM"
      },
      "source": [
        "y=counting(checking_columns,df_new_1)"
      ],
      "execution_count": null,
      "outputs": []
    },
    {
      "cell_type": "code",
      "metadata": {
        "id": "-e5sR7ZCEJDR"
      },
      "source": [
        "# Extracts number of accidents that occured various part of the road\n",
        "import numpy as np\n",
        "tru=[]\n",
        "fal=[]\n",
        "for elements in np.arange(12):\n",
        "  t=y[elements][1]\n",
        "  s=y[elements][0]\n",
        "  tru.append(t)\n",
        "  fal.append(s)"
      ],
      "execution_count": null,
      "outputs": []
    },
    {
      "cell_type": "code",
      "metadata": {
        "colab": {
          "base_uri": "https://localhost:8080/",
          "height": 362
        },
        "id": "VoJdXiXkILgd",
        "outputId": "4c520067-9f9b-428b-d5b6-66674cd7f02a"
      },
      "source": [
        "# ploting bar graph to visualize the accidents at various parts of road \n",
        "import matplotlib.pyplot as plt \n",
        "X=['Amenity', 'Bump', 'Crossing', 'Give_Way',\n",
        "       'Junction', 'No_Exit', 'Railway', 'Roundabout', 'Station', 'Stop',\n",
        "       'Traffic_Calming', 'Traffic_Signal']\n",
        "\n",
        "X_axis = np.arange(len(X))\n",
        "  \n",
        "plt.bar(X_axis - 0.2, tru, 0.4, label = 'Number of accidents occured')\n",
        "plt.bar(X_axis + 0.2, fal, 0.4, label = 'No accidents occured')\n",
        "  \n",
        "plt.xticks(X_axis, X,rotation=90)\n",
        "plt.xlabel(\"accidents location\")\n",
        "plt.ylabel(\"Number of accidents\")\n",
        "plt.title(\"Number of accidents occured in each location\")\n",
        "plt.legend()\n",
        "plt.show()"
      ],
      "execution_count": null,
      "outputs": [
        {
          "output_type": "display_data",
          "data": {
            "image/png": "[encoded data removed]",
            "text/plain": [
              "<Figure size 432x288 with 1 Axes>"
            ]
          },
          "metadata": {
            "tags": [],
            "needs_background": "light"
          }
        }
      ]
    },
    {
      "cell_type": "code",
      "metadata": {
        "colab": {
          "base_uri": "https://localhost:8080/",
          "height": 362
        },
        "id": "uTcVgHyKsUVI",
        "outputId": "8268670b-bb8f-4565-8229-611305e55707"
      },
      "source": [
        "plt.bar(X_axis - 0.2, tru, 0.4, label = 'Number of accidents')\n",
        "plt.xticks(X_axis, X, rotation=90)\n",
        "plt.xlabel(\"accidents location\")\n",
        "plt.ylabel(\"Number of accidents\")\n",
        "plt.title(\"Number of accidents occured in each location\")\n",
        "plt.legend()\n",
        "plt.show()"
      ],
      "execution_count": null,
      "outputs": [
        {
          "output_type": "display_data",
          "data": {
            "image/png": "[encoded data removed]",
            "text/plain": [
              "<Figure size 432x288 with 1 Axes>"
            ]
          },
          "metadata": {
            "tags": [],
            "needs_background": "light"
          }
        }
      ]
    },
    {
      "cell_type": "markdown",
      "metadata": {
        "id": "uBpgzWakLO75"
      },
      "source": [
        "### Analyzing city column"
      ]
    },
    {
      "cell_type": "code",
      "metadata": {
        "colab": {
          "base_uri": "https://localhost:8080/"
        },
        "id": "OZNYmGr0xCKG",
        "outputId": "df7ebd6f-91a6-4b13-c2c9-63d83b354431"
      },
      "source": [
        "#Number of unique cities present in dataset\n",
        "cities=df.City.unique()\n",
        "len(cities)"
      ],
      "execution_count": null,
      "outputs": [
        {
          "output_type": "execute_result",
          "data": {
            "text/plain": [
              "11790"
            ]
          },
          "metadata": {
            "tags": []
          },
          "execution_count": 26
        }
      ]
    },
    {
      "cell_type": "code",
      "metadata": {
        "colab": {
          "base_uri": "https://localhost:8080/"
        },
        "id": "jsLlPAENw_mw",
        "outputId": "1a155c80-91b3-450f-a9a2-f2e40ca8ee21"
      },
      "source": [
        "cities_by_accident= df['City'].value_counts()\n",
        "cities_by_accident"
      ],
      "execution_count": null,
      "outputs": [
        {
          "output_type": "execute_result",
          "data": {
            "text/plain": [
              "Los Angeles           68411\n",
              "Houston               68265\n",
              "Charlotte             56176\n",
              "Miami                 49965\n",
              "Dallas                48525\n",
              "                      ...  \n",
              "Suquamish                 1\n",
              "Niagara University        1\n",
              "Thornwood                 1\n",
              "Geyser                    1\n",
              "Pimento                   1\n",
              "Name: City, Length: 11789, dtype: int64"
            ]
          },
          "metadata": {
            "tags": []
          },
          "execution_count": 20
        }
      ]
    },
    {
      "cell_type": "code",
      "metadata": {
        "colab": {
          "base_uri": "https://localhost:8080/"
        },
        "id": "Q7Otex_rVm_g",
        "outputId": "79e9436f-cb99-4e01-a43d-c18b98bfb46a"
      },
      "source": [
        "type(cities_by_accident)"
      ],
      "execution_count": null,
      "outputs": [
        {
          "output_type": "execute_result",
          "data": {
            "text/plain": [
              "pandas.core.series.Series"
            ]
          },
          "metadata": {
            "tags": []
          },
          "execution_count": 21
        }
      ]
    },
    {
      "cell_type": "code",
      "metadata": {
        "colab": {
          "base_uri": "https://localhost:8080/"
        },
        "id": "pwtEeevLNdsG",
        "outputId": "06a879b0-92f1-41bf-e889-2927c58dd16f"
      },
      "source": [
        "#Percentage of accidents of 95% percentage of data\n",
        "percentage_accidents=np.percentile(cities_by_accident,95)\n",
        "percentage_accidents"
      ],
      "execution_count": null,
      "outputs": [
        {
          "output_type": "execute_result",
          "data": {
            "text/plain": [
              "848.0"
            ]
          },
          "metadata": {
            "tags": []
          },
          "execution_count": 28
        }
      ]
    },
    {
      "cell_type": "code",
      "metadata": {
        "colab": {
          "base_uri": "https://localhost:8080/"
        },
        "id": "M3DOYH4CUpmV",
        "outputId": "e169096e-7bbe-4c66-c432-3a9e233cc2fc"
      },
      "source": [
        "#getting top 10 cities by accident\n",
        "top_ten_cities_by_accidents=cities_by_accident[0:10]\n",
        "print(top_ten_cities_by_accidents)\n",
        "cities_plot=top_ten_cities_by_accidents.index\n",
        "cities_list=cities_plot.to_list()\n",
        "cities_axis = np.arange(len(top_ten_cities_by_accidents))"
      ],
      "execution_count": null,
      "outputs": [
        {
          "output_type": "stream",
          "text": [
            "Los Angeles    68411\n",
            "Houston        68265\n",
            "Charlotte      56176\n",
            "Miami          49965\n",
            "Dallas         48525\n",
            "Austin         38808\n",
            "Raleigh        31355\n",
            "Atlanta        29244\n",
            "Sacramento     28984\n",
            "Orlando        28092\n",
            "Name: City, dtype: int64\n"
          ],
          "name": "stdout"
        }
      ]
    },
    {
      "cell_type": "code",
      "metadata": {
        "colab": {
          "base_uri": "https://localhost:8080/",
          "height": 345
        },
        "id": "BZoWU5b7WU2_",
        "outputId": "2dd219f0-8b22-4f35-e3d4-75c73f6676f2"
      },
      "source": [
        "plt.bar(cities_axis - 0.2, top_ten_cities_by_accidents, 0.4, label = 'Cities')\n",
        "plt.xticks(cities_axis, cities_list, rotation=90)\n",
        "plt.xlabel(\"accidents location\")\n",
        "plt.ylabel(\"Number of accidents\")\n",
        "plt.title(\"Number of accidents occured in each location\")\n",
        "plt.legend()\n",
        "plt.show()"
      ],
      "execution_count": null,
      "outputs": [
        {
          "output_type": "display_data",
          "data": {
            "image/png": "[encoded data removed]",
            "text/plain": [
              "<Figure size 432x288 with 1 Axes>"
            ]
          },
          "metadata": {
            "tags": [],
            "needs_background": "light"
          }
        }
      ]
    },
    {
      "cell_type": "markdown",
      "metadata": {
        "id": "SQBQdFxtQbTV"
      },
      "source": [
        "About 95% cities have accidents which are less than 848"
      ]
    },
    {
      "cell_type": "code",
      "metadata": {
        "colab": {
          "base_uri": "https://localhost:8080/",
          "height": 428
        },
        "id": "xqcDU77r3zG4",
        "outputId": "a0e734e2-eaa4-4bfa-e703-97f231071cbb"
      },
      "source": [
        "#Plotting Box Plot to visulize the number of accidents per city \n",
        "data = cities_by_accident\n",
        "fig = plt.figure(figsize =(10, 7))\n",
        "# Creating plot\n",
        "plt.boxplot(data)\n",
        "# show plot\n",
        "plt.show()"
      ],
      "execution_count": null,
      "outputs": [
        {
          "output_type": "display_data",
          "data": {
            "image/png": "[encoded data removed]",
            "text/plain": [
              "<Figure size 720x504 with 1 Axes>"
            ]
          },
          "metadata": {
            "tags": [],
            "needs_background": "light"
          }
        }
      ]
    },
    {
      "cell_type": "code",
      "metadata": {
        "id": "ZhSCalL2w_41"
      },
      "source": [
        "#ploting histogram to visualize 95% (low accidents cities less than 1000 accidents)\n",
        "import seaborn as sns\n",
        "sns.set_style('darkgrid')\n",
        "sns.set_theme(style=\"ticks\")"
      ],
      "execution_count": null,
      "outputs": []
    },
    {
      "cell_type": "code",
      "metadata": {
        "colab": {
          "base_uri": "https://localhost:8080/",
          "height": 344
        },
        "id": "YCnOL56NGXBQ",
        "outputId": "2ec64275-b943-4ec0-9633-6ce36eb6bb31"
      },
      "source": [
        "ax=sns.histplot(cities_by_accident,log_scale=True)\n",
        "ax.set(xlabel='Number of accidents', ylabel='Cities observed such number of accidents')"
      ],
      "execution_count": null,
      "outputs": [
        {
          "output_type": "execute_result",
          "data": {
            "text/plain": [
              "[Text(0, 0.5, 'Cities observed such number of accidents'),\n",
              " Text(0.5, 0, 'Number of accidents')]"
            ]
          },
          "metadata": {
            "tags": []
          },
          "execution_count": 42
        },
        {
          "output_type": "display_data",
          "data": {
            "image/png": "[encoded data removed]",
            "text/plain": [
              "<Figure size 432x288 with 1 Axes>"
            ]
          },
          "metadata": {
            "tags": []
          }
        }
      ]
    },
    {
      "cell_type": "code",
      "metadata": {
        "colab": {
          "base_uri": "https://localhost:8080/"
        },
        "id": "671TpFfSKHRB",
        "outputId": "784aae8d-78de-42e5-bf38-ad7a0206b853"
      },
      "source": [
        "len(cities_by_accident[cities_by_accident==1])"
      ],
      "execution_count": null,
      "outputs": [
        {
          "output_type": "execute_result",
          "data": {
            "text/plain": [
              "1306"
            ]
          },
          "metadata": {
            "tags": []
          },
          "execution_count": 43
        }
      ]
    },
    {
      "cell_type": "markdown",
      "metadata": {
        "id": "PV5Nx0XULT2Y"
      },
      "source": [
        "### Analyzing Start time"
      ]
    },
    {
      "cell_type": "code",
      "metadata": {
        "id": "T4vpvkmDL93M"
      },
      "source": [
        "#Coverting str to date time\n",
        "df['Start_Time']=pd.to_datetime(df['Start_Time'])"
      ],
      "execution_count": null,
      "outputs": []
    },
    {
      "cell_type": "code",
      "metadata": {
        "colab": {
          "base_uri": "https://localhost:8080/",
          "height": 303
        },
        "id": "jlRV4aR1RpST",
        "outputId": "3a1705e3-ddbe-4192-dab8-b300c548d148"
      },
      "source": [
        "#Analyzing time\n",
        "ay=sns.histplot(df['Start_Time'].dt.hour, bins=24,stat=\"density\")\n",
        "ay.set(xlabel='24hrs interval', ylabel='Percentage of accidents')"
      ],
      "execution_count": null,
      "outputs": [
        {
          "output_type": "execute_result",
          "data": {
            "text/plain": [
              "[Text(0, 0.5, 'Percentage of accidents'), Text(0.5, 0, '24hrs interval')]"
            ]
          },
          "metadata": {
            "tags": []
          },
          "execution_count": 45
        },
        {
          "output_type": "display_data",
          "data": {
            "image/png": "[encoded data removed]",
            "text/plain": [
              "<Figure size 432x288 with 1 Axes>"
            ]
          },
          "metadata": {
            "tags": []
          }
        }
      ]
    },
    {
      "cell_type": "code",
      "metadata": {
        "colab": {
          "base_uri": "https://localhost:8080/",
          "height": 303
        },
        "id": "DfAOBScCaOOn",
        "outputId": "9bb2c1ec-e151-4736-f561-c0b340af0d81"
      },
      "source": [
        "#Analyzing day of week\n",
        "az=sns.histplot(df['Start_Time'].dt.dayofweek, bins=7,stat=\"density\")\n",
        "az.set(xlabel='week', ylabel='Percentage of accidents')"
      ],
      "execution_count": null,
      "outputs": [
        {
          "output_type": "execute_result",
          "data": {
            "text/plain": [
              "[Text(0, 0.5, 'Percentage of accidents'), Text(0.5, 0, 'week')]"
            ]
          },
          "metadata": {
            "tags": []
          },
          "execution_count": 46
        },
        {
          "output_type": "display_data",
          "data": {
            "image/png": "[encoded data removed]",
            "text/plain": [
              "<Figure size 432x288 with 1 Axes>"
            ]
          },
          "metadata": {
            "tags": []
          }
        }
      ]
    },
    {
      "cell_type": "code",
      "metadata": {
        "id": "Ee9aqteuel-g"
      },
      "source": [
        "# Analyzing trends between weekdays and weekneds\n",
        "saturdays=df['Start_Time'][df['Start_Time'].dt.dayofweek==5]\n",
        "sundays=df['Start_Time'][df['Start_Time'].dt.dayofweek==6]\n",
        "mondays=df['Start_Time'][df['Start_Time'].dt.dayofweek==0]"
      ],
      "execution_count": null,
      "outputs": []
    },
    {
      "cell_type": "code",
      "metadata": {
        "colab": {
          "base_uri": "https://localhost:8080/",
          "height": 303
        },
        "id": "haJB1dBMa8u0",
        "outputId": "200bcd06-fbca-46d0-cbaa-1a6018eadb61"
      },
      "source": [
        "#Plotting trends for weekend-Sunday\n",
        "aq=sns.histplot(sundays.dt.hour, bins=24,stat=\"density\")\n",
        "aq.set(xlabel='24hrs interval', ylabel='Percentage of accidents')"
      ],
      "execution_count": null,
      "outputs": [
        {
          "output_type": "execute_result",
          "data": {
            "text/plain": [
              "[Text(0, 0.5, 'Percentage of accidents'), Text(0.5, 0, '24hrs interval')]"
            ]
          },
          "metadata": {
            "tags": []
          },
          "execution_count": 47
        },
        {
          "output_type": "display_data",
          "data": {
            "image/png": "[encoded data removed]",
            "text/plain": [
              "<Figure size 432x288 with 1 Axes>"
            ]
          },
          "metadata": {
            "tags": []
          }
        }
      ]
    },
    {
      "cell_type": "code",
      "metadata": {
        "colab": {
          "base_uri": "https://localhost:8080/",
          "height": 303
        },
        "id": "e7pMrxjPfTon",
        "outputId": "941112c1-c421-4865-f347-0e7a3100fe24"
      },
      "source": [
        "#Plotting trends for weekend-Saturday\n",
        "sns.histplot(saturdays.dt.hour, bins=24,stat=\"density\")"
      ],
      "execution_count": null,
      "outputs": [
        {
          "output_type": "execute_result",
          "data": {
            "text/plain": [
              "<matplotlib.axes._subplots.AxesSubplot at 0x7f6b20c8a050>"
            ]
          },
          "metadata": {
            "tags": []
          },
          "execution_count": 27
        },
        {
          "output_type": "display_data",
          "data": {
            "image/png": "[encoded data removed]",
            "text/plain": [
              "<Figure size 432x288 with 1 Axes>"
            ]
          },
          "metadata": {
            "tags": []
          }
        }
      ]
    },
    {
      "cell_type": "code",
      "metadata": {
        "colab": {
          "base_uri": "https://localhost:8080/",
          "height": 303
        },
        "id": "mCvr8A8ofhnF",
        "outputId": "bbacc309-cb9e-4f7c-e1fb-de8e7ea714ff"
      },
      "source": [
        "#Plotting trends for weekday-Monday\n",
        "sns.histplot(mondays.dt.hour, bins=24,stat=\"density\")"
      ],
      "execution_count": null,
      "outputs": [
        {
          "output_type": "execute_result",
          "data": {
            "text/plain": [
              "<matplotlib.axes._subplots.AxesSubplot at 0x7f6b20bc43d0>"
            ]
          },
          "metadata": {
            "tags": []
          },
          "execution_count": 29
        },
        {
          "output_type": "display_data",
          "data": {
            "image/png": "[encoded data removed]",
            "text/plain": [
              "<Figure size 432x288 with 1 Axes>"
            ]
          },
          "metadata": {
            "tags": []
          }
        }
      ]
    },
    {
      "cell_type": "code",
      "metadata": {
        "colab": {
          "base_uri": "https://localhost:8080/",
          "height": 303
        },
        "id": "KHelEzJThCbz",
        "outputId": "e9df5544-e11a-477d-c7ef-8a9747dac253"
      },
      "source": [
        "#Analyzing monthly trend\n",
        "sns.histplot(df['Start_Time'].dt.month, bins=12,stat=\"density\")"
      ],
      "execution_count": null,
      "outputs": [
        {
          "output_type": "execute_result",
          "data": {
            "text/plain": [
              "<matplotlib.axes._subplots.AxesSubplot at 0x7f6b20a69490>"
            ]
          },
          "metadata": {
            "tags": []
          },
          "execution_count": 32
        },
        {
          "output_type": "display_data",
          "data": {
            "image/png": "[encoded data removed]",
            "text/plain": [
              "<Figure size 432x288 with 1 Axes>"
            ]
          },
          "metadata": {
            "tags": []
          }
        }
      ]
    },
    {
      "cell_type": "code",
      "metadata": {
        "id": "H0GIWcdCh7Br"
      },
      "source": [
        "#Looking at the trend of december as it contributes majority of accidents \n",
        "December=df['Start_Time'][df['Start_Time'].dt.month==12]"
      ],
      "execution_count": null,
      "outputs": []
    },
    {
      "cell_type": "code",
      "metadata": {
        "colab": {
          "base_uri": "https://localhost:8080/",
          "height": 303
        },
        "id": "P2fVmGkgi4Zc",
        "outputId": "9f7ad388-9607-4dda-e0ee-85800bd22722"
      },
      "source": [
        "#Analyzing daily trends for the month of december for all the years(2016 to 2020)\n",
        "sns.histplot(December.dt.day, bins=31,stat=\"density\")"
      ],
      "execution_count": null,
      "outputs": [
        {
          "output_type": "execute_result",
          "data": {
            "text/plain": [
              "<matplotlib.axes._subplots.AxesSubplot at 0x7f6b2056f890>"
            ]
          },
          "metadata": {
            "tags": []
          },
          "execution_count": 43
        },
        {
          "output_type": "display_data",
          "data": {
            "image/png": "[encoded data removed]",
            "text/plain": [
              "<Figure size 432x288 with 1 Axes>"
            ]
          },
          "metadata": {
            "tags": []
          }
        }
      ]
    },
    {
      "cell_type": "markdown",
      "metadata": {
        "id": "xL8pZ0MRoNpG"
      },
      "source": [
        "###Analyzing start latitude and start longitude"
      ]
    },
    {
      "cell_type": "code",
      "metadata": {
        "id": "rrDjl-WLoJvy"
      },
      "source": [
        "import folium"
      ],
      "execution_count": null,
      "outputs": []
    },
    {
      "cell_type": "code",
      "metadata": {
        "id": "kG8X1jMhvdGT"
      },
      "source": [
        "from folium import plugins\n",
        "from folium.plugins import HeatMap"
      ],
      "execution_count": null,
      "outputs": []
    },
    {
      "cell_type": "code",
      "metadata": {
        "id": "2iJv_HpK1YYF"
      },
      "source": [
        "sample_df=df.sample(int(0.001*len(df)))\n",
        "lat_lon_pairs=list(zip(list(sample_df.Start_Lat),list(sample_df.Start_Lng)))"
      ],
      "execution_count": null,
      "outputs": []
    },
    {
      "cell_type": "code",
      "metadata": {
        "colab": {
          "base_uri": "https://localhost:8080/",
          "height": 798
        },
        "id": "vM1egBBqzNbh",
        "outputId": "21d2d6c0-6c1e-497b-cd94-3aaeba784fac"
      },
      "source": [
        "map=folium.Map()\n",
        "HeatMap(lat_lon_pairs).add_to(map)\n",
        "map"
      ],
      "execution_count": null,
      "outputs": [
        {
          "output_type": "execute_result",
          "data": {
            "text/html": [
              "<div style=\"width:100%;\"><div style=\"position:relative;width:100%;height:0;padding-bottom:60%;\"><span style=\"color:#565656\">Make this Notebook Trusted to load map: File -> Trust Notebook</span><iframe src=\"about:blank\" style=\"position:absolute;width:100%;height:100%;left:0;top:0;border:none !important;\" data-html=%3C%21DOCTYPE%20html%3E%0A%3Chead%3E%20%20%20%20%0A%20%20%20%20%3Cmeta%20http-equiv%3D%22content-type%22%20content%3D%22text/html%3B%20charset%3DUTF-8%22%20/%3E%0A%20%20%20%20%3Cscript%3EL_PREFER_CANVAS%3Dfalse%3B%20L_NO_TOUCH%3Dfalse%3B%20L_DISABLE_3D%3Dfalse%3B%3C/script%3E%0A%20%20%20%20%3Cscript%20src%3D%22https%3A//cdn.jsdelivr.net/npm/leaflet%401.4.0/dist/leaflet.js%22%3E%3C/script%3E%0A%20%20%20%20%3Cscript%20src%3D%22https%3A//code.jquery.com/jquery-1.12.4.min.js%22%3E%3C/script%3E%0A%20%20%20%20%3Cscript%20src%3D%22https%3A//maxcdn.bootstrapcdn.com/bootstrap/3.2.0/js/bootstrap.min.js%22%3E%3C/script%3E%0A%20%20%20%20%3Cscript%20src%3D%22https%3A//cdnjs.cloudflare.com/ajax/libs/Leaflet.awesome-markers/2.0.2/leaflet.awesome-markers.js%22%3E%3C/script%3E%0A%20%20%20%20%3Clink%20rel%3D%22stylesheet%22%20href%3D%22https%3A//cdn.jsdelivr.net/npm/leaflet%401.4.0/dist/leaflet.css%22/%3E%0A%20%20%20%20%3Clink%20rel%3D%22stylesheet%22%20href%3D%22https%3A//maxcdn.bootstrapcdn.com/bootstrap/3.2.0/css/bootstrap.min.css%22/%3E%0A%20%20%20%20%3Clink%20rel%3D%22stylesheet%22%20href%3D%22https%3A//maxcdn.bootstrapcdn.com/bootstrap/3.2.0/css/bootstrap-theme.min.css%22/%3E%0A%20%20%20%20%3Clink%20rel%3D%22stylesheet%22%20href%3D%22https%3A//maxcdn.bootstrapcdn.com/font-awesome/4.6.3/css/font-awesome.min.css%22/%3E%0A%20%20%20%20%3Clink%20rel%3D%22stylesheet%22%20href%3D%22https%3A//cdnjs.cloudflare.com/ajax/libs/Leaflet.awesome-markers/2.0.2/leaflet.awesome-markers.css%22/%3E%0A%20%20%20%20%3Clink%20rel%3D%22stylesheet%22%20href%3D%22https%3A//rawcdn.githack.com/python-visualization/folium/master/folium/templates/leaflet.awesome.rotate.css%22/%3E%0A%20%20%20%20%3Cstyle%3Ehtml%2C%20body%20%7Bwidth%3A%20100%25%3Bheight%3A%20100%25%3Bmargin%3A%200%3Bpadding%3A%200%3B%7D%3C/style%3E%0A%20%20%20%20%3Cstyle%3E%23map%20%7Bposition%3Aabsolute%3Btop%3A0%3Bbottom%3A0%3Bright%3A0%3Bleft%3A0%3B%7D%3C/style%3E%0A%20%20%20%20%0A%20%20%20%20%3Cmeta%20name%3D%22viewport%22%20content%3D%22width%3Ddevice-width%2C%0A%20%20%20%20%20%20%20%20initial-scale%3D1.0%2C%20maximum-scale%3D1.0%2C%20user-scalable%3Dno%22%20/%3E%0A%20%20%20%20%3Cstyle%3E%23map_b65fbc05711046ca8e299c9284c5451c%20%7B%0A%20%20%20%20%20%20%20%20position%3A%20relative%3B%0A%20%20%20%20%20%20%20%20width%3A%20100.0%25%3B%0A%20%20%20%20%20%20%20%20height%3A%20100.0%25%3B%0A%20%20%20%20%20%20%20%20left%3A%200.0%25%3B%0A%20%20%20%20%20%20%20%20top%3A%200.0%25%3B%0A%20%20%20%20%20%20%20%20%7D%0A%20%20%20%20%3C/style%3E%0A%20%20%20%20%3Cscript%20src%3D%22https%3A//leaflet.github.io/Leaflet.heat/dist/leaflet-heat.js%22%3E%3C/script%3E%0A%3C/head%3E%0A%3Cbody%3E%20%20%20%20%0A%20%20%20%20%0A%20%20%20%20%3Cdiv%20class%3D%22folium-map%22%20id%3D%22map_b65fbc05711046ca8e299c9284c5451c%22%20%3E%3C/div%3E%0A%3C/body%3E%0A%3Cscript%3E%20%20%20%20%0A%20%20%20%20%0A%20%20%20%20%0A%20%20%20%20%20%20%20%20var%20bounds%20%3D%20null%3B%0A%20%20%20%20%0A%0A%20%20%20%20var%20map_b65fbc05711046ca8e299c9284c5451c%20%3D%20L.map%28%0A%20%20%20%20%20%20%20%20%27map_b65fbc05711046ca8e299c9284c5451c%27%2C%20%7B%0A%20%20%20%20%20%20%20%20center%3A%20%5B0%2C%200%5D%2C%0A%20%20%20%20%20%20%20%20zoom%3A%201%2C%0A%20%20%20%20%20%20%20%20maxBounds%3A%20bounds%2C%0A%20%20%20%20%20%20%20%20layers%3A%20%5B%5D%2C%0A%20%20%20%20%20%20%20%20worldCopyJump%3A%20false%2C%0A%20%20%20%20%20%20%20%20crs%3A%20L.CRS.EPSG3857%2C%0A%20%20%20%20%20%20%20%20zoomControl%3A%20true%2C%0A%20%20%20%20%20%20%20%20%7D%29%3B%0A%0A%0A%20%20%20%20%0A%20%20%20%20var%20tile_layer_8606053e8bbf425ca4fe039d01b1ee74%20%3D%20L.tileLayer%28%0A%20%20%20%20%20%20%20%20%27https%3A//%7Bs%7D.tile.openstreetmap.org/%7Bz%7D/%7Bx%7D/%7By%7D.png%27%2C%0A%20%20%20%20%20%20%20%20%7B%0A%20%20%20%20%20%20%20%20%22attribution%22%3A%20null%2C%0A%20%20%20%20%20%20%20%20%22detectRetina%22%3A%20false%2C%0A%20%20%20%20%20%20%20%20%22maxNativeZoom%22%3A%2018%2C%0A%20%20%20%20%20%20%20%20%22maxZoom%22%3A%2018%2C%0A%20%20%20%20%20%20%20%20%22minZoom%22%3A%200%2C%0A%20%20%20%20%20%20%20%20%22noWrap%22%3A%20false%2C%0A%20%20%20%20%20%20%20%20%22opacity%22%3A%201%2C%0A%20%20%20%20%20%20%20%20%22subdomains%22%3A%20%22abc%22%2C%0A%20%20%20%20%20%20%20%20%22tms%22%3A%20false%0A%7D%29.addTo%28map_b65fbc05711046ca8e299c9284c5451c%29%3B%0A%20%20%20%20%0A%20%20%20%20%20%20%20%20%20%20%20%20var%20heat_map_954c4c0ac01d4f5a96c0bd9fadb4f212%20%3D%20L.heatLayer%28%0A%20%20%20%20%20%20%20%20%20%20%20%20%20%20%20%20%5B%5B40.57146%2C%20-74.32898%5D%2C%20%5B27.58565%2C%20-82.534757%5D%2C%20%5B34.16098%2C%20-118.469437%5D%2C%20%5B34.446548%2C%20-118.611005%5D%2C%20%5B28.523115%2C%20-82.228554%5D%2C%20%5B40.43047%2C%20-80.02448299999998%5D%2C%20%5B42.47464%2C%20-83.17326%5D%2C%20%5B38.357166%2C%20-120.938105%5D%2C%20%5B33.741446999999994%2C%20-84.41757199999998%5D%2C%20%5B33.767691%2C%20-117.920257%5D%2C%20%5B47.742874%2C%20-122.186913%5D%2C%20%5B30.216339%2C%20-97.751328%5D%2C%20%5B29.661427000000003%2C%20-95.274449%5D%2C%20%5B29.859369%2C%20-95.361679%5D%2C%20%5B42.606689%2C%20-71.770248%5D%2C%20%5B36.16258%2C%20-115.1604%5D%2C%20%5B37.479652%2C%20-122.259521%5D%2C%20%5B35.064796%2C%20-80.77050799999998%5D%2C%20%5B38.64436%2C%20-90.34746%5D%2C%20%5B29.644056%2C%20-95.539078%5D%2C%20%5B37.55077%2C%20-77.56857%5D%2C%20%5B39.751379%2C%20-122.207278%5D%2C%20%5B40.630155%2C%20-75.472072%5D%2C%20%5B42.514599%2C%20-71.692657%5D%2C%20%5B40.80761%2C%20-74.18236999999998%5D%2C%20%5B40.0679%2C%20-76.29871999999997%5D%2C%20%5B37.50505%2C%20-77.50455%5D%2C%20%5B37.41072800000001%2C%20-121.992172%5D%2C%20%5B42.4084%2C%20-83.08065%5D%2C%20%5B41.293171%2C%20-73.870506%5D%2C%20%5B36.130219%2C%20-86.75489%5D%2C%20%5B40.03822%2C%20-76.32335%5D%2C%20%5B32.351822%2C%20-110.974983%5D%2C%20%5B38.728825%2C%20-121.364624%5D%2C%20%5B34.23344%2C%20-117.42164%5D%2C%20%5B36.060833%2C%20-95.922104%5D%2C%20%5B41.689442%2C%20-83.584663%5D%2C%20%5B38.47241500000001%2C%20-121.500538%5D%2C%20%5B37.115887%2C%20-80.42372900000002%5D%2C%20%5B35.216148%2C%20-80.883736%5D%2C%20%5B30.35177%2C%20-97.59297%5D%2C%20%5B33.641501%2C%20-117.136861%5D%2C%20%5B33.450590000000005%2C%20-117.130297%5D%2C%20%5B26.59208%2C%20-81.67894%5D%2C%20%5B29.465418%2C%20-98.473335%5D%2C%20%5B41.82056%2C%20-88.20374%5D%2C%20%5B31.829605%2C%20-106.361465%5D%2C%20%5B33.76932%2C%20-112.12919%5D%2C%20%5B29.711679%2C%20-95.37793%5D%2C%20%5B34.234566%2C%20-118.296196%5D%2C%20%5B37.249889%2C%20-121.959351%5D%2C%20%5B43.695766%2C%20-83.967471%5D%2C%20%5B30.26488%2C%20-82.746349%5D%2C%20%5B39.175388%2C%20-119.738007%5D%2C%20%5B40.491235%2C%20-112.333545%5D%2C%20%5B37.525518%2C%20-120.887681%5D%2C%20%5B35.26351%2C%20-81.08875%5D%2C%20%5B39.178541%2C%20-120.85381%5D%2C%20%5B25.687316%2C%20-80.384433%5D%2C%20%5B40.066284%2C%20-75.313286%5D%2C%20%5B33.888965%2C%20-118.189062%5D%2C%20%5B33.629261%2C%20-78.962639%5D%2C%20%5B34.056435%2C%20-118.241708%5D%2C%20%5B35.41033200000001%2C%20-97.525726%5D%2C%20%5B44.98587%2C%20-93.28851%5D%2C%20%5B35.471561%2C%20-97.623367%5D%2C%20%5B40.75073%2C%20-111.70617%5D%2C%20%5B30.478082%2C%20-84.02260799999998%5D%2C%20%5B33.8622%2C%20-112.61376%5D%2C%20%5B45.912106%2C%20-119.263286%5D%2C%20%5B39.853763%2C%20-104.986511%5D%2C%20%5B38.82271%2C%20-120.06346%5D%2C%20%5B33.849815%2C%20-117.87616%5D%2C%20%5B33.941012%2C%20-118.096595%5D%2C%20%5B41.518959%2C%20-73.98675899999998%5D%2C%20%5B40.218815%2C%20-75.32885300000002%5D%2C%20%5B35.180671000000004%2C%20-80.889253%5D%2C%20%5B39.975262%2C%20-76.673233%5D%2C%20%5B38.8737%2C%20-77.04164%5D%2C%20%5B38.668415%2C%20-77.267166%5D%2C%20%5B34.081837%2C%20-118.22374%5D%2C%20%5B26.192309%2C%20-80.151737%5D%2C%20%5B39.755875%2C%20-86.054482%5D%2C%20%5B47.507843%2C%20-122.280746%5D%2C%20%5B32.741215000000004%2C%20-96.826469%5D%2C%20%5B39.806416%2C%20-84.17920699999998%5D%2C%20%5B43.104706%2C%20-75.235221%5D%2C%20%5B27.770901%2C%20-82.712189%5D%2C%20%5B39.978867%2C%20-75.340141%5D%2C%20%5B37.355311%2C%20-77.44659399999998%5D%2C%20%5B36.20352000000001%2C%20-86.7766%5D%2C%20%5B31.704836%2C%20-106.317581%5D%2C%20%5B43.316719%2C%20-115.187564%5D%2C%20%5B33.933914%2C%20-118.279892%5D%2C%20%5B35.795792%2C%20-78.510063%5D%2C%20%5B30.327122%2C%20-97.696121%5D%2C%20%5B36.16815%2C%20-115.15898%5D%2C%20%5B26.062874%2C%20-80.163857%5D%2C%20%5B37.824455%2C%20-122.313889%5D%2C%20%5B37.658447%2C%20-77.497833%5D%2C%20%5B34.064232000000004%2C%20-117.295761%5D%2C%20%5B37.542197%2C%20-121.270688%5D%2C%20%5B41.248848%2C%20-96.084305%5D%2C%20%5B34.828701%2C%20-81.870583%5D%2C%20%5B39.378808%2C%20-108.156806%5D%2C%20%5B33.938621999999995%2C%20-117.400154%5D%2C%20%5B33.452267%2C%20-81.92961899999997%5D%2C%20%5B34.223023%2C%20-118.19056299999998%5D%2C%20%5B29.66497%2C%20-95.528122%5D%2C%20%5B43.17560200000001%2C%20-77.584686%5D%2C%20%5B39.492458%2C%20-119.784668%5D%2C%20%5B41.984043%2C%20-88.077621%5D%2C%20%5B35.165321%2C%20-89.861588%5D%2C%20%5B29.59696%2C%20-95.39777%5D%2C%20%5B39.91767%2C%20-111.81528%5D%2C%20%5B40.78138%2C%20-73.65329%5D%2C%20%5B33.869194%2C%20-117.756668%5D%2C%20%5B35.788151%2C%20-78.515381%5D%2C%20%5B25.931801%2C%20-80.208244%5D%2C%20%5B38.64326%2C%20-90.18925%5D%2C%20%5B30.052303%2C%20-95.61602%5D%2C%20%5B33.974729%2C%20-118.239808%5D%2C%20%5B28.535421000000003%2C%20-81.28411899999998%5D%2C%20%5B39.75948%2C%20-75.04741%5D%2C%20%5B40.183535%2C%20-75.131911%5D%2C%20%5B32.363051%2C%20-86.32167199999998%5D%2C%20%5B28.560105%2C%20-81.379927%5D%2C%20%5B42.87912%2C%20-78.87635%5D%2C%20%5B39.70303300000001%2C%20-86.108253%5D%2C%20%5B33.942074%2C%20-118.011627%5D%2C%20%5B33.025528%2C%20-80.08962199999998%5D%2C%20%5B36.940759%2C%20-121.410935%5D%2C%20%5B28.434385%2C%20-81.40501400000002%5D%2C%20%5B39.980824%2C%20-82.95649%5D%2C%20%5B33.672902%2C%20-112.016008%5D%2C%20%5B46.691455%2C%20-92.453045%5D%2C%20%5B41.548943%2C%20-73.027838%5D%2C%20%5B43.60569%2C%20-123.22482%5D%2C%20%5B29.9356%2C%20-95.529175%5D%2C%20%5B37.621325%2C%20-77.548249%5D%2C%20%5B33.597008%2C%20-80.87078100000002%5D%2C%20%5B33.478203%2C%20-81.953972%5D%2C%20%5B37.12924%2C%20-121.97732%5D%2C%20%5B41.2346%2C%20-96.023827%5D%2C%20%5B43.029922%2C%20-87.99981700000002%5D%2C%20%5B43.148397%2C%20-75.287302%5D%2C%20%5B39.400394%2C%20-77.43692800000002%5D%2C%20%5B34.82236%2C%20-82.60553%5D%2C%20%5B39.802165%2C%20-74.234661%5D%2C%20%5B40.551357%2C%20-74.23164399999997%5D%2C%20%5B34.107109%2C%20-117.742119%5D%2C%20%5B45.082966%2C%20-93.402184%5D%2C%20%5B42.153688%2C%20-88.02792099999998%5D%2C%20%5B34.085614%2C%20-117.689069%5D%2C%20%5B42.93438%2C%20-78.71731%5D%2C%20%5B42.686442%2C%20-84.56761999999998%5D%2C%20%5B41.22027%2C%20-73.0798%5D%2C%20%5B38.610462%2C%20-121.38296499999998%5D%2C%20%5B32.950924%2C%20-117.19848600000002%5D%2C%20%5B40.72367%2C%20-73.72484%5D%2C%20%5B28.506929%2C%20-81.376228%5D%2C%20%5B36.18882%2C%20-86.77314799999998%5D%2C%20%5B35.11547%2C%20-80.92557%5D%2C%20%5B26.09334%2C%20-80.16806%5D%2C%20%5B38.28463%2C%20-104.6052%5D%2C%20%5B42.75271%2C%20-123.35993%5D%2C%20%5B33.715813%2C%20-85.033156%5D%2C%20%5B37.775979%2C%20-122.404821%5D%2C%20%5B32.811058%2C%20-96.849602%5D%2C%20%5B29.701914%2C%20-95.375504%5D%2C%20%5B28.02314%2C%20-82.244713%5D%2C%20%5B25.826215%2C%20-80.333805%5D%2C%20%5B33.973839%2C%20-118.079971%5D%2C%20%5B38.558609%2C%20-121.379501%5D%2C%20%5B45.77099000000001%2C%20-120.0816%5D%2C%20%5B35.385441%2C%20-118.989197%5D%2C%20%5B33.774522%2C%20-118.074915%5D%2C%20%5B38.85946%2C%20-77.06976999999998%5D%2C%20%5B37.486957%2C%20-122.200612%5D%2C%20%5B36.199755%2C%20-117.284302%5D%2C%20%5B32.92807%2C%20-96.7602%5D%2C%20%5B37.475632%2C%20-77.52087399999998%5D%2C%20%5B32.934788%2C%20-96.752327%5D%2C%20%5B38.94063%2C%20-94.583491%5D%2C%20%5B40.744213%2C%20-73.771652%5D%2C%20%5B33.57679%2C%20-84.34111800000002%5D%2C%20%5B39.229492%2C%20-76.665098%5D%2C%20%5B43.14997%2C%20-77.64386999999998%5D%2C%20%5B40.114147%2C%20-123.887428%5D%2C%20%5B42.95191%2C%20-78.75185%5D%2C%20%5B36.032313%2C%20-79.80459%5D%2C%20%5B40.138172%2C%20-76.115448%5D%2C%20%5B30.357304%2C%20-97.700379%5D%2C%20%5B29.509159000000004%2C%20-98.409332%5D%2C%20%5B38.880445%2C%20-77.238446%5D%2C%20%5B29.980597%2C%20-90.058113%5D%2C%20%5B29.784304%2C%20-95.562973%5D%2C%20%5B38.086529%2C%20-121.310516%5D%2C%20%5B33.766090000000005%2C%20-84.49851%5D%2C%20%5B25.84562%2C%20-80.233639%5D%2C%20%5B38.67106500000001%2C%20-121.596023%5D%2C%20%5B40.19986%2C%20-110.782509%5D%2C%20%5B41.212269%2C%20-95.960037%5D%2C%20%5B39.87898%2C%20-83.00224%5D%2C%20%5B34.287612%2C%20-118.406912%5D%2C%20%5B37.346756%2C%20-121.920905%5D%2C%20%5B34.96286%2C%20-82.046265%5D%2C%20%5B34.301769%2C%20-118.47776%5D%2C%20%5B34.153309%2C%20-118.36141200000002%5D%2C%20%5B32.893184000000005%2C%20-96.897944%5D%2C%20%5B30.351812%2C%20-97.749771%5D%2C%20%5B43.79427800000001%2C%20-89.337529%5D%2C%20%5B43.6976%2C%20-92.71997%5D%2C%20%5B25.784065%2C%20-80.28862%5D%2C%20%5B35.153526%2C%20-81.28981%5D%2C%20%5B36.204762%2C%20-86.82135799999998%5D%2C%20%5B41.56933%2C%20-72.33978%5D%2C%20%5B33.753777%2C%20-118.29126%5D%2C%20%5B34.570903%2C%20-80.51595999999998%5D%2C%20%5B44.97062%2C%20-93.29813%5D%2C%20%5B35.13574000000001%2C%20-90.02431999999997%5D%2C%20%5B34.065946999999994%2C%20-117.201106%5D%2C%20%5B35.09445%2C%20-106.56082%5D%2C%20%5B37.36775%2C%20-121.9012%5D%2C%20%5B44.75915%2C%20-93.24793%5D%2C%20%5B33.918732%2C%20-84.292699%5D%2C%20%5B35.41227%2C%20-119.039093%5D%2C%20%5B33.73445%2C%20-117.867717%5D%2C%20%5B42.33633%2C%20-71.11003000000002%5D%2C%20%5B34.74881%2C%20-86.693512%5D%2C%20%5B34.032623%2C%20-117.326462%5D%2C%20%5B37.617027%2C%20-122.154424%5D%2C%20%5B38.49381%2C%20-85.77150999999998%5D%2C%20%5B38.551928%2C%20-121.416698%5D%2C%20%5B30.420211%2C%20-91.051473%5D%2C%20%5B47.641539%2C%20-122.214663%5D%2C%20%5B33.231303000000004%2C%20-111.344059%5D%2C%20%5B45.03289%2C%20-117.9297%5D%2C%20%5B32.738342%2C%20-117.054672%5D%2C%20%5B32.806778%2C%20-96.798752%5D%2C%20%5B40.76074000000001%2C%20-111.889658%5D%2C%20%5B32.885841%2C%20-96.700447%5D%2C%20%5B28.56736%2C%20-81.286006%5D%2C%20%5B34.02446%2C%20-118.46922%5D%2C%20%5B43.144924%2C%20-76.128906%5D%2C%20%5B34.107834000000004%2C%20-118.33078%5D%2C%20%5B34.155045%2C%20-118.310867%5D%2C%20%5B35.394875%2C%20-80.701031%5D%2C%20%5B40.082275%2C%20-75.400887%5D%2C%20%5B39.080704%2C%20-77.50074599999998%5D%2C%20%5B36.123047%2C%20-86.751205%5D%2C%20%5B39.47871%2C%20-86.01247%5D%2C%20%5B45.541666%2C%20-122.270047%5D%2C%20%5B47.56343%2C%20-122.33939%5D%2C%20%5B37.358134%2C%20-77.404302%5D%2C%20%5B33.942707%2C%20-117.278999%5D%2C%20%5B40.831506%2C%20-73.854443%5D%2C%20%5B33.97085%2C%20-118.0813%5D%2C%20%5B37.6633%2C%20-122.105919%5D%2C%20%5B34.010796%2C%20-118.158852%5D%2C%20%5B33.40567%2C%20-81.087242%5D%2C%20%5B30.365026%2C%20-81.668648%5D%2C%20%5B38.574561%2C%20-121.57477%5D%2C%20%5B35.56119%2C%20-97.62069%5D%2C%20%5B33.462032%2C%20-112.065254%5D%2C%20%5B29.406349%2C%20-98.54808%5D%2C%20%5B44.890812%2C%20-93.315693%5D%2C%20%5B36.781147%2C%20-76.24033100000003%5D%2C%20%5B34.583870000000005%2C%20-118.1337%5D%2C%20%5B32.661369%2C%20-97.281418%5D%2C%20%5B41.262913%2C%20-96.179382%5D%2C%20%5B39.011177%2C%20-77.456886%5D%2C%20%5B34.674546%2C%20-92.344029%5D%2C%20%5B42.988369%2C%20-83.69304699999998%5D%2C%20%5B40.76046%2C%20-111.91517%5D%2C%20%5B37.590816%2C%20-122.362953%5D%2C%20%5B27.57354%2C%20-81.816811%5D%2C%20%5B41.237865%2C%20-96.00473%5D%2C%20%5B32.250276%2C%20-110.976234%5D%2C%20%5B47.667961%2C%20-117.218224%5D%2C%20%5B34.734211%2C%20-82.307503%5D%2C%20%5B29.730322%2C%20-95.594963%5D%2C%20%5B44.87596%2C%20-93.03083%5D%2C%20%5B36.759739%2C%20-121.754669%5D%2C%20%5B34.156441%2C%20-118.255173%5D%2C%20%5B34.171692%2C%20-80.79405200000002%5D%2C%20%5B28.52792%2C%20-81.45939%5D%2C%20%5B42.349272%2C%20-83.216228%5D%2C%20%5B42.874889%2C%20-78.862778%5D%2C%20%5B33.797981%2C%20-84.395782%5D%2C%20%5B30.229855%2C%20-92.012138%5D%2C%20%5B42.423241%2C%20-122.851051%5D%2C%20%5B39.111568%2C%20-108.539841%5D%2C%20%5B33.05247%2C%20-117.28858%5D%2C%20%5B43.572169%2C%20-116.233182%5D%2C%20%5B42.53032%2C%20-83.11574%5D%2C%20%5B34.251544%2C%20-117.454706%5D%2C%20%5B40.471165%2C%20-74.296097%5D%2C%20%5B39.957672%2C%20-76.727582%5D%2C%20%5B44.429086%2C%20-121.912375%5D%2C%20%5B30.472939%2C%20-87.226316%5D%2C%20%5B34.613232%2C%20-86.567123%5D%2C%20%5B37.4911%2C%20-122.21863%5D%2C%20%5B30.095097%2C%20-90.928224%5D%2C%20%5B32.68895%2C%20-117.013168%5D%2C%20%5B34.01685%2C%20-117.98548999999998%5D%2C%20%5B33.50411%2C%20-84.228711%5D%2C%20%5B41.579193%2C%20-73.909103%5D%2C%20%5B43.109722%2C%20-89.199844%5D%2C%20%5B33.781084%2C%20-84.496216%5D%2C%20%5B38.029616%2C%20-112.53103%5D%2C%20%5B38.20619%2C%20-86.87086%5D%2C%20%5B28.876140000000003%2C%20-81.28299%5D%2C%20%5B40.665489%2C%20-73.75235%5D%2C%20%5B33.695937%2C%20-117.863677%5D%2C%20%5B43.597057%2C%20-84.08961500000002%5D%2C%20%5B38.23883%2C%20-86.47428000000002%5D%2C%20%5B45.935532%2C%20-123.48864%5D%2C%20%5B40.34703%2C%20-74.47456%5D%2C%20%5B38.040483%2C%20-78.732674%5D%2C%20%5B35.489651%2C%20-97.619003%5D%2C%20%5B29.736177%2C%20-95.60585%5D%2C%20%5B26.14565%2C%20-80.45034%5D%2C%20%5B38.71077%2C%20-112.59983%5D%2C%20%5B35.665781%2C%20-78.698903%5D%2C%20%5B41.00046%2C%20-100.371761%5D%2C%20%5B40.43597000000001%2C%20-79.97368%5D%2C%20%5B45.789462%2C%20-118.243694%5D%2C%20%5B44.918031%2C%20-95.043995%5D%2C%20%5B39.125301%2C%20-123.160347%5D%2C%20%5B41.26841%2C%20-72.97435%5D%2C%20%5B42.438934%2C%20-83.432281%5D%2C%20%5B37.111019%2C%20-93.468391%5D%2C%20%5B33.09816%2C%20-97.22536%5D%2C%20%5B30.290874%2C%20-81.631126%5D%2C%20%5B32.763134%2C%20-96.657265%5D%2C%20%5B40.63176%2C%20-111.83952%5D%2C%20%5B37.354777%2C%20-79.83644100000002%5D%2C%20%5B42.966424%2C%20-75.250523%5D%2C%20%5B25.911959%2C%20-80.210252%5D%2C%20%5B38.58005900000001%2C%20-121.505173%5D%2C%20%5B28.593122%2C%20-81.38203399999998%5D%2C%20%5B34.023922%2C%20-117.558406%5D%2C%20%5B33.94536%2C%20-118.36823%5D%2C%20%5B45.61171%2C%20-122.679276%5D%2C%20%5B29.156683%2C%20-81.077789%5D%2C%20%5B27.981277%2C%20-82.384384%5D%2C%20%5B29.996161%2C%20-90.132591%5D%2C%20%5B33.79541%2C%20-83.743%5D%2C%20%5B47.695938%2C%20-122.332535%5D%2C%20%5B34.735039%2C%20-86.627296%5D%2C%20%5B36.144619%2C%20-119.134303%5D%2C%20%5B34.716743%2C%20-92.185839%5D%2C%20%5B40.018097%2C%20-75.169776%5D%2C%20%5B28.539539%2C%20-82.466942%5D%2C%20%5B28.531853%2C%20-81.413933%5D%2C%20%5B29.961270000000006%2C%20-90.076115%5D%2C%20%5B40.117349%2C%20-123.819438%5D%2C%20%5B38.529327%2C%20-121.470092%5D%2C%20%5B28.51023%2C%20-81.238538%5D%2C%20%5B39.788952%2C%20-86.064301%5D%2C%20%5B37.63419%2C%20-122.10531%5D%2C%20%5B30.064097%2C%20-89.93984300000002%5D%2C%20%5B37.742641%2C%20-121.528954%5D%2C%20%5B47.57861%2C%20-122.20205%5D%2C%20%5B29.689407%2C%20-95.556862%5D%2C%20%5B28.886197%2C%20-82.366339%5D%2C%20%5B42.803154%2C%20-71.096687%5D%2C%20%5B40.70922%2C%20-112.09181%5D%2C%20%5B41.26295%2C%20-96.17168%5D%2C%20%5B35.067059%2C%20-106.53228%5D%2C%20%5B33.482162%2C%20-84.217117%5D%2C%20%5B28.217053000000003%2C%20-82.667055%5D%2C%20%5B40.633408%2C%20-74.93744699999998%5D%2C%20%5B26.517124%2C%20-81.93869000000002%5D%2C%20%5B38.914581%2C%20-84.523521%5D%2C%20%5B30.451105%2C%20-84.334469%5D%2C%20%5B33.966945%2C%20-118.082168%5D%2C%20%5B33.910918%2C%20-117.883722%5D%2C%20%5B33.778290000000005%2C%20-84.241318%5D%2C%20%5B41.830151%2C%20-71.516273%5D%2C%20%5B42.276894%2C%20-84.35884899999998%5D%2C%20%5B38.387091%2C%20-122.71513600000002%5D%2C%20%5B40.978882%2C%20-73.868202%5D%2C%20%5B37.629662%2C%20-122.046913%5D%2C%20%5B35.37008%2C%20-80.66552%5D%2C%20%5B39.68129%2C%20-111.839355%5D%2C%20%5B40.41679%2C%20-74.20459699999998%5D%2C%20%5B35.183964%2C%20-80.82058%5D%2C%20%5B42.477232%2C%20-83.10025300000002%5D%2C%20%5B39.640694%2C%20-84.243256%5D%2C%20%5B27.388636%2C%20-82.441857%5D%2C%20%5B34.26838%2C%20-118.43548%5D%2C%20%5B32.470436%2C%20-90.134338%5D%2C%20%5B41.038389%2C%20-75.315609%5D%2C%20%5B25.76439%2C%20-80.336177%5D%2C%20%5B34.12117%2C%20-117.83276%5D%2C%20%5B37.429688%2C%20-122.102722%5D%2C%20%5B41.968529%2C%20-87.778198%5D%2C%20%5B39.891258%2C%20-84.325859%5D%2C%20%5B42.385328%2C%20-87.963321%5D%2C%20%5B25.971583%2C%20-80.268677%5D%2C%20%5B40.739929%2C%20-111.948853%5D%2C%20%5B40.22903%2C%20-85.558717%5D%2C%20%5B38.00479%2C%20-121.353052%5D%2C%20%5B28.742163%2C%20-81.368462%5D%2C%20%5B26.281238%2C%20-80.12501800000003%5D%2C%20%5B45.279572%2C%20-93.548859%5D%2C%20%5B40.533421%2C%20-89.66452%5D%2C%20%5B35.326965%2C%20-80.737358%5D%2C%20%5B40.708966%2C%20-75.251564%5D%2C%20%5B25.853835%2C%20-80.20931800000002%5D%2C%20%5B33.62558%2C%20-111.89916200000002%5D%2C%20%5B39.019264%2C%20-76.976738%5D%2C%20%5B38.639591%2C%20-122.592468%5D%2C%20%5B40.804735%2C%20-73.267318%5D%2C%20%5B41.147762%2C%20-73.413641%5D%2C%20%5B34.718552%2C%20-118.254517%5D%2C%20%5B26.63603%2C%20-80.20419%5D%2C%20%5B44.20118%2C%20-93.25649%5D%2C%20%5B38.05781%2C%20-121.21026%5D%2C%20%5B28.36891%2C%20-81.367104%5D%2C%20%5B41.176262%2C%20-96.061996%5D%2C%20%5B32.716570000000004%2C%20-96.82881%5D%2C%20%5B36.168968%2C%20-86.606674%5D%2C%20%5B32.807289000000004%2C%20-96.793266%5D%2C%20%5B25.871682%2C%20-80.323297%5D%2C%20%5B35.402041%2C%20-119.028905%5D%2C%20%5B29.8241%2C%20-95.381317%5D%2C%20%5B34.030045%2C%20-118.257095%5D%2C%20%5B32.858666%2C%20-96.652699%5D%2C%20%5B35.037197%2C%20-89.795357%5D%2C%20%5B41.595497%2C%20-73.763962%5D%2C%20%5B25.7307%2C%20-80.317718%5D%2C%20%5B30.0046%2C%20-95.268%5D%2C%20%5B28.27624%2C%20-81.5984%5D%2C%20%5B37.5449%2C%20-77.43849%5D%2C%20%5B40.66697%2C%20-111.88831%5D%2C%20%5B40.731929%2C%20-74.130207%5D%2C%20%5B29.834071999999995%2C%20-95.325462%5D%2C%20%5B38.387341%2C%20-122.71653%5D%2C%20%5B29.702295%2C%20-95.359467%5D%2C%20%5B33.38563%2C%20-111.95325%5D%2C%20%5B45.55735%2C%20-122.90894%5D%2C%20%5B39.732449%2C%20-84.20871700000002%5D%2C%20%5B36.040927%2C%20-86.651605%5D%2C%20%5B28.17671%2C%20-82.75263199999998%5D%2C%20%5B38.574186%2C%20-121.382243%5D%2C%20%5B48.286487%2C%20-116.35182%5D%2C%20%5B40.659334%2C%20-111.95246000000002%5D%2C%20%5B45.06869%2C%20-93.25868%5D%2C%20%5B33.024174%2C%20-96.859688%5D%2C%20%5B36.773491%2C%20-121.603325%5D%2C%20%5B39.6892%2C%20-75.65422%5D%2C%20%5B33.749008%2C%20-118.263123%5D%2C%20%5B39.032172%2C%20-94.500287%5D%2C%20%5B34.27441%2C%20-118.54049%5D%2C%20%5B40.56702%2C%20-122.359863%5D%2C%20%5B33.892574%2C%20-84.25904799999998%5D%2C%20%5B36.43375800000001%2C%20-120.392169%5D%2C%20%5B45.538855%2C%20-118.45816200000002%5D%2C%20%5B39.958208%2C%20-75.165667%5D%2C%20%5B29.44735%2C%20-98.547363%5D%2C%20%5B34.23222%2C%20-82.178139%5D%2C%20%5B32.738170000000004%2C%20-117.05481%5D%2C%20%5B25.768442%2C%20-80.372192%5D%2C%20%5B35.815517%2C%20-78.697914%5D%2C%20%5B41.78346%2C%20-87.6306%5D%2C%20%5B33.74284%2C%20-117.281067%5D%2C%20%5B35.493248%2C%20-97.536774%5D%2C%20%5B32.235816%2C%20-110.98386399999998%5D%2C%20%5B47.60071%2C%20-122.32329%5D%2C%20%5B30.220793%2C%20-81.57133499999998%5D%2C%20%5B42.026039%2C%20-87.814018%5D%2C%20%5B34.028595%2C%20-118.25403500000002%5D%2C%20%5B25.78084%2C%20-80.321281%5D%2C%20%5B25.45329%2C%20-80.47446%5D%2C%20%5B34.54247%2C%20-117.83688%5D%2C%20%5B25.897456%2C%20-80.23540600000003%5D%2C%20%5B34.266078%2C%20-118.472243%5D%2C%20%5B38.496029%2C%20-121.399818%5D%2C%20%5B41.212261%2C%20-95.948547%5D%2C%20%5B35.91362%2C%20-78.68177%5D%2C%20%5B28.960089%2C%20-82.12357800000002%5D%2C%20%5B38.02368900000001%2C%20-121.972104%5D%2C%20%5B35.16169%2C%20-80.741745%5D%2C%20%5B36.845515%2C%20-76.248646%5D%2C%20%5B34.49811500000001%2C%20-117.738426%5D%2C%20%5B33.502449%2C%20-82.713287%5D%2C%20%5B32.863293%2C%20-96.865128%5D%2C%20%5B38.101841%2C%20-121.150821%5D%2C%20%5B47.704118%2C%20-122.328551%5D%2C%20%5B47.056118%2C%20-123.026466%5D%2C%20%5B33.625418%2C%20-84.456962%5D%2C%20%5B28.755728%2C%20-81.362984%5D%2C%20%5B41.581696%2C%20-88.002258%5D%2C%20%5B34.006956%2C%20-117.964227%5D%2C%20%5B39.946449%2C%20-104.98803999999998%5D%2C%20%5B45.823776%2C%20-111.269165%5D%2C%20%5B38.785733%2C%20-90.554768%5D%2C%20%5B38.56178%2C%20-121.6473%5D%2C%20%5B36.079521%2C%20-86.6446%5D%2C%20%5B36.612755%2C%20-121.567032%5D%2C%20%5B28.472620000000006%2C%20-81.23810999999998%5D%2C%20%5B33.905198%2C%20-118.195108%5D%2C%20%5B45.60481%2C%20-87.55249%5D%2C%20%5B36.071857%2C%20-86.636154%5D%2C%20%5B30.458788%2C%20-84.231397%5D%2C%20%5B26.938456%2C%20-82.018456%5D%2C%20%5B37.931938%2C%20-79.22893499999998%5D%2C%20%5B39.878281%2C%20-75.102913%5D%2C%20%5B30.199688%2C%20-81.744469%5D%2C%20%5B44.95444000000001%2C%20-93.09254%5D%2C%20%5B45.135792%2C%20-93.270332%5D%2C%20%5B43.166487%2C%20-73.71417199999998%5D%2C%20%5B35.196858%2C%20-120.602965%5D%2C%20%5B33.570370000000004%2C%20-79.03611%5D%2C%20%5B38.212219%2C%20-85.752785%5D%2C%20%5B38.44713%2C%20-106.35717%5D%2C%20%5B38.13815%2C%20-85.70730999999998%5D%2C%20%5B37.711191%2C%20-121.084843%5D%2C%20%5B39.16577%2C%20-84.50674000000002%5D%2C%20%5B28.53868%2C%20-81.35135600000002%5D%2C%20%5B33.71611%2C%20-84.30637%5D%2C%20%5B40.02245%2C%20-76.1929%5D%2C%20%5B42.38238%2C%20-83.37864%5D%2C%20%5B38.65064%2C%20-90.35181%5D%2C%20%5B39.6956%2C%20-106.66807%5D%2C%20%5B37.84893%2C%20-122.228455%5D%2C%20%5B40.584593%2C%20-73.960267%5D%2C%20%5B30.424297%2C%20-91.150658%5D%2C%20%5B40.02574%2C%20-104.81774%5D%2C%20%5B33.77362%2C%20-84.23501%5D%2C%20%5B42.724152%2C%20-84.50843%5D%2C%20%5B40.177998%2C%20-75.308472%5D%2C%20%5B38.800882%2C%20-77.526746%5D%2C%20%5B40.161907%2C%20-75.118889%5D%2C%20%5B33.368961%2C%20-81.99703199999998%5D%2C%20%5B44.89215%2C%20-93.42618%5D%2C%20%5B40.16198%2C%20-75.882698%5D%2C%20%5B34.015388%2C%20-117.342468%5D%2C%20%5B25.921655%2C%20-80.309191%5D%2C%20%5B41.039829%2C%20-81.662872%5D%2C%20%5B33.676636%2C%20-117.843507%5D%2C%20%5B37.782148%2C%20-121.530841%5D%2C%20%5B32.781226000000004%2C%20-117.138858%5D%2C%20%5B41.595322%2C%20-93.610352%5D%2C%20%5B33.055943%2C%20-97.01149%5D%2C%20%5B40.685263%2C%20-111.98172%5D%2C%20%5B32.83041%2C%20-97.31252%5D%2C%20%5B37.363419%2C%20-121.896942%5D%2C%20%5B41.39435200000001%2C%20-81.640945%5D%2C%20%5B34.8522%2C%20-82.45165300000002%5D%2C%20%5B33.279556%2C%20-87.59970899999998%5D%2C%20%5B39.378358%2C%20-77.407103%5D%2C%20%5B25.876928%2C%20-80.208908%5D%2C%20%5B41.10247%2C%20-74.028183%5D%2C%20%5B41.830189%2C%20-88.077469%5D%2C%20%5B34.499653%2C%20-118.382042%5D%2C%20%5B45.533653%2C%20-122.592766%5D%2C%20%5B41.227043%2C%20-73.716957%5D%2C%20%5B41.908901%2C%20-95.344155%5D%2C%20%5B39.859829%2C%20-121.956467%5D%2C%20%5B39.14768400000001%2C%20-122.148423%5D%2C%20%5B33.957485%2C%20-80.93504300000002%5D%2C%20%5B34.2525%2C%20-119.210833%5D%2C%20%5B41.10658%2C%20-73.422671%5D%2C%20%5B32.06627%2C%20-86.486595%5D%2C%20%5B30.215352000000006%2C%20-81.760865%5D%2C%20%5B28.421416%2C%20-81.397551%5D%2C%20%5B45.1279%2C%20-93.486%5D%2C%20%5B38.495969%2C%20-121.459148%5D%2C%20%5B34.313289000000005%2C%20-79.88433%5D%2C%20%5B45.50442%2C%20-122.56546000000002%5D%2C%20%5B42.4121%2C%20-122.984412%5D%2C%20%5B29.99866%2C%20-90.08046%5D%2C%20%5B30.196616%2C%20-93.253648%5D%2C%20%5B41.670552%2C%20-122.614663%5D%2C%20%5B32.76736%2C%20-97.30831%5D%2C%20%5B29.721922%2C%20-95.559624%5D%2C%20%5B41.53797%2C%20-73.77626%5D%2C%20%5B34.805663%2C%20-82.23044499999997%5D%2C%20%5B41.936806%2C%20-88.11865999999998%5D%2C%20%5B41.11322%2C%20-74.061501%5D%2C%20%5B29.68069%2C%20-95.520926%5D%2C%20%5B35.082802%2C%20-81.705956%5D%2C%20%5B34.077667%2C%20-117.998199%5D%2C%20%5B38.628937%2C%20-90.31842%5D%2C%20%5B33.61637%2C%20-83.92344%5D%2C%20%5B29.924662%2C%20-95.41176%5D%2C%20%5B32.8571%2C%20-96.77046%5D%2C%20%5B32.763081%2C%20-96.824738%5D%2C%20%5B33.796963%2C%20-118.107826%5D%2C%20%5B32.784729%2C%20-96.744438%5D%2C%20%5B37.723713%2C%20-76.388164%5D%2C%20%5B33.68572%2C%20-84.06567%5D%2C%20%5B33.960128999999995%2C%20-118.281105%5D%2C%20%5B37.693218%2C%20-122.052116%5D%2C%20%5B40.75514%2C%20-111.83373%5D%2C%20%5B37.58025%2C%20-77.527519%5D%2C%20%5B43.034141%2C%20-83.675086%5D%2C%20%5B32.73409%2C%20-96.66567%5D%2C%20%5B25.889278%2C%20-80.209335%5D%2C%20%5B40.53979%2C%20-74.29874000000002%5D%2C%20%5B25.457363%2C%20-80.46965%5D%2C%20%5B25.670686%2C%20-80.383957%5D%2C%20%5B42.34584%2C%20-122.87502%5D%2C%20%5B34.162151%2C%20-118.15855%5D%2C%20%5B26.04917%2C%20-80.162582%5D%2C%20%5B34.42512%2C%20-118.58446%5D%2C%20%5B40.245674%2C%20-75.650414%5D%2C%20%5B43.952326%2C%20-89.81752%5D%2C%20%5B42.021976%2C%20-71.246864%5D%2C%20%5B34.029821000000005%2C%20-118.214711%5D%2C%20%5B36.17704000000001%2C%20-95.860893%5D%2C%20%5B45.07297%2C%20-93.31388%5D%2C%20%5B35.751499%2C%20-78.877014%5D%2C%20%5B34.70624%2C%20-82.45374%5D%2C%20%5B42.347683%2C%20-71.231789%5D%2C%20%5B36.187222%2C%20-120.821228%5D%2C%20%5B39.475518%2C%20-76.2721%5D%2C%20%5B35.777813%2C%20-78.560852%5D%2C%20%5B40.650803%2C%20-74.754234%5D%2C%20%5B41.428555%2C%20-73.577225%5D%2C%20%5B28.368292%2C%20-81.389656%5D%2C%20%5B39.48576%2C%20-119.785896%5D%2C%20%5B42.363728%2C%20-83.068893%5D%2C%20%5B37.33575%2C%20-121.85863%5D%2C%20%5B45.588863%2C%20-93.76998%5D%2C%20%5B37.97091%2C%20-122.32034%5D%2C%20%5B38.90366%2C%20-76.833549%5D%2C%20%5B34.08807%2C%20-118.23595%5D%2C%20%5B39.218477%2C%20-76.726895%5D%2C%20%5B35.163129999999995%2C%20-80.89571%5D%2C%20%5B32.782634%2C%20-96.812585%5D%2C%20%5B33.139340000000004%2C%20-117.14472%5D%2C%20%5B40.699169%2C%20-73.996597%5D%2C%20%5B41.357871%2C%20-74.711569%5D%2C%20%5B36.160713%2C%20-95.833267%5D%2C%20%5B34.986759%2C%20-81.94635799999998%5D%2C%20%5B29.73848%2C%20-95.36719%5D%2C%20%5B33.699090000000005%2C%20-84.27083%5D%2C%20%5B34.155546%2C%20-118.432136%5D%2C%20%5B28.03242%2C%20-82.13403000000002%5D%2C%20%5B30.257558000000003%2C%20-81.423252%5D%2C%20%5B38.91313%2C%20-76.85022%5D%2C%20%5B32.694302%2C%20-117.125603%5D%2C%20%5B44.968906%2C%20-93.343636%5D%2C%20%5B42.49144%2C%20-83.03487%5D%2C%20%5B40.68204%2C%20-111.93889%5D%2C%20%5B33.911961%2C%20-84.207985%5D%2C%20%5B40.7607%2C%20-73.84576%5D%2C%20%5B40.149876%2C%20-75.12017800000002%5D%2C%20%5B45.711273%2C%20-121.550186%5D%2C%20%5B29.778673%2C%20-95.531693%5D%2C%20%5B33.461285%2C%20-112.038368%5D%2C%20%5B34.176575%2C%20-118.307968%5D%2C%20%5B34.838902000000004%2C%20-82.42034100000002%5D%2C%20%5B38.38702%2C%20-122.748413%5D%2C%20%5B47.70219%2C%20-117.395111%5D%2C%20%5B36.06094%2C%20-80.180801%5D%2C%20%5B35.14532%2C%20-80.89929000000002%5D%2C%20%5B40.168674%2C%20-76.60791%5D%2C%20%5B42.57595%2C%20-114.05188%5D%2C%20%5B33.672934000000005%2C%20-112.008844%5D%2C%20%5B26.39228%2C%20-80.18668000000002%5D%2C%20%5B40.88065%2C%20-73.86929%5D%2C%20%5B36.16583%2C%20-80.33415%5D%2C%20%5B33.524706%2C%20-112.206284%5D%2C%20%5B34.015591%2C%20-118.17231%5D%2C%20%5B39.375911%2C%20-76.452924%5D%2C%20%5B41.089649%2C%20-73.453812%5D%2C%20%5B34.136486%2C%20-117.57111299999998%5D%2C%20%5B33.637362%2C%20-117.17131%5D%2C%20%5B32.44698%2C%20-93.75676%5D%2C%20%5B35.87355%2C%20-78.83040600000002%5D%2C%20%5B41.77998%2C%20-87.63016%5D%2C%20%5B42.487625%2C%20-83.221863%5D%2C%20%5B34.171982%2C%20-118.532341%5D%2C%20%5B33.945011%2C%20-80.937813%5D%2C%20%5B45.05764%2C%20-93.3978%5D%2C%20%5B35.087799%2C%20-80.845161%5D%2C%20%5B42.438053%2C%20-91.005867%5D%2C%20%5B33.968159%2C%20-118.167679%5D%2C%20%5B38.96283%2C%20-78.44035500000003%5D%2C%20%5B40.643242%2C%20-73.876137%5D%2C%20%5B44.283001%2C%20-94.129883%5D%2C%20%5B26.318411%2C%20-80.116196%5D%2C%20%5B47.09793%2C%20-122.20446%5D%2C%20%5B35.25295999999999%2C%20-80.89134%5D%2C%20%5B38.83466%2C%20-77.44905%5D%2C%20%5B45.39588%2C%20-122.47863999999998%5D%2C%20%5B41.216679%2C%20-73.182259%5D%2C%20%5B34.395645%2C%20-118.884926%5D%2C%20%5B42.13974%2C%20-87.90781%5D%2C%20%5B39.03047%2C%20-76.85369%5D%2C%20%5B34.031452%2C%20-118.19194%5D%2C%20%5B39.17799%2C%20-84.39771%5D%2C%20%5B27.839161%2C%20-82.740799%5D%2C%20%5B25.98899%2C%20-80.16585%5D%2C%20%5B38.86616%2C%20-76.99168%5D%2C%20%5B34.09559%2C%20-118.2441%5D%2C%20%5B34.86822%2C%20-82.46539%5D%2C%20%5B33.884823%2C%20-118.285187%5D%2C%20%5B34.303253000000005%2C%20-118.479774%5D%2C%20%5B40.703284%2C%20-112.0249%5D%2C%20%5B36.155239%2C%20-86.764801%5D%2C%20%5B33.460361%2C%20-112.036369%5D%2C%20%5B40.037666%2C%20-85.72200000000002%5D%2C%20%5B41.828777%2C%20-88.105316%5D%2C%20%5B41.74981%2C%20-72.71993%5D%2C%20%5B33.595974%2C%20-117.244812%5D%2C%20%5B33.763969%2C%20-117.864975%5D%2C%20%5B30.275013%2C%20-97.71212%5D%2C%20%5B34.01993%2C%20-117.54316%5D%2C%20%5B30.215986%2C%20-81.513947%5D%2C%20%5B45.53339%2C%20-122.57873%5D%2C%20%5B30.359056%2C%20-91.121441%5D%2C%20%5B27.891293%2C%20-82.820053%5D%2C%20%5B28.357678000000003%2C%20-81.420486%5D%2C%20%5B30.181648%2C%20-81.62925%5D%2C%20%5B42.68310200000001%2C%20-73.844254%5D%2C%20%5B35.486019%2C%20-97.583344%5D%2C%20%5B34.028942%2C%20-118.226814%5D%2C%20%5B33.759499%2C%20-84.378853%5D%2C%20%5B29.93865%2C%20-95.38724%5D%2C%20%5B37.784866%2C%20-122.392578%5D%2C%20%5B39.855045%2C%20-86.056946%5D%2C%20%5B41.79623%2C%20-88.31759%5D%2C%20%5B39.213711%2C%20-121.006783%5D%2C%20%5B45.090494%2C%20-93.440929%5D%2C%20%5B41.14595%2C%20-73.25962%5D%2C%20%5B33.987667%2C%20-118.453056%5D%2C%20%5B37.992397%2C%20-122.125076%5D%2C%20%5B33.85985%2C%20-118.30998999999998%5D%2C%20%5B42.283859%2C%20-71.043953%5D%2C%20%5B34.07170900000001%2C%20-117.872429%5D%2C%20%5B39.81949%2C%20-121.845033%5D%2C%20%5B34.661171%2C%20-82.647255%5D%2C%20%5B38.660843%2C%20-121.360107%5D%2C%20%5B42.68814%2C%20-123.39253%5D%2C%20%5B34.997429%2C%20-81.99260699999998%5D%2C%20%5B29.751261%2C%20-95.371979%5D%2C%20%5B28.581043%2C%20-81.286346%5D%2C%20%5B44.23386%2C%20-88.42925%5D%2C%20%5B33.93934%2C%20-117.18496%5D%2C%20%5B30.274845000000006%2C%20-97.744133%5D%2C%20%5B33.363803999999995%2C%20-111.894066%5D%2C%20%5B35.00826%2C%20-85.26547%5D%2C%20%5B25.810759%2C%20-80.170868%5D%2C%20%5B35.789409%2C%20-78.6971%5D%2C%20%5B37.714092%2C%20-121.712158%5D%2C%20%5B40.789822%2C%20-73.823463%5D%2C%20%5B27.58881%2C%20-82.15339%5D%2C%20%5B36.790181%2C%20-119.610191%5D%2C%20%5B30.27392%2C%20-97.731422%5D%2C%20%5B33.983013%2C%20-83.966049%5D%2C%20%5B40.592987%2C%20-111.902534%5D%2C%20%5B27.974701%2C%20-82.453629%5D%2C%20%5B35.607736%2C%20-77.434268%5D%2C%20%5B29.92857%2C%20-95.63874%5D%2C%20%5B39.880241%2C%20-104.940239%5D%2C%20%5B33.559268%2C%20-117.673129%5D%2C%20%5B38.91722%2C%20-76.979221%5D%2C%20%5B33.760464%2C%20-84.493477%5D%2C%20%5B33.872082%2C%20-117.686852%5D%2C%20%5B28.480565%2C%20-81.32973%5D%2C%20%5B45.58177%2C%20-122.54351%5D%2C%20%5B30.505148%2C%20-91.163757%5D%2C%20%5B38.188244%2C%20-85.7845%5D%2C%20%5B30.020262%2C%20-95.380089%5D%2C%20%5B34.650269%2C%20-80.018066%5D%2C%20%5B32.84859%2C%20-83.62759%5D%2C%20%5B40.121376%2C%20-88.17189%5D%2C%20%5B40.39415%2C%20-111.83788%5D%2C%20%5B33.937695%2C%20-118.097656%5D%2C%20%5B26.514540000000004%2C%20-80.072075%5D%2C%20%5B29.060389%2C%20-95.454018%5D%2C%20%5B33.77425%2C%20-118.07798%5D%2C%20%5B41.891571%2C%20-72.070778%5D%2C%20%5B30.305578000000004%2C%20-97.639259%5D%2C%20%5B33.938621999999995%2C%20-117.400154%5D%2C%20%5B30.573765%2C%20-87.086761%5D%2C%20%5B26.678591%2C%20-80.069829%5D%2C%20%5B40.158264%2C%20-75.261178%5D%2C%20%5B36.210508%2C%20-86.77574%5D%2C%20%5B41.185439%2C%20-73.138086%5D%2C%20%5B39.93292%2C%20-82.83025%5D%2C%20%5B32.919470000000004%2C%20-96.853011%5D%2C%20%5B35.020405%2C%20-82.146851%5D%2C%20%5B38.489693%2C%20-85.771561%5D%2C%20%5B30.456398%2C%20-91.072067%5D%2C%20%5B42.288788%2C%20-71.567543%5D%2C%20%5B35.291737%2C%20-120.649704%5D%2C%20%5B36.07675%2C%20-86.94475%5D%2C%20%5B36.923236%2C%20-119.793964%5D%2C%20%5B33.462383%2C%20-80.523036%5D%2C%20%5B44.999039%2C%20-93.282684%5D%2C%20%5B30.190359%2C%20-97.770462%5D%2C%20%5B32.773509999999995%2C%20-117.16118%5D%2C%20%5B37.452225%2C%20-122.269127%5D%2C%20%5B34.859295%2C%20-82.427513%5D%2C%20%5B26.548138%2C%20-81.804276%5D%2C%20%5B38.446365%2C%20-121.858734%5D%2C%20%5B41.702212%2C%20-72.805079%5D%2C%20%5B34.745651%2C%20-81.03533900000002%5D%2C%20%5B40.16379000000001%2C%20-76.39513000000002%5D%2C%20%5B47.1577%2C%20-122.35398899999998%5D%2C%20%5B35.37849%2C%20-119.04455%5D%2C%20%5B44.072567%2C%20-121.304458%5D%2C%20%5B32.366852%2C%20-84.851598%5D%2C%20%5B36.160618%2C%20-95.860992%5D%2C%20%5B35.22939%2C%20-80.92477%5D%2C%20%5B36.20607800000001%2C%20-86.771019%5D%2C%20%5B38.425612%2C%20-122.848232%5D%2C%20%5B37.58237800000001%2C%20-122.252899%5D%2C%20%5B35.766506%2C%20-78.73536700000002%5D%2C%20%5B30.525431%2C%20-88.202164%5D%2C%20%5B37.387119%2C%20-77.419726%5D%2C%20%5B30.445475%2C%20-91.179199%5D%2C%20%5B36.837394%2C%20-119.648044%5D%2C%20%5B29.77735%2C%20-95.2754%5D%2C%20%5B34.004375%2C%20-118.063713%5D%2C%20%5B47.177643%2C%20-122.465807%5D%2C%20%5B35.833942%2C%20-78.67308%5D%2C%20%5B37.949184%2C%20-121.166504%5D%2C%20%5B45.068848%2C%20-93.401131%5D%2C%20%5B27.38852%2C%20-82.4519%5D%2C%20%5B39.88551%2C%20-83.04466%5D%2C%20%5B33.733801%2C%20-81.22162%5D%2C%20%5B43.530082%2C%20-123.543399%5D%2C%20%5B39.189201%2C%20-119.753853%5D%2C%20%5B39.88192%2C%20-104.98746%5D%2C%20%5B32.277802%2C%20-90.204903%5D%2C%20%5B26.659988%2C%20-80.070644%5D%2C%20%5B45.241795%2C%20-111.409199%5D%2C%20%5B25.904649%2C%20-80.24203299999998%5D%2C%20%5B33.546909%2C%20-84.279053%5D%2C%20%5B33.930893%2C%20-118.300312%5D%2C%20%5B40.461891%2C%20-77.494324%5D%2C%20%5B35.34405800000001%2C%20-82.443026%5D%2C%20%5B35.101593%2C%20-89.805138%5D%2C%20%5B36.9611%2C%20-81.06474%5D%2C%20%5B33.523769%2C%20-112.06501000000002%5D%2C%20%5B34.016185%2C%20-118.172502%5D%2C%20%5B32.74985%2C%20-117.15538%5D%2C%20%5B42.36361%2C%20-87.92987%5D%2C%20%5B45.06568%2C%20-93.44813%5D%2C%20%5B34.028991999999995%2C%20-118.012451%5D%2C%20%5B44.874233%2C%20-93.001389%5D%2C%20%5B39.95331%2C%20-83.00338%5D%2C%20%5B34.0723%2C%20-117.93224%5D%2C%20%5B40.67678%2C%20-74.00142%5D%2C%20%5B35.240494%2C%20-80.737854%5D%2C%20%5B32.797707%2C%20-97.211983%5D%2C%20%5B45.580654%2C%20-122.572121%5D%2C%20%5B34.068639000000005%2C%20-117.974155%5D%2C%20%5B35.174427%2C%20-106.593781%5D%2C%20%5B37.295169%2C%20-120.415315%5D%2C%20%5B42.839588%2C%20-83.846733%5D%2C%20%5B38.007454%2C%20-122.541519%5D%2C%20%5B37.432011%2C%20-120.098502%5D%2C%20%5B29.726833000000006%2C%20-95.374008%5D%2C%20%5B37.0187%2C%20-119.52607%5D%2C%20%5B42.272297%2C%20-85.43448199999997%5D%2C%20%5B41.737263%2C%20-74.063278%5D%2C%20%5B38.631611%2C%20-90.379051%5D%2C%20%5B33.852058%2C%20-117.259654%5D%2C%20%5B47.978666%2C%20-122.179125%5D%2C%20%5B48.596438%2C%20-122.42192%5D%2C%20%5B35.444851%2C%20-97.505028%5D%2C%20%5B26.83497%2C%20-80.0987%5D%2C%20%5B34.612970000000004%2C%20-117.810472%5D%2C%20%5B27.999769%2C%20-82.244461%5D%2C%20%5B36.851025%2C%20-77.893898%5D%2C%20%5B36.089661%2C%20-86.806%5D%2C%20%5B30.166495%2C%20-81.544747%5D%2C%20%5B43.19471%2C%20-77.62878%5D%2C%20%5B35.494282%2C%20-78.124138%5D%2C%20%5B38.318501%2C%20-122.714455%5D%2C%20%5B45.0093%2C%20-93.05678%5D%2C%20%5B32.66687%2C%20-96.945305%5D%2C%20%5B30.44358%2C%20-97.83307%5D%2C%20%5B40.72625%2C%20-89.349136%5D%2C%20%5B37.89950200000001%2C%20-122.210503%5D%2C%20%5B43.28394%2C%20-124.23046%5D%2C%20%5B33.073151%2C%20-111.99626200000002%5D%2C%20%5B41.80967%2C%20-88.07504%5D%2C%20%5B40.29414000000001%2C%20-83.09874%5D%2C%20%5B36.414796%2C%20-86.72063399999998%5D%2C%20%5B30.441475%2C%20-97.69207%5D%2C%20%5B45.552744%2C%20-122.184602%5D%2C%20%5B42.89815%2C%20-78.89747%5D%2C%20%5B38.524895%2C%20-121.467789%5D%2C%20%5B32.904652%2C%20-96.712341%5D%2C%20%5B38.61943%2C%20-121.4359%5D%2C%20%5B34.06841%2C%20-118.03837%5D%2C%20%5B27.444047%2C%20-82.546676%5D%2C%20%5B33.725%2C%20-84.39395%5D%2C%20%5B35.610073%2C%20-80.78607199999998%5D%2C%20%5B41.230391%2C%20-74.177938%5D%2C%20%5B28.751490000000004%2C%20-82.103804%5D%2C%20%5B33.986771000000005%2C%20-118.067154%5D%2C%20%5B37.152908%2C%20-121.652679%5D%2C%20%5B32.221489%2C%20-110.935173%5D%2C%20%5B38.344048%2C%20-85.707359%5D%2C%20%5B34.120541%2C%20-118.271158%5D%2C%20%5B39.440441%2C%20-84.322868%5D%2C%20%5B40.670456%2C%20-73.414604%5D%2C%20%5B37.516262%2C%20-77.189644%5D%2C%20%5B33.521035%2C%20-86.79947%5D%2C%20%5B43.551605%2C%20-71.60991700000002%5D%2C%20%5B35.747704%2C%20-78.835388%5D%2C%20%5B33.520584%2C%20-117.665565%5D%2C%20%5B37.932465%2C%20-122.40328999999998%5D%2C%20%5B39.500967%2C%20-76.33230999999998%5D%2C%20%5B39.789783%2C%20-86.083214%5D%2C%20%5B40.90351%2C%20-74.10133%5D%2C%20%5B40.290717%2C%20-79.913413%5D%2C%20%5B28.067541%2C%20-82.722466%5D%2C%20%5B34.03027%2C%20-117.66279%5D%2C%20%5B35.368614%2C%20-118.967537%5D%2C%20%5B38.631273%2C%20-121.504832%5D%2C%20%5B34.134808%2C%20-117.616226%5D%2C%20%5B41.390669%2C%20-111.59681%5D%2C%20%5B35.86057%2C%20-78.54986%5D%2C%20%5B34.511097%2C%20-81.9935%5D%2C%20%5B33.831592%2C%20-84.337554%5D%2C%20%5B33.61877%2C%20-117.312035%5D%2C%20%5B34.035374%2C%20-118.268639%5D%2C%20%5B26.304335%2C%20-80.119568%5D%2C%20%5B28.607473%2C%20-81.39304399999997%5D%2C%20%5B40.850067%2C%20-73.944817%5D%2C%20%5B30.39299%2C%20-81.56066%5D%2C%20%5B39.02186%2C%20-84.511438%5D%2C%20%5B30.32077%2C%20-81.691139%5D%2C%20%5B29.5205%2C%20-98.50541%5D%2C%20%5B42.228952%2C%20-88.14455799999998%5D%2C%20%5B40.604408%2C%20-89.592628%5D%2C%20%5B38.546088%2C%20-76.091336%5D%2C%20%5B35.441879%2C%20-97.488426%5D%2C%20%5B39.279438%2C%20-121.098979%5D%2C%20%5B39.21584%2C%20-77.53463%5D%2C%20%5B40.971139%2C%20-124.115992%5D%2C%20%5B38.274853%2C%20-85.748886%5D%2C%20%5B39.96704%2C%20-74.91163%5D%2C%20%5B32.717868%2C%20-117.146751%5D%2C%20%5B34.066422%2C%20-81.022377%5D%2C%20%5B32.19191%2C%20-110.855851%5D%2C%20%5B33.232491%2C%20-80.446587%5D%2C%20%5B29.725124%2C%20-94.991494%5D%2C%20%5B33.92815%2C%20-78.641937%5D%2C%20%5B39.241028%2C%20-76.592911%5D%2C%20%5B45.418811%2C%20-122.7439%5D%2C%20%5B35.84181599999999%2C%20-78.57599599999998%5D%2C%20%5B44.25719%2C%20-88.41535999999998%5D%2C%20%5B38.722691%2C%20-121.292799%5D%2C%20%5B37.845083%2C%20-122.486401%5D%2C%20%5B25.927507%2C%20-80.207039%5D%2C%20%5B40.98107%2C%20-73.7474%5D%2C%20%5B37.074242%2C%20-122.084496%5D%2C%20%5B33.72266%2C%20-84.349457%5D%2C%20%5B39.897598%2C%20-86.16503900000002%5D%2C%20%5B39.7033%2C%20-86.107162%5D%2C%20%5B33.912066%2C%20-118.159842%5D%2C%20%5B37.953548%2C%20-121.309486%5D%2C%20%5B42.2276%2C%20-87.97713%5D%2C%20%5B34.221785%2C%20-118.248802%5D%2C%20%5B32.848877%2C%20-96.813553%5D%2C%20%5B44.943027%2C%20-93.347931%5D%2C%20%5B37.85272%2C%20-122.29991%5D%2C%20%5B42.460982%2C%20-83.10586500000002%5D%2C%20%5B45.38268%2C%20-122.75267%5D%2C%20%5B35.838375%2C%20-78.67429399999997%5D%2C%20%5B35.214283%2C%20-80.687256%5D%2C%20%5B37.82575900000001%2C%20-122.303544%5D%2C%20%5B30.472383%2C%20-97.800293%5D%2C%20%5B29.670851000000006%2C%20-95.46183%5D%2C%20%5B39.59349%2C%20-76.06578%5D%2C%20%5B32.77742%2C%20-96.78339%5D%2C%20%5B33.677989000000004%2C%20-117.758206%5D%2C%20%5B35.138040000000004%2C%20-89.86899%5D%2C%20%5B33.554752%2C%20-117.192482%5D%2C%20%5B39.40106%2C%20-74.558962%5D%2C%20%5B33.107548%2C%20-80.11290699999998%5D%2C%20%5B40.77347%2C%20-73.67532%5D%2C%20%5B42.84886%2C%20-85.54926%5D%2C%20%5B33.86855300000001%2C%20-118.001923%5D%2C%20%5B33.965141%2C%20-118.084343%5D%2C%20%5B40.090515%2C%20-75.395859%5D%2C%20%5B32.01408%2C%20-81.23291800000001%5D%2C%20%5B40.727936%2C%20-111.905235%5D%2C%20%5B28.535675%2C%20-81.387741%5D%2C%20%5B37.942619%2C%20-122.477715%5D%2C%20%5B38.85696400000001%2C%20-77.04686%5D%2C%20%5B41.216709%2C%20-96.119537%5D%2C%20%5B33.617668%2C%20-84.398575%5D%2C%20%5B39.95841%2C%20-75.16723%5D%2C%20%5B30.25829%2C%20-81.60349000000002%5D%2C%20%5B41.771629%2C%20-88.048401%5D%2C%20%5B41.873158%2C%20-71.387466%5D%2C%20%5B37.617691%2C%20-104.760185%5D%2C%20%5B39.321795%2C%20-76.48178399999998%5D%2C%20%5B39.9329%2C%20-76.80795%5D%2C%20%5B35.299715%2C%20-80.98269499999998%5D%2C%20%5B42.16244%2C%20-75.87751%5D%2C%20%5B40.81573%2C%20-73.93097%5D%2C%20%5B32.802593%2C%20-117.005341%5D%2C%20%5B39.784272%2C%20-76.96559%5D%2C%20%5B26.100608%2C%20-80.255888%5D%2C%20%5B28.56232%2C%20-81.37853%5D%2C%20%5B40.56768%2C%20-75.518608%5D%2C%20%5B42.514418%2C%20-71.090471%5D%2C%20%5B30.45445%2C%20-91.08715%5D%2C%20%5B26.065707%2C%20-80.20804%5D%2C%20%5B34.234821000000004%2C%20-118.290932%5D%2C%20%5B25.785244%2C%20-80.26505999999998%5D%2C%20%5B32.22861%2C%20-110.92661%5D%2C%20%5B34.039548%2C%20-117.550381%5D%2C%20%5B31.412640000000003%2C%20-83.50399%5D%2C%20%5B37.611361%2C%20-79.603854%5D%2C%20%5B33.94057100000001%2C%20-79.095497%5D%2C%20%5B36.151093%2C%20-86.769402%5D%2C%20%5B29.996012%2C%20-90.046015%5D%2C%20%5B39.19755900000001%2C%20-123.746643%5D%2C%20%5B39.22877%2C%20-77.28293000000002%5D%2C%20%5B34.854737%2C%20-82.509304%5D%2C%20%5B37.762661%2C%20-121.439957%5D%2C%20%5B42.773568%2C%20-73.696686%5D%2C%20%5B47.094223%2C%20-122.619171%5D%2C%20%5B30.433982%2C%20-91.113042%5D%2C%20%5B38.026781%2C%20-121.954401%5D%2C%20%5B41.230129%2C%20-96.043121%5D%2C%20%5B45.59486%2C%20-122.68389%5D%2C%20%5B35.917171%2C%20-78.984414%5D%2C%20%5B43.59971%2C%20-83.94829%5D%2C%20%5B29.956155%2C%20-90.120078%5D%2C%20%5B41.74314%2C%20-72.7348%5D%2C%20%5B32.453331%2C%20-80.732529%5D%2C%20%5B37.630705%2C%20-120.997914%5D%2C%20%5B33.398819%2C%20-82.04744699999998%5D%2C%20%5B30.474222%2C%20-97.799644%5D%2C%20%5B44.81732%2C%20-93.597131%5D%2C%20%5B28.540779%2C%20-81.31064599999998%5D%2C%20%5B41.049227%2C%20-73.537322%5D%2C%20%5B32.853527%2C%20-117.181953%5D%2C%20%5B29.620609%2C%20-95.508339%5D%2C%20%5B47.03607%2C%20-122.38228%5D%2C%20%5B41.90575%2C%20-87.96485899999998%5D%2C%20%5B38.513012%2C%20-90.370758%5D%2C%20%5B38.369675%2C%20-121.957901%5D%2C%20%5B35.24173%2C%20-80.858673%5D%2C%20%5B38.550789%2C%20-122.514992%5D%2C%20%5B41.117845%2C%20-74.118779%5D%2C%20%5B34.001102%2C%20-81.171913%5D%2C%20%5B30.40806%2C%20-91.101921%5D%2C%20%5B32.27689%2C%20-90.20942%5D%2C%20%5B37.80763%2C%20-122.30404%5D%2C%20%5B37.068956%2C%20-121.212497%5D%2C%20%5B39.930653%2C%20-76.814865%5D%2C%20%5B42.69302%2C%20-73.82659%5D%2C%20%5B33.879870000000004%2C%20-117.65542%5D%2C%20%5B37.81052%2C%20-122.36465%5D%2C%20%5B43.804488%2C%20-120.569438%5D%2C%20%5B33.30118%2C%20-85.13372%5D%2C%20%5B30.438885%2C%20-97.672173%5D%2C%20%5B35.015995000000004%2C%20-82.020859%5D%2C%20%5B34.032379%2C%20-118.029152%5D%2C%20%5B27.444056%2C%20-82.58556999999998%5D%2C%20%5B46.07184%2C%20-123.91682%5D%2C%20%5B34.331377%2C%20-116.830175%5D%2C%20%5B33.764568%2C%20-84.49292%5D%2C%20%5B36.598355%2C%20-121.925115%5D%2C%20%5B38.768264%2C%20-79.94524399999997%5D%2C%20%5B28.872016%2C%20-81.284376%5D%2C%20%5B30.434921000000006%2C%20-91.18734%5D%2C%20%5B35.141648%2C%20-118.467582%5D%2C%20%5B45.27184000000001%2C%20-92.98327%5D%2C%20%5B38.662037%2C%20-90.197884%5D%2C%20%5B32.251215%2C%20-111.01388%5D%2C%20%5B44.65161%2C%20-123.06136%5D%2C%20%5B32.235569%2C%20-110.832443%5D%2C%20%5B40.439161%2C%20-79.861646%5D%2C%20%5B34.996719%2C%20-81.946465%5D%2C%20%5B42.477425%2C%20-71.11292399999998%5D%2C%20%5B33.344151000000004%2C%20-79.47319%5D%2C%20%5B42.928207%2C%20-78.89872%5D%2C%20%5B35.19737999999999%2C%20-90.183899%5D%2C%20%5B32.859638000000004%2C%20-96.894394%5D%2C%20%5B33.519802%2C%20-117.61946100000002%5D%2C%20%5B44.96491%2C%20-93.28318%5D%2C%20%5B29.59138%2C%20-98.35171%5D%2C%20%5B32.192513%2C%20-110.975982%5D%2C%20%5B39.282508%2C%20-120.104551%5D%2C%20%5B30.17472%2C%20-97.828097%5D%2C%20%5B35.148453%2C%20-80.830887%5D%2C%20%5B40.740589%2C%20-73.841431%5D%2C%20%5B40.05354000000001%2C%20-83.03187%5D%2C%20%5B29.656966%2C%20-95.253858%5D%2C%20%5B37.79578%2C%20-122.26763%5D%2C%20%5B40.078247%2C%20-75.126488%5D%2C%20%5B39.393185%2C%20-81.43910699999998%5D%2C%20%5B40.99462%2C%20-74.04448000000002%5D%2C%20%5B42.874517%2C%20-89.057126%5D%2C%20%5B34.070129%2C%20-117.86458600000002%5D%2C%20%5B36.433078%2C%20-120.392013%5D%2C%20%5B41.86597%2C%20-87.64442%5D%2C%20%5B45.51104%2C%20-122.68838999999998%5D%2C%20%5B33.461240000000004%2C%20-111.88924%5D%2C%20%5B35.81972899999999%2C%20-78.624001%5D%2C%20%5B32.879486%2C%20-80.71646899999998%5D%2C%20%5B37.815854%2C%20-122.251271%5D%2C%20%5B26.18681%2C%20-80.215141%5D%2C%20%5B40.74374%2C%20-73.84688%5D%2C%20%5B32.88792%2C%20-96.70506%5D%2C%20%5B33.713486%2C%20-84.272713%5D%2C%20%5B33.516681%2C%20-117.66425%5D%2C%20%5B39.854851%2C%20-75.03688000000002%5D%2C%20%5B29.828667%2C%20-95.383803%5D%2C%20%5B30.257305%2C%20-81.437141%5D%2C%20%5B37.43031%2C%20-122.10368%5D%2C%20%5B33.939155%2C%20-117.1994%5D%2C%20%5B42.173866%2C%20-87.984833%5D%2C%20%5B42.4981%2C%20-83.536034%5D%2C%20%5B42.359558%2C%20-83.436134%5D%2C%20%5B25.670927%2C%20-80.365852%5D%2C%20%5B33.097919%2C%20-80.277847%5D%2C%20%5B34.01891%2C%20-118.17353%5D%2C%20%5B47.602573%2C%20-122.334259%5D%2C%20%5B41.60201%2C%20-87.180516%5D%2C%20%5B37.41315%2C%20-121.98333999999998%5D%2C%20%5B38.141441%2C%20-85.583107%5D%2C%20%5B29.67235%2C%20-95.279114%5D%2C%20%5B25.832578%2C%20-80.20597%5D%2C%20%5B41.099754%2C%20-73.951324%5D%2C%20%5B40.57666%2C%20-75.888%5D%2C%20%5B34.137159999999994%2C%20-118.36226%5D%2C%20%5B36.695454%2C%20-119.762718%5D%2C%20%5B41.775738%2C%20-122.582198%5D%2C%20%5B40.844818%2C%20-73.944886%5D%2C%20%5B40.666241%2C%20-73.796745%5D%2C%20%5B27.491323%2C%20-82.472427%5D%2C%20%5B25.882653%2C%20-80.251372%5D%2C%20%5B43.16468%2C%20-77.605522%5D%2C%20%5B29.96592%2C%20-90.01427%5D%2C%20%5B41.304%2C%20-78.686926%5D%2C%20%5B39.778477%2C%20-104.899788%5D%2C%20%5B43.027519%2C%20-88.031723%5D%2C%20%5B30.618916%2C%20-81.64971899999998%5D%2C%20%5B33.427872%2C%20-82.016663%5D%2C%20%5B33.235924%2C%20-87.552032%5D%2C%20%5B37.81053%2C%20-122.36464%5D%2C%20%5B33.731944%2C%20-78.94711099999998%5D%2C%20%5B25.760892%2C%20-80.398847%5D%2C%20%5B33.886955%2C%20-117.26973%5D%2C%20%5B40.316109%2C%20-75.58709%5D%2C%20%5B34.066379%2C%20-117.471245%5D%2C%20%5B35.247006%2C%20-80.788173%5D%2C%20%5B39.71761%2C%20-105.69641%5D%2C%20%5B38.482494%2C%20-76.988524%5D%2C%20%5B25.79875%2C%20-80.32083100000001%5D%2C%20%5B35.304317%2C%20-80.798248%5D%2C%20%5B47.136832%2C%20-95.926734%5D%2C%20%5B35.835419%2C%20-78.596703%5D%2C%20%5B44.42469000000001%2C%20-121.8457%5D%2C%20%5B32.23558%2C%20-110.85022%5D%2C%20%5B34.017846%2C%20-117.533793%5D%2C%20%5B29.686136%2C%20-95.557871%5D%2C%20%5B32.933449%2C%20-96.766983%5D%2C%20%5B35.464252%2C%20-97.583336%5D%2C%20%5B33.734140000000004%2C%20-84.23092%5D%2C%20%5B33.758854%2C%20-78.901901%5D%2C%20%5B35.135529%2C%20-80.891891%5D%2C%20%5B40.84508%2C%20-73.9192%5D%2C%20%5B35.169701%2C%20-85.247658%5D%2C%20%5B29.688955%2C%20-95.604263%5D%2C%20%5B32.967541%2C%20-80.20134%5D%2C%20%5B39.401695%2C%20-77.447147%5D%2C%20%5B33.58523%2C%20-117.6718%5D%2C%20%5B37.499961%2C%20-122.320251%5D%2C%20%5B33.86026%2C%20-117.7174%5D%2C%20%5B39.08802%2C%20-121.551842%5D%2C%20%5B40.721397%2C%20-73.394508%5D%2C%20%5B39.204472%2C%20-94.492455%5D%2C%20%5B42.96244%2C%20-88.00398%5D%2C%20%5B34.884659%2C%20-82.354347%5D%2C%20%5B35.238103%2C%20-118.842515%5D%2C%20%5B33.30035%2C%20-86.809242%5D%2C%20%5B42.273991%2C%20-88.201321%5D%2C%20%5B39.907809%2C%20-122.093891%5D%2C%20%5B32.32943%2C%20-90.33085%5D%2C%20%5B25.748028%2C%20-80.320137%5D%2C%20%5B41.79628%2C%20-71.92071%5D%2C%20%5B36.241337%2C%20-86.757347%5D%2C%20%5B36.09825900000001%2C%20-95.859642%5D%2C%20%5B38.22662%2C%20-85.82186999999998%5D%2C%20%5B39.099736%2C%20-84.505026%5D%2C%20%5B36.430889%2C%20-78.295578%5D%2C%20%5B33.043664%2C%20-80.082932%5D%2C%20%5B25.895551%2C%20-80.190748%5D%2C%20%5B42.988159%2C%20-83.713043%5D%2C%20%5B39.051102%2C%20-94.790306%5D%2C%20%5B33.978486%2C%20-118.078208%5D%2C%20%5B37.884079%2C%20-122.053307%5D%2C%20%5B43.06237%2C%20-124.41526%5D%2C%20%5B41.66267%2C%20-87.59124%5D%2C%20%5B40.57400300000001%2C%20-111.89999%5D%2C%20%5B42.687431%2C%20-73.808525%5D%2C%20%5B38.62989%2C%20-90.268028%5D%2C%20%5B39.639496%2C%20-84.23159%5D%2C%20%5B32.351695%2C%20-110.995617%5D%2C%20%5B35.059517%2C%20-85.13022600000002%5D%2C%20%5B35.15591%2C%20-80.74838299999998%5D%2C%20%5B39.10877%2C%20-94.62091%5D%2C%20%5B25.876713%2C%20-80.169187%5D%2C%20%5B39.874321%2C%20-86.264854%5D%2C%20%5B43.104038%2C%20-77.436562%5D%2C%20%5B32.718231%2C%20-96.947166%5D%2C%20%5B44.43418%2C%20-121.95097%5D%2C%20%5B34.439747%2C%20-81.761505%5D%2C%20%5B43.178661%2C%20-77.683739%5D%2C%20%5B32.7769%2C%20-96.62412%5D%2C%20%5B42.17465%2C%20-119.94941%5D%2C%20%5B38.883823%2C%20-77.151027%5D%2C%20%5B43.091961%2C%20-83.557877%5D%2C%20%5B40.82439%2C%20-73.53017%5D%2C%20%5B37.544556%2C%20-77.440155%5D%2C%20%5B32.67099%2C%20-96.97586%5D%2C%20%5B44.860998%2C%20-89.639062%5D%2C%20%5B34.00185%2C%20-117.83457%5D%2C%20%5B32.79319%2C%20-96.746727%5D%2C%20%5B45.376379%2C%20-122.7552%5D%2C%20%5B34.548672%2C%20-92.767322%5D%2C%20%5B40.78392%2C%20-72.978554%5D%2C%20%5B40.198669%2C%20-74.02861%5D%2C%20%5B32.359852000000004%2C%20-86.215271%5D%2C%20%5B34.13671%2C%20-117.55071%5D%2C%20%5B40.811966%2C%20-73.34234599999998%5D%2C%20%5B42.978324%2C%20-82.47569%5D%2C%20%5B31.317459000000003%2C%20-89.412918%5D%2C%20%5B37.719375%2C%20-121.660599%5D%2C%20%5B39.04856%2C%20-94.64327%5D%2C%20%5B33.97472%2C%20-118.239021%5D%2C%20%5B25.702121%2C%20-80.337124%5D%2C%20%5B40.80759000000001%2C%20-73.92654%5D%2C%20%5B38.12854%2C%20-121.586052%5D%2C%20%5B45.0205%2C%20-93.18908%5D%2C%20%5B33.96836%2C%20-118.37213%5D%2C%20%5B42.30934%2C%20-87.89228%5D%2C%20%5B32.78459%2C%20-96.76873%5D%2C%20%5B33.89782%2C%20-117.275139%5D%2C%20%5B33.728065%2C%20-117.807281%5D%2C%20%5B47.651451%2C%20-117.424942%5D%2C%20%5B39.08099%2C%20-78.21419%5D%2C%20%5B34.073055%2C%20-117.20085%5D%2C%20%5B37.695568%2C%20-122.077179%5D%2C%20%5B40.314785%2C%20-121.000007%5D%2C%20%5B32.729805%2C%20-97.606605%5D%2C%20%5B38.060106%2C%20-77.504028%5D%2C%20%5B32.779467%2C%20-117.066254%5D%2C%20%5B35.081989%2C%20-89.945877%5D%2C%20%5B41.300091%2C%20-123.545479%5D%2C%20%5B28.337158%2C%20-81.403628%5D%2C%20%5B30.429111%2C%20-91.176117%5D%2C%20%5B35.970579%2C%20-86.568478%5D%2C%20%5B40.62655%2C%20-74.24335%5D%2C%20%5B35.3122%2C%20-117.9869%5D%2C%20%5B37.774185%2C%20-122.406418%5D%2C%20%5B40.749256%2C%20-73.756798%5D%2C%20%5B28.57903%2C%20-81.30901999999998%5D%2C%20%5B37.630424%2C%20-122.114027%5D%2C%20%5B33.305439%2C%20-111.972054%5D%2C%20%5B34.346146000000005%2C%20-81.108406%5D%2C%20%5B44.35901%2C%20-124.09236%5D%2C%20%5B45.706809%2C%20-121.575322%5D%2C%20%5B47.604622%2C%20-122.338745%5D%2C%20%5B36.177559%2C%20-86.749939%5D%2C%20%5B44.7698%2C%20-93.28846%5D%2C%20%5B34.848345%2C%20-82.444307%5D%2C%20%5B34.140844%2C%20-80.913516%5D%2C%20%5B37.237545%2C%20-93.325027%5D%2C%20%5B27.485327%2C%20-82.433838%5D%2C%20%5B33.713711%2C%20-84.245148%5D%2C%20%5B35.36671%2C%20-117.61961%5D%2C%20%5B41.020569%2C%20-76.846809%5D%2C%20%5B28.68998%2C%20-81.38976%5D%2C%20%5B36.692382%2C%20-119.75865%5D%2C%20%5B33.492603%2C%20-117.024986%5D%2C%20%5B38.55521%2C%20-121.40331%5D%2C%20%5B28.41691%2C%20-81.47399999999998%5D%2C%20%5B34.602146000000005%2C%20-117.66705%5D%2C%20%5B34.690563%2C%20-82.99266800000002%5D%2C%20%5B36.694253%2C%20-82.007621%5D%2C%20%5B38.64124%2C%20-121.45096%5D%2C%20%5B42.43723%2C%20-123.26894%5D%2C%20%5B45.440643%2C%20-122.825974%5D%2C%20%5B30.532668%2C%20-87.28546700000003%5D%2C%20%5B38.837349%2C%20-77.44659399999998%5D%2C%20%5B35.38312%2C%20-119.04653%5D%2C%20%5B43.11611%2C%20-77.49656999999998%5D%2C%20%5B35.31197%2C%20-80.758339%5D%2C%20%5B33.93843%2C%20-117.133666%5D%2C%20%5B39.732307%2C%20-84.240646%5D%2C%20%5B38.965824%2C%20-104.75164%5D%2C%20%5B33.651594%2C%20-117.761153%5D%2C%20%5B34.21682%2C%20-119.03391299999998%5D%2C%20%5B25.896236%2C%20-80.291779%5D%2C%20%5B36.9508%2C%20-113.80165%5D%2C%20%5B45.050949%2C%20-123.530854%5D%2C%20%5B43.778747%2C%20-111.829994%5D%2C%20%5B33.521851%2C%20-86.80069%5D%2C%20%5B35.191643%2C%20-90.011429%5D%2C%20%5B30.526426%2C%20-91.126961%5D%2C%20%5B35.43792%2C%20-80.86841%5D%2C%20%5B32.713271%2C%20-117.1382%5D%2C%20%5B32.456542%2C%20-93.723474%5D%2C%20%5B34.604218%2C%20-82.760582%5D%2C%20%5B29.515654%2C%20-98.593132%5D%2C%20%5B33.71273%2C%20-117.96337%5D%2C%20%5B38.81461%2C%20-121.19172%5D%2C%20%5B39.783409000000006%2C%20-105.032692%5D%2C%20%5B29.689075%2C%20-95.281192%5D%2C%20%5B29.867352%2C%20-95.558357%5D%2C%20%5B39.835815%2C%20-86.243439%5D%2C%20%5B45.130367%2C%20-93.422585%5D%2C%20%5B35.870403%2C%20-78.580772%5D%2C%20%5B37.254689%2C%20-121.792392%5D%2C%20%5B34.037040999999995%2C%20-118.291573%5D%2C%20%5B33.874425%2C%20-118.193473%5D%2C%20%5B34.023376%2C%20-117.74958%5D%2C%20%5B30.182905%2C%20-91.989754%5D%2C%20%5B35.431995%2C%20-97.370949%5D%2C%20%5B30.448690000000006%2C%20-91.138901%5D%2C%20%5B32.345242%2C%20-88.764641%5D%2C%20%5B39.013556%2C%20-77.045263%5D%2C%20%5B30.378478%2C%20-83.292526%5D%2C%20%5B37.324336%2C%20-120.851143%5D%2C%20%5B34.11972%2C%20-117.79067%5D%2C%20%5B34.660076000000004%2C%20-86.483673%5D%2C%20%5B40.36184%2C%20-76.70744%5D%2C%20%5B44.87962%2C%20-122.99911000000002%5D%2C%20%5B37.016022%2C%20-76.38636%5D%2C%20%5B34.0041%2C%20-117.55016%5D%2C%20%5B42.9044%2C%20-88.824664%5D%2C%20%5B30.256697%2C%20-97.876854%5D%2C%20%5B34.012489%2C%20-86.79929399999997%5D%2C%20%5B47.391701%2C%20-122.290733%5D%2C%20%5B38.553822%2C%20-121.409431%5D%2C%20%5B33.939173%2C%20-117.18498999999998%5D%2C%20%5B32.994156%2C%20-80.22654%5D%2C%20%5B37.40887100000001%2C%20-122.069984%5D%2C%20%5B33.414066%2C%20-80.667763%5D%2C%20%5B30.60799%2C%20-97.68573%5D%2C%20%5B33.964275%2C%20-118.120211%5D%2C%20%5B39.144478%2C%20-94.561867%5D%2C%20%5B38.459351%2C%20-121.405807%5D%2C%20%5B35.982132%2C%20-78.889944%5D%2C%20%5B34.189713%2C%20-119.142372%5D%2C%20%5B37.733162%2C%20-122.412247%5D%2C%20%5B34.865038%2C%20-120.416357%5D%2C%20%5B32.661007%2C%20-97.073364%5D%2C%20%5B34.222251%2C%20-117.40974%5D%2C%20%5B33.719902000000005%2C%20-117.971983%5D%2C%20%5B37.603428%2C%20-122.064142%5D%2C%20%5B42.330654%2C%20-71.190826%5D%2C%20%5B37.869523%2C%20-122.304749%5D%2C%20%5B32.775490000000005%2C%20-96.78767%5D%2C%20%5B32.441997%2C%20-93.748108%5D%2C%20%5B37.6281%2C%20-77.45832%5D%2C%20%5B30.533836%2C%20-87.086304%5D%2C%20%5B42.155071%2C%20-71.016258%5D%2C%20%5B41.825043%2C%20-73.772102%5D%2C%20%5B34.068657%2C%20-118.042221%5D%2C%20%5B39.44976%2C%20-76.41774000000002%5D%2C%20%5B33.70541%2C%20-117.85478%5D%2C%20%5B47.381321%2C%20-122.652122%5D%2C%20%5B33.590549%2C%20-112.261002%5D%2C%20%5B38.346498%2C%20-120.567799%5D%2C%20%5B32.968575%2C%20-96.821503%5D%2C%20%5B41.924568%2C%20-87.98867800000002%5D%2C%20%5B39.71118900000001%2C%20-105.011009%5D%2C%20%5B40.58255%2C%20-111.89995%5D%2C%20%5B34.14474000000001%2C%20-118.27866000000002%5D%2C%20%5B43.013138%2C%20-83.688362%5D%2C%20%5B30.235483%2C%20-97.857246%5D%2C%20%5B35.321396%2C%20-80.733932%5D%2C%20%5B33.857533000000004%2C%20-118.284775%5D%2C%20%5B28.698195%2C%20-81.55908199999998%5D%2C%20%5B45.047525%2C%20-93.284297%5D%2C%20%5B32.41256%2C%20-93.724279%5D%2C%20%5B47.51944%2C%20-122.198311%5D%2C%20%5B39.142986%2C%20-77.65218399999998%5D%2C%20%5B27.820940000000004%2C%20-82.74833100000002%5D%2C%20%5B28.063687%2C%20-82.705297%5D%2C%20%5B30.303869%2C%20-97.698952%5D%2C%20%5B34.072212%2C%20-117.941742%5D%2C%20%5B26.16639%2C%20-80.148139%5D%2C%20%5B39.23236%2C%20-76.650329%5D%2C%20%5B35.33884000000001%2C%20-80.834328%5D%2C%20%5B41.69973%2C%20-92.72724%5D%2C%20%5B38.025745%2C%20-122.259506%5D%2C%20%5B34.674747%2C%20-82.536873%5D%2C%20%5B33.461490999999995%2C%20-112.392555%5D%2C%20%5B37.78143%2C%20-121.977213%5D%2C%20%5B33.263009999999994%2C%20-111.77267%5D%2C%20%5B34.9193%2C%20-82.099255%5D%2C%20%5B45.55694%2C%20-122.56663%5D%2C%20%5B34.1063%2C%20-117.554398%5D%2C%20%5B39.070629%2C%20-76.635986%5D%2C%20%5B33.799355%2C%20-84.488449%5D%2C%20%5B34.113598%2C%20-79.340561%5D%2C%20%5B40.69662%2C%20-111.94097%5D%2C%20%5B25.693546%2C%20-80.333748%5D%2C%20%5B34.126072%2C%20-117.916306%5D%2C%20%5B32.705917%2C%20-96.814598%5D%2C%20%5B35.757458%2C%20-78.66523000000002%5D%2C%20%5B35.260967%2C%20-80.84123199999998%5D%2C%20%5B42.972855%2C%20-83.765694%5D%2C%20%5B36.17384000000001%2C%20-86.602226%5D%2C%20%5B34.074048%2C%20-117.200543%5D%2C%20%5B43.05125%2C%20-83.615974%5D%2C%20%5B30.491640000000004%2C%20-91.159523%5D%2C%20%5B41.54235%2C%20-72.78029000000002%5D%2C%20%5B34.201462%2C%20-118.47345%5D%2C%20%5B41.93519000000001%2C%20-71.46691%5D%2C%20%5B34.328047%2C%20-119.151641%5D%2C%20%5B33.4701%2C%20-112.03871%5D%2C%20%5B33.714083%2C%20-84.236961%5D%2C%20%5B40.977303000000006%2C%20-73.698433%5D%2C%20%5B40.109032%2C%20-76.488602%5D%2C%20%5B40.15609%2C%20-75.133995%5D%2C%20%5B30.44552%2C%20-91.034218%5D%2C%20%5B29.805940000000003%2C%20-95.56376%5D%2C%20%5B29.91252%2C%20-81.41063299999998%5D%2C%20%5B25.892732%2C%20-80.209536%5D%2C%20%5B32.776718%2C%20-96.752205%5D%2C%20%5B40.368994%2C%20-122.282456%5D%2C%20%5B37.713799%2C%20-75.691536%5D%2C%20%5B33.722965%2C%20-84.502815%5D%2C%20%5B34.135476000000004%2C%20-117.964764%5D%2C%20%5B37.857729%2C%20-122.213401%5D%2C%20%5B33.842934%2C%20-112.135193%5D%2C%20%5B26.157203%2C%20-80.16495%5D%2C%20%5B33.436134%2C%20-111.909569%5D%2C%20%5B35.194123%2C%20-118.89611200000002%5D%2C%20%5B40.49182%2C%20-74.30083%5D%2C%20%5B40.698984%2C%20-111.980211%5D%2C%20%5B45.20067%2C%20-118.01619%5D%2C%20%5B41.38268%2C%20-82.11139%5D%2C%20%5B44.505826%2C%20-92.917891%5D%2C%20%5B45.19497%2C%20-93.55245%5D%2C%20%5B33.590636%2C%20-117.751978%5D%2C%20%5B36.227428%2C%20-86.776016%5D%2C%20%5B43.84418%2C%20-70.23212%5D%2C%20%5B35.18592%2C%20-80.72998%5D%2C%20%5B43.07957800000001%2C%20-75.431549%5D%2C%20%5B33.964283%2C%20-118.120224%5D%2C%20%5B32.92453%2C%20-96.786148%5D%2C%20%5B33.469028%2C%20-82.031784%5D%2C%20%5B40.747072%2C%20-73.848425%5D%2C%20%5B38.036552%2C%20-122.271332%5D%2C%20%5B45.520798%2C%20-122.660721%5D%2C%20%5B37.469491%2C%20-122.157313%5D%2C%20%5B37.701752%2C%20-121.893364%5D%2C%20%5B42.335342%2C%20-71.305183%5D%2C%20%5B33.98885%2C%20-118.13864%5D%2C%20%5B30.185663%2C%20-97.770309%5D%2C%20%5B36.086429%2C%20-86.69872600000002%5D%2C%20%5B36.089054%2C%20-96.007492%5D%2C%20%5B36.07114%2C%20-86.947037%5D%2C%20%5B35.37710999999999%2C%20-97.627426%5D%2C%20%5B38.674575%2C%20-121.741022%5D%2C%20%5B35.594608%2C%20-97.640808%5D%2C%20%5B39.78017%2C%20-105.006439%5D%2C%20%5B40.488495%2C%20-111.940523%5D%2C%20%5B32.839661%2C%20-96.776977%5D%2C%20%5B33.037187%2C%20-83.51555400000002%5D%2C%20%5B32.69384%2C%20-117.121689%5D%2C%20%5B36.60555%2C%20-117.113831%5D%2C%20%5B25.879935%2C%20-80.357455%5D%2C%20%5B30.195103000000003%2C%20-97.624138%5D%2C%20%5B30.173912%2C%20-97.810944%5D%2C%20%5B38.35088%2C%20-121.98589%5D%2C%20%5B40.16982700000001%2C%20-83.090065%5D%2C%20%5B42.27318%2C%20-84.39629000000002%5D%2C%20%5B47.225%2C%20-122.4635%5D%2C%20%5B45.067047%2C%20-93.447754%5D%2C%20%5B34.040569%2C%20-117.409477%5D%2C%20%5B40.286495%2C%20-75.59875500000003%5D%2C%20%5B32.665215%2C%20-97.241417%5D%2C%20%5B40.703926%2C%20-93.84584%5D%2C%20%5B35.840221%2C%20-78.80899000000002%5D%2C%20%5B40.742889%2C%20-73.82985699999998%5D%2C%20%5B35.18701%2C%20-111.71495%5D%2C%20%5B44.936443%2C%20-92.960381%5D%2C%20%5B32.656843%2C%20-83.744046%5D%2C%20%5B34.08668%2C%20-84.690919%5D%2C%20%5B39.79091%2C%20-84.18509%5D%2C%20%5B33.982879%2C%20-117.935032%5D%2C%20%5B34.436359%2C%20-117.572664%5D%2C%20%5B33.278389000000004%2C%20-79.921707%5D%2C%20%5B29.783894%2C%20-95.499062%5D%2C%20%5B38.12047800000001%2C%20-121.56766%5D%2C%20%5B42.350185%2C%20-83.099335%5D%2C%20%5B36.814531%2C%20-78.412695%5D%2C%20%5B36.091431%2C%20-86.828476%5D%2C%20%5B39.870594%2C%20-105.165283%5D%2C%20%5B35.945541%2C%20-78.539253%5D%2C%20%5B40.64200200000001%2C%20-74.288857%5D%2C%20%5B33.973351%2C%20-117.37339%5D%2C%20%5B35.121315%2C%20-85.238075%5D%2C%20%5B33.859909%2C%20-118.299179%5D%2C%20%5B29.69565%2C%20-95.30007%5D%2C%20%5B42.341863%2C%20-76.881271%5D%2C%20%5B45.010361%2C%20-93.166649%5D%2C%20%5B35.67004%2C%20-88.83306%5D%2C%20%5B33.853748%2C%20-117.906706%5D%2C%20%5B40.101002%2C%20-82.926064%5D%2C%20%5B41.01193%2C%20-73.70214%5D%2C%20%5B42.041962%2C%20-87.834061%5D%2C%20%5B34.029697%2C%20-118.256065%5D%2C%20%5B38.669975%2C%20-77.25694200000002%5D%2C%20%5B34.08521%2C%20-80.94536%5D%2C%20%5B38.611126%2C%20-121.510605%5D%2C%20%5B32.82988%2C%20-96.826401%5D%2C%20%5B34.030590000000004%2C%20-117.63316%5D%2C%20%5B35.853806%2C%20-78.825363%5D%2C%20%5B34.037092%2C%20-118.088167%5D%2C%20%5B38.867577%2C%20-77.219902%5D%2C%20%5B34.07283%2C%20-117.775344%5D%2C%20%5B34.244713%2C%20-118.422546%5D%2C%20%5B33.696624%2C%20-84.404719%5D%2C%20%5B42.31319000000001%2C%20-83.21506%5D%2C%20%5B33.082062%2C%20-80.207176%5D%2C%20%5B41.234241%2C%20-95.987839%5D%2C%20%5B35.7478%2C%20-78.83533%5D%2C%20%5B32.748946999999994%2C%20-96.665451%5D%2C%20%5B33.88179%2C%20-117.58371%5D%2C%20%5B38.704854%2C%20-90.674799%5D%2C%20%5B34.886542%2C%20-120.414303%5D%2C%20%5B25.886303%2C%20-80.208988%5D%2C%20%5B42.669529%2C%20-73.74906899999998%5D%2C%20%5B41.047134%2C%20-73.803886%5D%2C%20%5B47.571838%2C%20-122.334511%5D%2C%20%5B33.247898%2C%20-111.841232%5D%2C%20%5B34.854038%2C%20-82.520561%5D%2C%20%5B37.253891%2C%20-121.880722%5D%2C%20%5B44.39853%2C%20-88.428709%5D%2C%20%5B34.034443%2C%20-118.027885%5D%2C%20%5B39.015744%2C%20-77.09734%5D%2C%20%5B34.068366%2C%20-118.21681%5D%2C%20%5B39.097987%2C%20-94.571816%5D%2C%20%5B37.46263%2C%20-121.9024%5D%2C%20%5B30.197283%2C%20-93.218506%5D%2C%20%5B47.571545%2C%20-122.329048%5D%2C%20%5B41.514725%2C%20-81.61541%5D%2C%20%5B33.928497%2C%20-118.280365%5D%2C%20%5B43.030422%2C%20-77.964821%5D%2C%20%5B34.074902%2C%20-118.232674%5D%2C%20%5B42.784348%2C%20-83.786324%5D%2C%20%5B32.33017%2C%20-90.860779%5D%2C%20%5B28.57078%2C%20-81.375664%5D%2C%20%5B35.248444%2C%20-80.855804%5D%2C%20%5B29.936693%2C%20-95.650032%5D%2C%20%5B45.432627%2C%20-122.352351%5D%2C%20%5B39.932697%2C%20-76.711845%5D%2C%20%5B39.86278%2C%20-75.10034%5D%2C%20%5B45.295962%2C%20-122.656771%5D%2C%20%5B29.72892%2C%20-95.37246%5D%2C%20%5B32.76182%2C%20-96.9652%5D%2C%20%5B40.710907%2C%20-73.955963%5D%2C%20%5B28.537055%2C%20-80.98740500000002%5D%2C%20%5B33.38589%2C%20-111.88035%5D%2C%20%5B43.195168%2C%20-89.365425%5D%2C%20%5B35.790863%2C%20-78.67707800000002%5D%2C%20%5B34.026478000000004%2C%20-118.234978%5D%2C%20%5B45.808128%2C%20-94.273552%5D%2C%20%5B39.902401%2C%20-122.583862%5D%2C%20%5B33.911739000000004%2C%20-118.15995%5D%2C%20%5B41.512829%2C%20-88.073479%5D%2C%20%5B34.747311%2C%20-86.775452%5D%2C%20%5B39.05552700000001%2C%20-77.149397%5D%2C%20%5B28.375291%2C%20-81.506412%5D%2C%20%5B30.286419%2C%20-97.706429%5D%2C%20%5B36.486657%2C%20-120.098358%5D%2C%20%5B34.005972%2C%20-118.413666%5D%2C%20%5B37.54435%2C%20-122.287613%5D%2C%20%5B33.567558%2C%20-112.134262%5D%2C%20%5B38.918869%2C%20-76.932182%5D%2C%20%5B42.420678%2C%20-123.119703%5D%2C%20%5B25.843088%2C%20-80.232422%5D%2C%20%5B32.800290000000004%2C%20-96.82167%5D%2C%20%5B34.926239%2C%20-81.934219%5D%2C%20%5B40.018818%2C%20-75.701521%5D%2C%20%5B39.05184600000001%2C%20-94.474258%5D%2C%20%5B45.361896%2C%20-122.584606%5D%2C%20%5B47.28824%2C%20-93.43177%5D%2C%20%5B41.497201%2C%20-94.852798%5D%2C%20%5B30.543467%2C%20-91.176765%5D%2C%20%5B34.106747%2C%20-117.863783%5D%2C%20%5B34.06066%2C%20-118.24775%5D%2C%20%5B39.71162%2C%20-104.99944%5D%2C%20%5B37.54635800000001%2C%20-121.195978%5D%2C%20%5B45.41045%2C%20-122.484127%5D%2C%20%5B33.393321%2C%20-111.580625%5D%2C%20%5B30.46964%2C%20-84.23091%5D%2C%20%5B40.73904%2C%20-73.815155%5D%2C%20%5B40.359791%2C%20-104.983772%5D%2C%20%5B37.364044%2C%20-121.901619%5D%2C%20%5B35.091976%2C%20-80.856339%5D%2C%20%5B34.022215%2C%20-118.277704%5D%2C%20%5B33.772290000000005%2C%20-118.03771%5D%2C%20%5B33.822479%2C%20-84.357925%5D%2C%20%5B40.67942%2C%20-74.00359300000002%5D%2C%20%5B42.40753%2C%20-83.08206%5D%2C%20%5B35.77696599999999%2C%20-78.55896800000002%5D%2C%20%5B41.899612%2C%20-87.988602%5D%2C%20%5B31.884413%2C%20-97.083694%5D%2C%20%5B39.28868%2C%20-76.67243%5D%2C%20%5B33.63735%2C%20-117.17105%5D%2C%20%5B41.385143%2C%20-81.976952%5D%2C%20%5B36.08666%2C%20-80.05833%5D%2C%20%5B32.708069%2C%20-117.147957%5D%2C%20%5B34.16098%2C%20-118.469437%5D%2C%20%5B36.130524%2C%20-86.898972%5D%2C%20%5B41.828903%2C%20-87.705281%5D%2C%20%5B44.885258%2C%20-122.621348%5D%2C%20%5B44.735229%2C%20-92.852638%5D%2C%20%5B30.186569%2C%20-97.773682%5D%2C%20%5B40.682705%2C%20-73.666901%5D%2C%20%5B35.53392%2C%20-82.602448%5D%2C%20%5B39.798946%2C%20-76.967743%5D%2C%20%5B39.076534%2C%20-77.476845%5D%2C%20%5B34.150669%2C%20-118.468231%5D%2C%20%5B39.61777100000001%2C%20-106.463842%5D%2C%20%5B30.35911%2C%20-81.66873000000002%5D%2C%20%5B32.828114%2C%20-96.70884%5D%2C%20%5B39.994328%2C%20-74.87078299999997%5D%2C%20%5B32.921128%2C%20-96.750777%5D%2C%20%5B41.25162%2C%20-73.07525%5D%2C%20%5B41.75714%2C%20-71.43427%5D%2C%20%5B29.7777%2C%20-95.429512%5D%2C%20%5B42.384207%2C%20-122.368058%5D%2C%20%5B30.440872%2C%20-97.66819%5D%2C%20%5B34.0872%2C%20-118.23411000000002%5D%2C%20%5B45.683182%2C%20-122.594276%5D%2C%20%5B30.459421000000006%2C%20-81.649345%5D%2C%20%5B27.33424%2C%20-82.502698%5D%2C%20%5B33.960158%2C%20-118.243072%5D%2C%20%5B37.46253400000001%2C%20-121.925712%5D%2C%20%5B35.06107%2C%20-80.76988%5D%2C%20%5B34.02894000000001%2C%20-118.20356%5D%2C%20%5B37.594049%2C%20-122.232567%5D%2C%20%5B37.633985%2C%20-122.105835%5D%2C%20%5B37.348629%2C%20-121.860378%5D%2C%20%5B40.09207%2C%20-75.16201%5D%2C%20%5B41.104612%2C%20-74.07794399999999%5D%2C%20%5B35.334522%2C%20-80.718414%5D%2C%20%5B35.86236599999999%2C%20-78.627831%5D%2C%20%5B34.147736%2C%20-118.031661%5D%2C%20%5B42.972958%2C%20-85.677216%5D%2C%20%5B39.09098%2C%20-76.71597%5D%2C%20%5B34.154884%2C%20-118.288795%5D%2C%20%5B26.34955%2C%20-80.087837%5D%2C%20%5B41.40196%2C%20-88.19339000000002%5D%2C%20%5B32.796696000000004%2C%20-96.815773%5D%2C%20%5B34.962765000000005%2C%20-89.999245%5D%2C%20%5B25.728773%2C%20-80.42885600000002%5D%2C%20%5B40.847269%2C%20-111.91445%5D%2C%20%5B42.430027%2C%20-83.219402%5D%2C%20%5B40.50435%2C%20-111.89818%5D%2C%20%5B28.377495%2C%20-81.504661%5D%2C%20%5B40.987644%2C%20-73.66999100000002%5D%2C%20%5B25.88582%2C%20-80.20896%5D%2C%20%5B30.394304%2C%20-97.869179%5D%2C%20%5B41.22707%2C%20-96.023888%5D%2C%20%5B34.061184000000004%2C%20-118.164429%5D%2C%20%5B27.26922%2C%20-82.464569%5D%2C%20%5B44.86684%2C%20-93.298889%5D%2C%20%5B35.609798%2C%20-97.567078%5D%2C%20%5B36.021774%2C%20-95.88649%5D%2C%20%5B44.54312%2C%20-93.84347%5D%2C%20%5B30.557531%2C%20-97.692245%5D%2C%20%5B30.52271%2C%20-87.313418%5D%2C%20%5B47.59949%2C%20-122.32765%5D%2C%20%5B40.701691%2C%20-73.490051%5D%2C%20%5B45.12431%2C%20-93.18841%5D%2C%20%5B39.08149%2C%20-94.59363%5D%2C%20%5B32.358723%2C%20-111.089951%5D%2C%20%5B33.650208%2C%20-78.981125%5D%2C%20%5B34.067493%2C%20-117.580544%5D%2C%20%5B35.50779%2C%20-97.601189%5D%2C%20%5B39.032331%2C%20-77.137788%5D%2C%20%5B33.26285%2C%20-83.9075%5D%2C%20%5B40.252792%2C%20-83.062714%5D%2C%20%5B47.680168%2C%20-122.32077%5D%2C%20%5B33.996108%2C%20-117.989574%5D%2C%20%5B25.905552%2C%20-80.211632%5D%2C%20%5B42.065063%2C%20-88.335732%5D%2C%20%5B40.629524%2C%20-77.568015%5D%2C%20%5B38.606761%2C%20-121.431771%5D%2C%20%5B28.55292%2C%20-81.41396%5D%2C%20%5B33.8772%2C%20-118.14545%5D%2C%20%5B40.715458%2C%20-73.993748%5D%2C%20%5B29.850986%2C%20-95.515416%5D%2C%20%5B34.032990000000005%2C%20-118.13831%5D%2C%20%5B26.551946%2C%20-81.87156999999998%5D%2C%20%5B34.07107%2C%20-118.4651%5D%2C%20%5B32.35938%2C%20-111.072632%5D%2C%20%5B34.06142%2C%20-118.16847%5D%2C%20%5B34.057812%2C%20-118.182257%5D%2C%20%5B40.110629%2C%20-82.98034799999998%5D%2C%20%5B47.81398400000001%2C%20-122.140358%5D%2C%20%5B41.507668%2C%20-87.319801%5D%2C%20%5B37.74242%2C%20-121.531723%5D%2C%20%5B32.769034999999995%2C%20-96.805206%5D%2C%20%5B35.347881%2C%20-80.845244%5D%2C%20%5B39.536701%2C%20-119.803429%5D%2C%20%5B40.860289%2C%20-74.388545%5D%2C%20%5B25.891627%2C%20-80.163146%5D%2C%20%5B37.326854%2C%20-80.030905%5D%2C%20%5B34.036842%2C%20-81.11077900000002%5D%2C%20%5B26.019798%2C%20-80.34650400000002%5D%2C%20%5B33.957642%2C%20-80.883781%5D%2C%20%5B34.164516%2C%20-118.29657%5D%2C%20%5B34.039984999999994%2C%20-118.296234%5D%2C%20%5B40.277569%2C%20-76.019536%5D%2C%20%5B41.835711%2C%20-87.91901800000002%5D%2C%20%5B40.754543%2C%20-73.830551%5D%2C%20%5B35.197716%2C%20-113.901695%5D%2C%20%5B28.407490000000006%2C%20-81.40472%5D%2C%20%5B39.80435%2C%20-105.02521000000002%5D%2C%20%5B38.830194%2C%20-77.194319%5D%2C%20%5B39.190014%2C%20-121.634872%5D%2C%20%5B39.606339%2C%20-77.80257399999998%5D%2C%20%5B34.163689%2C%20-118.311737%5D%2C%20%5B32.756889%2C%20-117.222969%5D%2C%20%5B43.212341%2C%20-86.23951%5D%2C%20%5B37.833035%2C%20-122.481491%5D%2C%20%5B29.580219%2C%20-95.387001%5D%2C%20%5B37.97112%2C%20-122.305669%5D%2C%20%5B41.50839600000001%2C%20-74.214738%5D%2C%20%5B32.578005%2C%20-97.319708%5D%2C%20%5B42.41539%2C%20-88.04789%5D%2C%20%5B34.14805%2C%20-118.074327%5D%2C%20%5B33.507896%2C%20-81.19532%5D%2C%20%5B38.75960900000001%2C%20-78.63681%5D%2C%20%5B45.685596%2C%20-111.124634%5D%2C%20%5B39.811905%2C%20-84.254471%5D%2C%20%5B35.846806%2C%20-78.562271%5D%2C%20%5B31.73305%2C%20-106.26756%5D%2C%20%5B40.34513%2C%20-74.47585%5D%2C%20%5B34.581451%2C%20-82.916077%5D%2C%20%5B41.101242%2C%20-73.436012%5D%2C%20%5B47.460262%2C%20-122.2174%5D%2C%20%5B45.57252800000001%2C%20-122.550604%5D%2C%20%5B45.043183%2C%20-93.103487%5D%2C%20%5B40.552132%2C%20-74.172569%5D%2C%20%5B33.77418%2C%20-118.096102%5D%2C%20%5B34.199119%2C%20-118.219746%5D%2C%20%5B40.71504%2C%20-74.29362900000002%5D%2C%20%5B37.94808%2C%20-122.51312%5D%2C%20%5B36.891631%2C%20-76.231171%5D%2C%20%5B33.585026%2C%20-84.513145%5D%2C%20%5B43.00687%2C%20-83.769058%5D%2C%20%5B40.888882%2C%20-74.03868100000003%5D%2C%20%5B42.48623%2C%20-83.46594%5D%2C%20%5B42.47876%2C%20-83.11289000000002%5D%2C%20%5B30.328831%2C%20-97.715828%5D%2C%20%5B44.988289%2C%20-93.237038%5D%2C%20%5B40.85318%2C%20-73.96068000000002%5D%2C%20%5B30.399349%2C%20-97.641098%5D%2C%20%5B30.423092%2C%20-91.139694%5D%2C%20%5B35.227097%2C%20-80.828262%5D%2C%20%5B40.72429%2C%20-111.9451%5D%2C%20%5B27.996487%2C%20-82.546097%5D%2C%20%5B29.84827%2C%20-95.315973%5D%2C%20%5B33.910990000000005%2C%20-84.21488000000002%5D%2C%20%5B35.37735%2C%20-97.459198%5D%2C%20%5B36.091389%2C%20-86.828453%5D%2C%20%5B40.11713%2C%20-74.83055999999998%5D%2C%20%5B44.77189%2C%20-93.28836%5D%2C%20%5B32.66081%2C%20-117.06839%5D%2C%20%5B30.235781%2C%20-92.094688%5D%2C%20%5B32.762421%2C%20-117.204519%5D%2C%20%5B29.720146000000003%2C%20-95.476471%5D%2C%20%5B39.780243%2C%20-104.989578%5D%2C%20%5B37.80067800000001%2C%20-122.429482%5D%2C%20%5B37.517052%2C%20-122.25399%5D%2C%20%5B38.83487%2C%20-77.21812%5D%2C%20%5B30.490666%2C%20-81.64169100000002%5D%2C%20%5B34.956097%2C%20-82.298225%5D%2C%20%5B34.186695%2C%20-118.474022%5D%2C%20%5B38.62875%2C%20-121.405521%5D%2C%20%5B38.38549%2C%20-122.71611%5D%2C%20%5B41.71862%2C%20-87.62521%5D%2C%20%5B34.107169%2C%20-118.24961%5D%2C%20%5B33.868895%2C%20-117.755%5D%2C%20%5B33.89366%2C%20-118.047151%5D%2C%20%5B38.977036%2C%20-77.410278%5D%2C%20%5B47.176278%2C%20-122.466802%5D%2C%20%5B29.732187%2C%20-95.383358%5D%2C%20%5B40.77066%2C%20-112.142763%5D%2C%20%5B34.06597%2C%20-117.489931%5D%2C%20%5B37.628139%2C%20-77.458099%5D%2C%20%5B28.4807%2C%20-81.293571%5D%2C%20%5B39.20137%2C%20-84.520912%5D%2C%20%5B45.60365%2C%20-123.9455%5D%2C%20%5B34.02196%2C%20-117.813129%5D%2C%20%5B40.838039%2C%20-74.8507%5D%2C%20%5B41.339069%2C%20-95.961174%5D%2C%20%5B33.71134%2C%20-84.21434%5D%2C%20%5B38.614868%2C%20-121.150475%5D%2C%20%5B33.91294%2C%20-118.13128%5D%2C%20%5B40.984578000000006%2C%20-81.490288%5D%2C%20%5B37.878185%2C%20-122.307175%5D%2C%20%5B33.614851%2C%20-117.707571%5D%2C%20%5B42.966364%2C%20-78.541546%5D%2C%20%5B32.340391%2C%20-110.716813%5D%2C%20%5B35.2164%2C%20-80.83251%5D%2C%20%5B28.344929%2C%20-81.533867%5D%2C%20%5B30.237139000000006%2C%20-81.515029%5D%2C%20%5B40.87109%2C%20-73.42738299999998%5D%2C%20%5B28.67311%2C%20-81.47633%5D%2C%20%5B35.784111%2C%20-78.653633%5D%2C%20%5B34.836126%2C%20-82.436531%5D%2C%20%5B41.4247%2C%20-81.54595%5D%2C%20%5B33.458906%2C%20-117.655867%5D%2C%20%5B28.825643%2C%20-81.328901%5D%2C%20%5B35.79825200000001%2C%20-78.487503%5D%2C%20%5B34.72361%2C%20-80.726028%5D%2C%20%5B42.305809%2C%20-88.107262%5D%2C%20%5B41.06263%2C%20-81.481171%5D%2C%20%5B34.011211%2C%20-81.148628%5D%2C%20%5B30.442792%2C%20-91.178251%5D%2C%20%5B38.5412%2C%20-90.41925%5D%2C%20%5B29.73171%2C%20-95.410629%5D%2C%20%5B37.88415300000001%2C%20-121.146916%5D%2C%20%5B39.017246%2C%20-94.496809%5D%2C%20%5B42.973335%2C%20-123.336342%5D%2C%20%5B34.031582%2C%20-81.12151300000002%5D%2C%20%5B40.11941%2C%20-75.06741%5D%2C%20%5B41.90586500000001%2C%20-87.965073%5D%2C%20%5B40.66602%2C%20-112.09132%5D%2C%20%5B28.007118%2C%20-82.50500500000003%5D%2C%20%5B32.800266%2C%20-117.149897%5D%2C%20%5B34.986838%2C%20-85.20186600000002%5D%2C%20%5B30.215359000000007%2C%20-97.797508%5D%2C%20%5B33.759471999999995%2C%20-84.378876%5D%2C%20%5B33.291519%2C%20-111.841209%5D%2C%20%5B42.131344%2C%20-71.22261%5D%2C%20%5B25.760891%2C%20-80.393987%5D%2C%20%5B32.99831%2C%20-96.797684%5D%2C%20%5B28.566339000000006%2C%20-81.203407%5D%2C%20%5B30.225013%2C%20-97.695177%5D%2C%20%5B33.864490999999994%2C%20-118.326515%5D%2C%20%5B41.324078%2C%20-72.88282%5D%2C%20%5B39.650375%2C%20-86.110947%5D%2C%20%5B35.481865%2C%20-97.568825%5D%2C%20%5B35.86107600000001%2C%20-78.81489599999998%5D%2C%20%5B45.139054%2C%20-122.842086%5D%2C%20%5B28.662039%2C%20-81.38846600000002%5D%2C%20%5B38.579964%2C%20-77.323257%5D%2C%20%5B40.168708%2C%20-74.919451%5D%2C%20%5B43.048049%2C%20-77.64755799999998%5D%2C%20%5B30.3289%2C%20-81.67681%5D%2C%20%5B32.340070000000004%2C%20-83.76808%5D%2C%20%5B41.259689%2C%20-95.980424%5D%2C%20%5B32.655724%2C%20-96.750473%5D%2C%20%5B38.32849%2C%20-77.50032%5D%2C%20%5B25.92582%2C%20-80.20699%5D%2C%20%5B38.524885%2C%20-121.467771%5D%2C%20%5B34.227247%2C%20-117.261038%5D%2C%20%5B34.233558%2C%20-118.472957%5D%2C%20%5B40.833199%2C%20-73.895119%5D%2C%20%5B30.237949%2C%20-92.064789%5D%2C%20%5B28.390656%2C%20-81.404572%5D%2C%20%5B47.65271%2C%20-117.42803899999998%5D%2C%20%5B43.002048%2C%20-83.765434%5D%2C%20%5B36.307007%2C%20-78.408722%5D%2C%20%5B36.15308%2C%20-86.848625%5D%2C%20%5B33.369934%2C%20-80.99809300000003%5D%2C%20%5B40.694389%2C%20-74.115471%5D%2C%20%5B26.166193%2C%20-80.828041%5D%2C%20%5B34.02808%2C%20-81.101624%5D%2C%20%5B29.38685%2C%20-98.512226%5D%2C%20%5B33.39222%2C%20-112.08197%5D%2C%20%5B26.786169%2C%20-80.30304%5D%2C%20%5B35.82641599999999%2C%20-78.683648%5D%2C%20%5B42.190984%2C%20-121.78161%5D%2C%20%5B32.083981%2C%20-81.279961%5D%2C%20%5B35.034901%2C%20-80.85643%5D%2C%20%5B26.527973%2C%20-80.172661%5D%2C%20%5B34.136691%2C%20-117.551562%5D%2C%20%5B35.991211%2C%20-86.683502%5D%2C%20%5B42.61461%2C%20-121.93187%5D%2C%20%5B39.262264%2C%20-76.706924%5D%2C%20%5B43.087997%2C%20-75.243264%5D%2C%20%5B41.984322%2C%20-87.869766%5D%2C%20%5B38.09955%2C%20-85.82459%5D%2C%20%5B39.033382%2C%20-77.407433%5D%2C%20%5B42.872429%2C%20-87.937119%5D%2C%20%5B36.84476%2C%20-76.17031%5D%2C%20%5B38.88263%2C%20-77.0261%5D%2C%20%5B35.996645%2C%20-86.689589%5D%2C%20%5B38.737999%2C%20-122.146278%5D%2C%20%5B37.862431%2C%20-121.054108%5D%2C%20%5B41.24809000000001%2C%20-76.94288%5D%2C%20%5B39.595047%2C%20-104.847031%5D%2C%20%5B33.964319%2C%20-118.120005%5D%2C%20%5B29.776751%2C%20-95.27169%5D%2C%20%5B39.013489%2C%20-77.042068%5D%2C%20%5B33.596340000000005%2C%20-112.15136%5D%2C%20%5B34.152307%2C%20-117.323818%5D%2C%20%5B41.059824%2C%20-73.84070899999998%5D%2C%20%5B34.227508%2C%20-83.504923%5D%2C%20%5B42.89785%2C%20-83.31159%5D%2C%20%5B40.388626%2C%20-74.179451%5D%2C%20%5B28.583920000000006%2C%20-82.375809%5D%2C%20%5B45.070854%2C%20-93.307121%5D%2C%20%5B33.768364%2C%20-78.873665%5D%2C%20%5B33.578979%2C%20-86.641846%5D%2C%20%5B35.886215%2C%20-78.679497%5D%2C%20%5B41.12748%2C%20-75.343025%5D%2C%20%5B34.100388%2C%20-117.538803%5D%2C%20%5B38.642132%2C%20-121.155083%5D%2C%20%5B34.078789%2C%20-117.341171%5D%2C%20%5B38.805514%2C%20-82.98490600000002%5D%2C%20%5B32.401311%2C%20-86.310375%5D%2C%20%5B29.659672%2C%20-82.408934%5D%2C%20%5B40.600182%2C%20-74.06462900000002%5D%2C%20%5B35.226078%2C%20-80.776726%5D%2C%20%5B40.561977%2C%20-74.322556%5D%2C%20%5B39.602302%2C%20-76.512587%5D%2C%20%5B39.750778%2C%20-75.549377%5D%2C%20%5B32.862148%2C%20-79.96597299999998%5D%2C%20%5B44.88857%2C%20-93.32543%5D%2C%20%5B29.811011%2C%20-95.509554%5D%2C%20%5B32.835377%2C%20-83.612083%5D%2C%20%5B33.742458%2C%20-79.01349599999998%5D%2C%20%5B37.556076%2C%20-122.298843%5D%2C%20%5B32.97639%2C%20-96.71549%5D%2C%20%5B40.539%2C%20-111.89336000000002%5D%2C%20%5B40.64277%2C%20-74.64265%5D%2C%20%5B41.673507%2C%20-72.847578%5D%2C%20%5B30.285212%2C%20-97.744949%5D%2C%20%5B33.950825%2C%20-80.97110699999998%5D%2C%20%5B28.51472%2C%20-81.38989000000002%5D%2C%20%5B28.184062%2C%20-82.46693%5D%2C%20%5B40.6915%2C%20-73.72681%5D%2C%20%5B38.71017%2C%20-90.28631%5D%2C%20%5B32.887905%2C%20-96.705061%5D%2C%20%5B29.790827%2C%20-95.387848%5D%2C%20%5B28.551989000000006%2C%20-81.489685%5D%2C%20%5B41.669704%2C%20-72.833702%5D%2C%20%5B33.979988%2C%20-118.256462%5D%2C%20%5B39.802448%2C%20-86.083572%5D%2C%20%5B27.852526%2C%20-82.664055%5D%2C%20%5B39.744732%2C%20-75.561859%5D%2C%20%5B30.455292%2C%20-97.825653%5D%2C%20%5B26.547203000000003%2C%20-81.795151%5D%2C%20%5B45.047695%2C%20-121.510368%5D%2C%20%5B38.653075%2C%20-121.070419%5D%2C%20%5B41.85963%2C%20-88.04054000000002%5D%2C%20%5B40.7375%2C%20-73.97426999999998%5D%2C%20%5B39.909214%2C%20-77.64899399999999%5D%2C%20%5B38.538754%2C%20-121.37089%5D%2C%20%5B32.91519%2C%20-96.74126%5D%2C%20%5B29.643768%2C%20-95.53949%5D%2C%20%5B35.82542%2C%20-78.62152900000002%5D%2C%20%5B32.642277%2C%20-96.823364%5D%2C%20%5B34.3221%2C%20-83.78784%5D%2C%20%5B34.0889%2C%20-117.994454%5D%2C%20%5B33.500574%2C%20-81.90778%5D%2C%20%5B36.191513%2C%20-86.777618%5D%2C%20%5B42.23797%2C%20-123.04011%5D%2C%20%5B33.444889%2C%20-111.509933%5D%2C%20%5B35.79385%2C%20-78.54879%5D%2C%20%5B30.093374%2C%20-95.414352%5D%2C%20%5B42.369975%2C%20-87.881258%5D%2C%20%5B25.76002%2C%20-80.38545%5D%2C%20%5B29.640062%2C%20-95.248942%5D%2C%20%5B37.969067%2C%20-122.058609%5D%2C%20%5B40.62404%2C%20-111.93879%5D%2C%20%5B40.922924%2C%20-72.712166%5D%2C%20%5B27.479641%2C%20-82.554808%5D%2C%20%5B41.10211%2C%20-73.99729%5D%2C%20%5B45.78608%2C%20-120.04181%5D%2C%20%5B37.534389%2C%20-77.423302%5D%2C%20%5B29.773239%2C%20-95.366959%5D%2C%20%5B29.91793%2C%20-90.1013%5D%2C%20%5B30.579503000000006%2C%20-84.704595%5D%2C%20%5B34.04423%2C%20-118.17015%5D%2C%20%5B29.59992%2C%20-81.575073%5D%2C%20%5B39.384705%2C%20-76.73382600000002%5D%2C%20%5B45.93153%2C%20-94.351799%5D%2C%20%5B42.539639%2C%20-82.890526%5D%2C%20%5B37.232128%2C%20-119.74247%5D%2C%20%5B40.85005%2C%20-73.94481%5D%2C%20%5B30.302252000000006%2C%20-81.91845699999998%5D%2C%20%5B47.69081%2C%20-117.41111%5D%2C%20%5B28.37198%2C%20-81.40245999999998%5D%2C%20%5B34.040081%2C%20-81.092827%5D%2C%20%5B39.783421%2C%20-84.23481%5D%2C%20%5B28.332287%2C%20-82.632646%5D%2C%20%5B41.85996%2C%20-87.64423000000002%5D%2C%20%5B38.519192%2C%20-122.979523%5D%2C%20%5B32.642321%2C%20-96.805511%5D%2C%20%5B41.56973%2C%20-87.74384%5D%2C%20%5B42.950129%2C%20-85.645756%5D%2C%20%5B32.163239000000004%2C%20-110.976372%5D%2C%20%5B29.953215000000004%2C%20-95.537758%5D%2C%20%5B40.000845%2C%20-76.159061%5D%2C%20%5B39.418427%2C%20-76.633957%5D%2C%20%5B39.42419%2C%20-77.42792%5D%2C%20%5B30.282736%2C%20-97.810257%5D%2C%20%5B32.743022%2C%20-116.934326%5D%2C%20%5B37.75437%2C%20-92.50163%5D%2C%20%5B46.1066%2C%20-123.92117%5D%2C%20%5B30.426388%2C%20-97.675634%5D%2C%20%5B38.784598%2C%20-90.482304%5D%2C%20%5B29.379313%2C%20-98.513039%5D%2C%20%5B40.68206%2C%20-112.036549%5D%2C%20%5B34.145901%2C%20-81.23940999999998%5D%2C%20%5B35.888908%2C%20-78.747683%5D%2C%20%5B35.198768%2C%20-120.698128%5D%2C%20%5B33.66283%2C%20-117.78948%5D%2C%20%5B42.97009%2C%20-85.67815999999998%5D%2C%20%5B38.688244%2C%20-121.429256%5D%2C%20%5B35.354361%2C%20-119.252222%5D%2C%20%5B41.175294%2C%20-112.00864%5D%2C%20%5B36.184467%2C%20-119.328682%5D%2C%20%5B42.066661%2C%20-88.21743599999998%5D%2C%20%5B27.539499%2C%20-81.504051%5D%2C%20%5B44.12367%2C%20-121.28537%5D%2C%20%5B33.744976%2C%20-84.390343%5D%2C%20%5B32.860718%2C%20-96.719566%5D%2C%20%5B25.627093%2C%20-80.38489%5D%2C%20%5B27.956661%2C%20-82.46093%5D%2C%20%5B40.47796%2C%20-74.40904%5D%2C%20%5B40.68629%2C%20-74.09731%5D%2C%20%5B33.902703%2C%20-117.463835%5D%2C%20%5B27.754284%2C%20-82.677521%5D%2C%20%5B35.392052%2C%20-97.512611%5D%2C%20%5B33.455166%2C%20-111.839523%5D%2C%20%5B34.263931%2C%20-118.334038%5D%2C%20%5B32.372807%2C%20-86.32225799999998%5D%2C%20%5B44.95177%2C%20-93.17339%5D%2C%20%5B25.942207%2C%20-80.351395%5D%2C%20%5B29.81679%2C%20-95.564003%5D%2C%20%5B48.387718%2C%20-122.64827%5D%2C%20%5B42.06648%2C%20-88.20102%5D%2C%20%5B45.001324%2C%20-93.227409%5D%2C%20%5B40.726677%2C%20-111.967834%5D%2C%20%5B32.691585%2C%20-96.682878%5D%2C%20%5B33.848890000000004%2C%20-118.09397%5D%2C%20%5B33.996356%2C%20-117.550497%5D%2C%20%5B37.50383%2C%20-77.446945%5D%2C%20%5B31.758221%2C%20-106.376717%5D%2C%20%5B32.834808%2C%20-96.673218%5D%2C%20%5B33.943508%2C%20-118.096771%5D%2C%20%5B34.155727%2C%20-118.431236%5D%2C%20%5B26.546032%2C%20-81.88409399999998%5D%2C%20%5B33.802833%2C%20-118.12518%5D%2C%20%5B33.873173%2C%20-118.266052%5D%2C%20%5B37.8524%2C%20-122.02907%5D%2C%20%5B43.293081%2C%20-73.68044%5D%2C%20%5B34.475199%2C%20-82.70384200000002%5D%2C%20%5B33.92907%2C%20-118.36851%5D%2C%20%5B40.101395%2C%20-75.099457%5D%2C%20%5B27.870171000000006%2C%20-82.326572%5D%2C%20%5B38.022038%2C%20-121.96019%5D%2C%20%5B35.769341%2C%20-78.61811800000002%5D%2C%20%5B32.632439%2C%20-117.097298%5D%2C%20%5B32.340070000000004%2C%20-83.76808%5D%2C%20%5B33.507999%2C%20-82.04280899999998%5D%2C%20%5B36.166618%2C%20-86.764786%5D%2C%20%5B40.280845%2C%20-75.481258%5D%2C%20%5B33.17399%2C%20-117.34917%5D%2C%20%5B33.140522%2C%20-117.190117%5D%2C%20%5B42.079266%2C%20-86.41705300000002%5D%2C%20%5B41.70237%2C%20-93.576607%5D%2C%20%5B42.385414%2C%20-83.256872%5D%2C%20%5B33.906216%2C%20-84.475677%5D%2C%20%5B38.580632%2C%20-121.559979%5D%2C%20%5B34.504396%2C%20-82.992077%5D%2C%20%5B34.014507%2C%20-118.138229%5D%2C%20%5B45.374622%2C%20-122.58728%5D%2C%20%5B37.663979%2C%20-121.02828999999998%5D%2C%20%5B28.750663%2C%20-82.104477%5D%2C%20%5B41.752804%2C%20-87.96500400000002%5D%2C%20%5B34.038456%2C%20-118.27401%5D%2C%20%5B34.766040999999994%2C%20-118.799698%5D%2C%20%5B37.282244%2C%20-121.80848600000002%5D%2C%20%5B41.389992%2C%20-73.476875%5D%2C%20%5B36.221695%2C%20-86.761658%5D%2C%20%5B34.15567%2C%20-118.29732%5D%2C%20%5B39.24096%2C%20-76.5884%5D%2C%20%5B37.634426%2C%20-77.544823%5D%2C%20%5B27.639444%2C%20-80.51812%5D%2C%20%5B34.062435%2C%20-118.24916100000002%5D%2C%20%5B36.243881%2C%20-86.756622%5D%2C%20%5B35.623699%2C%20-97.353767%5D%2C%20%5B32.754639000000005%2C%20-96.682861%5D%2C%20%5B40.595833%2C%20-75.33760799999997%5D%2C%20%5B41.902332%2C%20-88.202286%5D%2C%20%5B30.476067%2C%20-97.800835%5D%2C%20%5B37.794338%2C%20-79.39762900000002%5D%2C%20%5B37.350806%2C%20-120.623878%5D%2C%20%5B27.957258000000003%2C%20-82.45694%5D%2C%20%5B37.37737%2C%20-121.94545%5D%2C%20%5B30.475233000000006%2C%20-97.793976%5D%2C%20%5B32.779371999999995%2C%20-117.071181%5D%2C%20%5B35.190956%2C%20-80.96901700000002%5D%2C%20%5B39.973019%2C%20-83.045753%5D%2C%20%5B26.119715%2C%20-80.345047%5D%2C%20%5B38.82497100000001%2C%20-77.043501%5D%2C%20%5B33.40671%2C%20-112.082%5D%2C%20%5B41.04304000000001%2C%20-81.68952%5D%2C%20%5B36.976742%2C%20-121.776291%5D%2C%20%5B39.507468%2C%20-76.269932%5D%2C%20%5B33.02063%2C%20-80.12271899999998%5D%2C%20%5B28.08281%2C%20-82.56045999999998%5D%2C%20%5B37.4101%2C%20-122.0744%5D%2C%20%5B40.70861%2C%20-73.7274%5D%2C%20%5B34.03682%2C%20-118.37755%5D%2C%20%5B37.689242%2C%20-122.136029%5D%2C%20%5B43.005234%2C%20-83.555252%5D%2C%20%5B34.1563%2C%20-118.25498%5D%2C%20%5B32.84187%2C%20-117.02447%5D%2C%20%5B42.43055%2C%20-123.092321%5D%2C%20%5B37.494977%2C%20-122.228052%5D%2C%20%5B32.427761%2C%20-80.72371700000002%5D%2C%20%5B44.972484%2C%20-93.251072%5D%2C%20%5B34.709465%2C%20-80.770881%5D%2C%20%5B35.232492%2C%20-80.80778000000002%5D%2C%20%5B33.74566%2C%20-84.34585%5D%2C%20%5B46.11935%2C%20-92.88804%5D%2C%20%5B30.021627%2C%20-89.95540799999998%5D%2C%20%5B29.407722%2C%20-98.587006%5D%2C%20%5B41.71912%2C%20-72.27871800000001%5D%2C%20%5B38.071437%2C%20-121.765168%5D%2C%20%5B34.171074%2C%20-118.504232%5D%2C%20%5B37.698702%2C%20-77.73795600000003%5D%2C%20%5B33.592187%2C%20-117.759705%5D%2C%20%5B30.89366%2C%20-88.018898%5D%2C%20%5B40.766296%2C%20-73.89471400000002%5D%2C%20%5B28.7287%2C%20-81.37293199999998%5D%2C%20%5B36.06992%2C%20-79.27481%5D%2C%20%5B39.415348%2C%20-77.435234%5D%2C%20%5B41.569027%2C%20-87.356064%5D%2C%20%5B37.68511%2C%20-122.13005%5D%2C%20%5B38.21888%2C%20-85.73525%5D%2C%20%5B33.948279%2C%20-118.231748%5D%2C%20%5B28.344803%2C%20-81.362762%5D%2C%20%5B33.993742%2C%20-117.357677%5D%2C%20%5B39.81215%2C%20-86.1798%5D%2C%20%5B38.594677%2C%20-90.215355%5D%2C%20%5B30.26527%2C%20-97.743858%5D%2C%20%5B40.926765%2C%20-74.918335%5D%2C%20%5B33.799890000000005%2C%20-84.39126%5D%2C%20%5B36.254968%2C%20-119.313243%5D%2C%20%5B40.7741%2C%20-111.9491%5D%2C%20%5B25.939889%2C%20-80.293791%5D%2C%20%5B43.01391%2C%20-115.551956%5D%2C%20%5B37.603901%2C%20-77.467415%5D%2C%20%5B40.795227%2C%20-74.46856700000002%5D%2C%20%5B39.081209%2C%20-122.788863%5D%2C%20%5B37.352702%2C%20-77.404964%5D%2C%20%5B29.474419%2C%20-98.402855%5D%2C%20%5B45.595211%2C%20-122.68423%5D%2C%20%5B34.858003000000004%2C%20-81.92257%5D%2C%20%5B35.018390999999994%2C%20-85.16195400000002%5D%2C%20%5B35.079502000000005%2C%20-89.92707%5D%2C%20%5B29.97188%2C%20-90.052479%5D%2C%20%5B28.552394%2C%20-81.448642%5D%2C%20%5B25.93162%2C%20-80.204338%5D%2C%20%5B34.422232%2C%20-118.584628%5D%2C%20%5B42.568572%2C%20-113.537265%5D%2C%20%5B25.755332%2C%20-80.201686%5D%2C%20%5B32.963459%2C%20-117.096504%5D%2C%20%5B43.09639%2C%20-73.752747%5D%2C%20%5B27.298723%2C%20-82.44823000000002%5D%2C%20%5B29.405388%2C%20-98.48951%5D%2C%20%5B28.20696%2C%20-82.245961%5D%2C%20%5B34.975338%2C%20-81.942123%5D%2C%20%5B33.916349%2C%20-118.265315%5D%2C%20%5B36.225597%2C%20-86.776039%5D%2C%20%5B34.160324%2C%20-118.469985%5D%2C%20%5B39.20676%2C%20-76.60736999999997%5D%2C%20%5B29.848318%2C%20-95.504469%5D%2C%20%5B32.693272%2C%20-96.823097%5D%2C%20%5B38.81979000000001%2C%20-76.89375%5D%2C%20%5B37.479485%2C%20-79.78466800000002%5D%2C%20%5B38.560375%2C%20-121.458427%5D%2C%20%5B45.26557%2C%20-93.010522%5D%2C%20%5B38.00127%2C%20-122.28231%5D%2C%20%5B44.92199%2C%20-95.79862%5D%2C%20%5B35.856171%2C%20-78.641243%5D%2C%20%5B38.863803%2C%20-77.336529%5D%2C%20%5B42.15494%2C%20-88.027884%5D%2C%20%5B33.509228%2C%20-112.04277%5D%2C%20%5B41.916201%2C%20-88.10106%5D%2C%20%5B35.225769%2C%20-80.85073100000002%5D%2C%20%5B29.399639%2C%20-98.532289%5D%2C%20%5B27.521723%2C%20-80.45079799999998%5D%2C%20%5B29.60947%2C%20-95.185287%5D%2C%20%5B38.237377%2C%20-77.498428%5D%2C%20%5B38.510334%2C%20-121.460068%5D%2C%20%5B30.48757%2C%20-91.140373%5D%2C%20%5B33.387459%2C%20-117.240593%5D%2C%20%5B40.17785%2C%20-74.51481%5D%2C%20%5B25.62762%2C%20-80.341566%5D%2C%20%5B40.88638%2C%20-73.89611%5D%2C%20%5B25.809316%2C%20-80.32115999999998%5D%2C%20%5B34.010796%2C%20-118.158852%5D%2C%20%5B35.788942%2C%20-119.782098%5D%2C%20%5B35.82550399999999%2C%20-78.621483%5D%2C%20%5B40.64406%2C%20-111.9294%5D%2C%20%5B33.21816%2C%20-111.87208%5D%2C%20%5B36.11549%2C%20-86.747551%5D%2C%20%5B27.922751%2C%20-82.347749%5D%2C%20%5B30.182718%2C%20-91.990067%5D%2C%20%5B41.884239%2C%20-87.696381%5D%2C%20%5B40.39949%2C%20-80.518658%5D%2C%20%5B43.03493%2C%20-88.04639%5D%2C%20%5B30.40181%2C%20-91.10537%5D%2C%20%5B33.650395%2C%20-112.000741%5D%2C%20%5B44.859108%2C%20-93.531029%5D%2C%20%5B41.75926%2C%20-87.90788%5D%2C%20%5B47.630966%2C%20-122.188461%5D%2C%20%5B41.798843%2C%20-88.072067%5D%2C%20%5B25.598565%2C%20-80.35525200000002%5D%2C%20%5B38.802433%2C%20-90.699203%5D%2C%20%5B30.456253000000004%2C%20-97.669304%5D%2C%20%5B41.61623400000001%2C%20-73.915634%5D%2C%20%5B35.688408%2C%20-120.764176%5D%2C%20%5B40.630699%2C%20-73.925209%5D%2C%20%5B34.06673%2C%20-117.457336%5D%2C%20%5B43.06702%2C%20-71.47173000000002%5D%2C%20%5B26.456075%2C%20-80.17469200000002%5D%2C%20%5B47.194622%2C%20-122.462204%5D%2C%20%5B33.87771%2C%20-118.10016%5D%2C%20%5B40.150681%2C%20-76.608124%5D%2C%20%5B34.278942%2C%20-78.054138%5D%2C%20%5B44.931416%2C%20-93.136406%5D%2C%20%5B33.877022%2C%20-118.133965%5D%2C%20%5B39.740246%2C%20-104.661937%5D%2C%20%5B44.89066%2C%20-93.3995%5D%2C%20%5B33.690290000000005%2C%20-84.49629%5D%2C%20%5B42.276833%2C%20-71.172241%5D%2C%20%5B40.85842%2C%20-111.90469%5D%2C%20%5B33.879365%2C%20-117.557368%5D%2C%20%5B32.102990000000005%2C%20-81.1486%5D%2C%20%5B37.700104%2C%20-121.77881200000002%5D%2C%20%5B40.755638%2C%20-74.2062%5D%2C%20%5B39.553131%2C%20-104.87114%5D%2C%20%5B34.278056%2C%20-119.302222%5D%2C%20%5B28.553156%2C%20-81.382469%5D%2C%20%5B35.609035%2C%20-97.59536%5D%2C%20%5B41.68407%2C%20-93.153494%5D%2C%20%5B42.955662%2C%20-85.653008%5D%2C%20%5B25.916988%2C%20-80.292806%5D%2C%20%5B33.673472%2C%20-117.655356%5D%2C%20%5B43.035339%2C%20-87.945068%5D%2C%20%5B35.130282%2C%20-120.607842%5D%2C%20%5B36.964086%2C%20-121.992406%5D%2C%20%5B28.993462%2C%20-82.455274%5D%2C%20%5B41.890514%2C%20-87.962158%5D%2C%20%5B33.918056%2C%20-84.33802800000002%5D%2C%20%5B33.950069%2C%20-81.113869%5D%2C%20%5B34.078369%2C%20-117.74156200000002%5D%2C%20%5B37.777039%2C%20-122.165665%5D%2C%20%5B27.821062%2C%20-82.664856%5D%2C%20%5B34.2353%2C%20-118.41266%5D%2C%20%5B39.725735%2C%20-75.617111%5D%2C%20%5B33.483105%2C%20-82.097321%5D%2C%20%5B35.236912%2C%20-80.853157%5D%2C%20%5B40.61%2C%20-75.52945%5D%2C%20%5B38.641117%2C%20-121.451767%5D%2C%20%5B34.27799%2C%20-118.50213%5D%2C%20%5B40.163456%2C%20-75.28433199999998%5D%2C%20%5B36.093117%2C%20-86.67887900000002%5D%2C%20%5B34.965389%2C%20-82.234993%5D%2C%20%5B35.454548%2C%20-97.732071%5D%2C%20%5B42.199075%2C%20-87.83206%5D%2C%20%5B35.172806%2C%20-92.700671%5D%2C%20%5B39.86649%2C%20-84.93369%5D%2C%20%5B38.320599%2C%20-85.560585%5D%2C%20%5B43.00015%2C%20-89.19603000000002%5D%2C%20%5B41.30684%2C%20-112.00583%5D%2C%20%5B37.658298%2C%20-77.60291099999998%5D%2C%20%5B33.876289%2C%20-118.102577%5D%2C%20%5B40.643364%2C%20-111.938827%5D%2C%20%5B40.526%2C%20-74.329172%5D%2C%20%5B40.291233%2C%20-74.769401%5D%2C%20%5B37.896877%2C%20-122.071114%5D%2C%20%5B34.064053%2C%20-117.294579%5D%2C%20%5B34.092209000000004%2C%20-80.855476%5D%2C%20%5B28.51146%2C%20-81.39656%5D%2C%20%5B32.290085%2C%20-110.97821%5D%2C%20%5B37.89406%2C%20-122.07567%5D%2C%20%5B38.012489%2C%20-122.08963%5D%2C%20%5B35.334251%2C%20-97.529877%5D%2C%20%5B33.378840999999994%2C%20-111.818733%5D%2C%20%5B38.62875%2C%20-121.405521%5D%2C%20%5B33.3358%2C%20-111.44044%5D%2C%20%5B40.34030900000001%2C%20-90.189425%5D%2C%20%5B35.516438%2C%20-78.55796099999998%5D%2C%20%5B41.16393%2C%20-73.35795%5D%2C%20%5B35.637527%2C%20-78.829575%5D%2C%20%5B45.02232%2C%20-93.91023%5D%2C%20%5B30.475973%2C%20-97.764732%5D%2C%20%5B32.8138%2C%20-96.628322%5D%2C%20%5B33.916307%2C%20-84.48204100000002%5D%2C%20%5B29.737502000000006%2C%20-95.350253%5D%2C%20%5B36.106361%2C%20-86.742882%5D%2C%20%5B33.466904%2C%20-117.66983799999998%5D%2C%20%5B35.217541%2C%20-80.83905%5D%2C%20%5B39.3481%2C%20-76.74249%5D%2C%20%5B44.728149%2C%20-93.155067%5D%2C%20%5B39.423697%2C%20-77.428348%5D%2C%20%5B33.938156%2C%20-117.876497%5D%2C%20%5B33.63874000000001%2C%20-112.3238%5D%2C%20%5B44.87458%2C%20-93.4352%5D%2C%20%5B37.78699%2C%20-122.389859%5D%2C%20%5B34.087394%2C%20-117.662948%5D%2C%20%5B45.58533%2C%20-122.67978%5D%2C%20%5B26.183216%2C%20-80.132416%5D%2C%20%5B38.93234%2C%20-110.48906%5D%2C%20%5B43.05562000000001%2C%20-76.10396999999998%5D%2C%20%5B45.604035%2C%20-122.682669%5D%2C%20%5B34.02276%2C%20-117.81338%5D%2C%20%5B35.698429%2C%20-78.584503%5D%2C%20%5B34.069601%2C%20-118.260666%5D%2C%20%5B36.02643%2C%20-78.94211999999997%5D%2C%20%5B37.966561%2C%20-122.321462%5D%2C%20%5B34.26838%2C%20-118.43548%5D%2C%20%5B39.09713%2C%20-94.572227%5D%2C%20%5B43.185291%2C%20-77.77840400000002%5D%2C%20%5B36.261616%2C%20-86.66114%5D%2C%20%5B34.101795%2C%20-118.250336%5D%2C%20%5B25.627895%2C%20-80.414635%5D%2C%20%5B33.755192%2C%20-87.062218%5D%2C%20%5B36.06042%2C%20-79.40469%5D%2C%20%5B41.248402%2C%20-96.258194%5D%2C%20%5B27.955564000000006%2C%20-82.484746%5D%2C%20%5B38.217581%2C%20-122.603812%5D%2C%20%5B26.368174%2C%20-80.118385%5D%2C%20%5B37.391319%2C%20-121.07003%5D%2C%20%5B42.253731%2C%20-83.30368%5D%2C%20%5B30.469968%2C%20-91.163545%5D%2C%20%5B32.901540000000004%2C%20-96.8979%5D%2C%20%5B33.728159999999995%2C%20-117.80793%5D%2C%20%5B32.864452%2C%20-96.703865%5D%2C%20%5B30.331551%2C%20-98.024643%5D%2C%20%5B39.706601%2C%20-122.00333700000002%5D%2C%20%5B45.280338%2C%20-120.021179%5D%2C%20%5B26.527924%2C%20-81.871246%5D%2C%20%5B41.836398%2C%20-88.00004799999998%5D%2C%20%5B38.07081%2C%20-84.53113%5D%2C%20%5B25.863689%2C%20-80.207932%5D%2C%20%5B41.00835%2C%20-73.79661999999998%5D%2C%20%5B37.36371%2C%20-121.8982%5D%2C%20%5B34.26767%2C%20-118.48476%5D%2C%20%5B41.469154%2C%20-81.797165%5D%2C%20%5B33.76239%2C%20-78.800265%5D%2C%20%5B25.657368%2C%20-80.41592%5D%2C%20%5B35.352324%2C%20-119.007559%5D%2C%20%5B35.237614%2C%20-80.940376%5D%2C%20%5B35.392757%2C%20-80.8992%5D%2C%20%5B47.58084%2C%20-122.17737%5D%2C%20%5B33.436073%2C%20-111.926163%5D%2C%20%5B33.948593%2C%20-84.13787099999998%5D%2C%20%5B37.409328%2C%20-121.99865%5D%2C%20%5B45.526753%2C%20-122.658115%5D%2C%20%5B30.535120000000006%2C%20-91.17307%5D%2C%20%5B32.85842%2C%20-96.65275%5D%2C%20%5B41.666542%2C%20-71.499496%5D%2C%20%5B42.340761%2C%20-122.928772%5D%2C%20%5B29.808245%2C%20-95.492989%5D%2C%20%5B47.827091%2C%20-122.23822%5D%2C%20%5B37.082668%2C%20-120.495405%5D%2C%20%5B37.875588%2C%20-122.187732%5D%2C%20%5B32.23612%2C%20-110.883303%5D%2C%20%5B42.533913%2C%20-83.11621099999998%5D%2C%20%5B39.59103%2C%20-106.09853%5D%2C%20%5B33.737759999999994%2C%20-84.39183%5D%2C%20%5B43.525935%2C%20-71.862672%5D%2C%20%5B34.060631%2C%20-117.545181%5D%2C%20%5B44.061089%2C%20-123.085701%5D%2C%20%5B39.739362%2C%20-121.496504%5D%2C%20%5B32.21246%2C%20-110.857788%5D%2C%20%5B38.89109000000001%2C%20-76.85051%5D%2C%20%5B28.346840000000004%2C%20-81.64267%5D%2C%20%5B40.690006%2C%20-73.632713%5D%2C%20%5B43.28356%2C%20-123.35597%5D%2C%20%5B41.86603%2C%20-71.40269%5D%2C%20%5B33.055943%2C%20-97.01149%5D%2C%20%5B40.923793%2C%20-75.646315%5D%2C%20%5B44.895725%2C%20-93.24733%5D%2C%20%5B35.20349500000001%2C%20-80.747398%5D%2C%20%5B33.77449%2C%20-118.07048%5D%2C%20%5B30.328686%2C%20-81.765345%5D%2C%20%5B37.628452%2C%20-122.120512%5D%2C%20%5B37.015813%2C%20-120.124834%5D%2C%20%5B40.414486%2C%20-111.870277%5D%2C%20%5B32.89951%2C%20-96.89813%5D%2C%20%5B41.94838%2C%20-74.02665%5D%2C%20%5B39.296489%2C%20-77.334974%5D%2C%20%5B30.43166%2C%20-91.080704%5D%2C%20%5B33.91953%2C%20-84.33372%5D%2C%20%5B40.63863%2C%20-112.04644%5D%2C%20%5B45.309999%2C%20-93.789629%5D%2C%20%5B34.068497%2C%20-117.543686%5D%2C%20%5B34.060843%2C%20-93.128041%5D%2C%20%5B45.10466%2C%20-93.00014%5D%2C%20%5B34.877007%2C%20-118.894806%5D%2C%20%5B38.500653%2C%20-121.517683%5D%2C%20%5B42.005%2C%20-88.14268%5D%2C%20%5B34.03389%2C%20-118.35654%5D%2C%20%5B45.06438%2C%20-93.2184%5D%2C%20%5B25.68808%2C%20-80.333534%5D%2C%20%5B47.580242%2C%20-122.174667%5D%2C%20%5B44.83751%2C%20-93.29757%5D%2C%20%5B26.529088%2C%20-81.605621%5D%2C%20%5B42.91310900000001%2C%20-83.50155600000002%5D%2C%20%5B34.054806%2C%20-118.203125%5D%2C%20%5B41.87361%2C%20-87.80452%5D%2C%20%5B47.398996%2C%20-122.831944%5D%2C%20%5B30.633369%2C%20-87.039742%5D%2C%20%5B42.114937%2C%20-73.805214%5D%2C%20%5B36.898071%2C%20-121.776558%5D%2C%20%5B35.589664%2C%20-120.695595%5D%2C%20%5B30.67798%2C%20-88.08348000000002%5D%2C%20%5B41.14092%2C%20-111.91639%5D%2C%20%5B37.990417%2C%20-121.895889%5D%2C%20%5B48.78312%2C%20-122.49151%5D%2C%20%5B34.206379%2C%20-86.858734%5D%2C%20%5B33.872032%2C%20-117.665222%5D%2C%20%5B40.63449%2C%20-75.27698000000002%5D%2C%20%5B34.16666%2C%20-117.459068%5D%2C%20%5B32.987101%2C%20-96.847261%5D%2C%20%5B30.210857%2C%20-97.868919%5D%2C%20%5B28.640232%2C%20-81.441633%5D%2C%20%5B39.638554%2C%20-84.22798900000002%5D%2C%20%5B33.0439%2C%20-80.077164%5D%2C%20%5B34.811352%2C%20-82.799599%5D%2C%20%5B39.607037%2C%20-84.21344%5D%2C%20%5B27.4625%2C%20-82.587479%5D%2C%20%5B35.05457%2C%20-80.85036%5D%2C%20%5B41.138489%2C%20-111.830688%5D%2C%20%5B30.475462%2C%20-97.800475%5D%2C%20%5B37.290416%2C%20-122.0957%5D%2C%20%5B40.641159%2C%20-74.014412%5D%2C%20%5B29.825373%2C%20-81.379211%5D%2C%20%5B37.408482%2C%20-122.078079%5D%2C%20%5B33.68821%2C%20-117.91469%5D%2C%20%5B37.06595%2C%20-122.079659%5D%2C%20%5B41.57437%2C%20-87.48507%5D%2C%20%5B29.817739000000003%2C%20-95.490517%5D%2C%20%5B37.691017%2C%20-122.07106%5D%2C%20%5B25.96371%2C%20-80.165722%5D%2C%20%5B38.665039%2C%20-121.538001%5D%2C%20%5B34.17437%2C%20-118.850121%5D%2C%20%5B39.89642%2C%20-83.04687%5D%2C%20%5B34.704971%2C%20-81.243416%5D%2C%20%5B40.98274%2C%20-73.74559%5D%2C%20%5B29.81395%2C%20-95.41114%5D%2C%20%5B37.806862%2C%20-121.990775%5D%2C%20%5B40.84609%2C%20-73.930366%5D%2C%20%5B42.36361%2C%20-87.92987%5D%2C%20%5B38.990898%2C%20-84.504097%5D%2C%20%5B33.831631%2C%20-118.255664%5D%2C%20%5B36.091171%2C%20-95.940132%5D%2C%20%5B43.110877%2C%20-77.553337%5D%2C%20%5B40.068729%2C%20-75.311111%5D%2C%20%5B26.751818%2C%20-80.08991999999998%5D%2C%20%5B34.072063%2C%20-118.07308%5D%2C%20%5B41.34721%2C%20-73.650063%5D%2C%20%5B36.964061%2C%20-120.056412%5D%2C%20%5B45.976585%2C%20-118.438225%5D%2C%20%5B36.409149%2C%20-82.475258%5D%2C%20%5B39.714235%2C%20-86.116493%5D%2C%20%5B39.31461%2C%20-120.20388%5D%2C%20%5B33.779175%2C%20-117.876143%5D%2C%20%5B33.97472%2C%20-118.056168%5D%2C%20%5B34.50956%2C%20-82.69528199999998%5D%2C%20%5B39.77841%2C%20-104.91289%5D%2C%20%5B32.12004%2C%20-110.9608%5D%2C%20%5B33.790569%2C%20-118.282181%5D%2C%20%5B29.645559%2C%20-95.517632%5D%2C%20%5B35.29216%2C%20-80.756393%5D%2C%20%5B27.704632%2C%20-82.02037800000002%5D%2C%20%5B33.505146%2C%20-86.849129%5D%2C%20%5B34.763134%2C%20-82.381546%5D%2C%20%5B39.09847%2C%20-84.51951%5D%2C%20%5B33.190414000000004%2C%20-117.362198%5D%2C%20%5B42.69334%2C%20-84.66884%5D%2C%20%5B33.84883%2C%20-117.53454%5D%2C%20%5B33.71474%2C%20-84.24081%5D%2C%20%5B37.33113%2C%20-120.61448%5D%2C%20%5B41.22686%2C%20-76.99025%5D%2C%20%5B38.831419%2C%20-111.131353%5D%2C%20%5B39.66021%2C%20-85.97122%5D%2C%20%5B37.709341%2C%20-122.1221%5D%2C%20%5B33.76112%2C%20-84.490341%5D%2C%20%5B30.210529%2C%20-92.075668%5D%2C%20%5B44.907479%2C%20-122.98631%5D%2C%20%5B33.520584%2C%20-80.791832%5D%2C%20%5B39.91294%2C%20-104.81827%5D%2C%20%5B41.83073%2C%20-87.70033000000002%5D%2C%20%5B29.803839%2C%20-95.372574%5D%2C%20%5B32.902671999999995%2C%20-80.144279%5D%2C%20%5B30.42236%2C%20-91.13474%5D%2C%20%5B38.61236%2C%20-90.2012%5D%2C%20%5B35.033588%2C%20-82.058662%5D%2C%20%5B34.774677000000004%2C%20-82.462868%5D%2C%20%5B39.28272800000001%2C%20-84.441645%5D%2C%20%5B34.06897%2C%20-117.348602%5D%2C%20%5B38.431645%2C%20-121.398892%5D%2C%20%5B32.90902%2C%20-117.116478%5D%2C%20%5B42.78318%2C%20-86.08249%5D%2C%20%5B33.46213%2C%20-112.05922%5D%2C%20%5B44.663317%2C%20-117.95516299999998%5D%2C%20%5B39.019501%2C%20-76.95266%5D%2C%20%5B34.233174%2C%20-117.420194%5D%2C%20%5B38.90953%2C%20-77.05046999999998%5D%2C%20%5B35.274189%2C%20-80.835983%5D%2C%20%5B28.519453%2C%20-81.29789%5D%2C%20%5B28.135498%2C%20-81.990211%5D%2C%20%5B45.750345%2C%20-123.195793%5D%2C%20%5B34.88917%2C%20-89.99133%5D%2C%20%5B29.79628%2C%20-95.4757%5D%2C%20%5B35.26738%2C%20-119.252731%5D%2C%20%5B33.970026000000004%2C%20-117.375527%5D%2C%20%5B34.726974%2C%20-82.388802%5D%2C%20%5B41.07761%2C%20-114.569923%5D%2C%20%5B30.274736%2C%20-97.731491%5D%2C%20%5B28.356977%2C%20-80.700172%5D%2C%20%5B30.005632%2C%20-90.02305600000003%5D%2C%20%5B26.194528%2C%20-80.151325%5D%2C%20%5B37.492684%2C%20-120.880788%5D%2C%20%5B33.75186%2C%20-84.23061%5D%2C%20%5B36.080959%2C%20-86.751587%5D%2C%20%5B39.44347%2C%20-75.739143%5D%2C%20%5B33.778835%2C%20-117.881012%5D%2C%20%5B34.000219%2C%20-117.352602%5D%2C%20%5B30.430641%2C%20-91.11348%5D%2C%20%5B28.551041%2C%20-81.382469%5D%2C%20%5B28.421619%2C%20-81.63311800000002%5D%2C%20%5B39.292042%2C%20-76.69367199999998%5D%2C%20%5B26.59996%2C%20-81.609154%5D%2C%20%5B34.153071000000004%2C%20-118.369542%5D%2C%20%5B33.6805%2C%20-117.85228700000002%5D%2C%20%5B33.8458%2C%20-117.82255%5D%2C%20%5B40.282345%2C%20-75.303925%5D%2C%20%5B34.23274%2C%20-118.47299%5D%2C%20%5B30.673273%2C%20-96.365814%5D%2C%20%5B40.838715%2C%20-75.029785%5D%2C%20%5B42.86924000000001%2C%20-87.93722%5D%2C%20%5B41.886504%2C%20-87.91862900000002%5D%2C%20%5B30.38066%2C%20-81.67347%5D%2C%20%5B33.941956%2C%20-117.555405%5D%2C%20%5B30.42847%2C%20-91.171342%5D%2C%20%5B42.36822%2C%20-121.99771%5D%2C%20%5B37.898792%2C%20-122.070694%5D%2C%20%5B37.551426%2C%20-77.439522%5D%2C%20%5B35.213814%2C%20-80.80261999999998%5D%2C%20%5B27.872375%2C%20-82.76241%5D%2C%20%5B33.592189000000005%2C%20-117.758299%5D%2C%20%5B38.999379%2C%20-76.891991%5D%2C%20%5B34.016998%2C%20-118.141129%5D%2C%20%5B44.847803000000006%2C%20-93.059492%5D%2C%20%5B29.783792%2C%20-95.451591%5D%2C%20%5B33.253796%2C%20-117.247795%5D%2C%20%5B37.808321%2C%20-122.36702%5D%2C%20%5B37.734112%2C%20-122.407784%5D%2C%20%5B29.653921%2C%20-95.156067%5D%2C%20%5B39.819862%2C%20-76.99559%5D%2C%20%5B34.072540000000004%2C%20-118.23483%5D%2C%20%5B37.048498%2C%20-120.635549%5D%2C%20%5B27.38876%2C%20-82.449556%5D%2C%20%5B40.4357%2C%20-74.25194%5D%2C%20%5B40.01147%2C%20-78.46194100000002%5D%2C%20%5B40.96925%2C%20-73.773987%5D%2C%20%5B30.309742%2C%20-97.682068%5D%2C%20%5B41.62624%2C%20-87.6772%5D%2C%20%5B33.765732%2C%20-84.496002%5D%2C%20%5B34.842420000000004%2C%20-82.282737%5D%2C%20%5B47.9809%2C%20-122.188042%5D%2C%20%5B38.64333%2C%20-121.37922%5D%2C%20%5B35.460457%2C%20-97.654236%5D%2C%20%5B35.291859%2C%20-120.646851%5D%2C%20%5B45.52774%2C%20-122.60441000000002%5D%2C%20%5B37.223241%2C%20-93.292156%5D%2C%20%5B36.793514%2C%20-119.880361%5D%2C%20%5B34.189411%2C%20-79.80439%5D%2C%20%5B34.505961%2C%20-117.323415%5D%2C%20%5B39.426041%2C%20-88.378815%5D%2C%20%5B34.018978000000004%2C%20-80.428719%5D%2C%20%5B34.068657%2C%20-118.042221%5D%2C%20%5B28.026840000000004%2C%20-82.19279%5D%2C%20%5B34.145556%2C%20-117.300846%5D%2C%20%5B26.521590000000003%2C%20-80.17268%5D%2C%20%5B33.882732%2C%20-117.643669%5D%2C%20%5B34.0627%2C%20-79.75381999999998%5D%2C%20%5B30.248291%2C%20-81.59369699999998%5D%2C%20%5B36.230971%2C%20-86.611103%5D%2C%20%5B37.211412%2C%20-77.372835%5D%2C%20%5B40.397446%2C%20-78.436017%5D%2C%20%5B35.215582%2C%20-80.923201%5D%2C%20%5B33.037792%2C%20-80.148544%5D%2C%20%5B33.81163%2C%20-118.16149%5D%2C%20%5B41.926678%2C%20-83.359932%5D%2C%20%5B33.76289000000001%2C%20-84.49263%5D%2C%20%5B33.159218%2C%20-87.549019%5D%2C%20%5B31.060724%2C%20-87.577464%5D%2C%20%5B36.23649%2C%20-115.10613%5D%2C%20%5B40.84508%2C%20-73.9192%5D%2C%20%5B36.327139%2C%20-119.26526%5D%2C%20%5B34.174561%2C%20-84.759315%5D%2C%20%5B35.062228999999995%2C%20-81.99835999999998%5D%2C%20%5B37.405239%2C%20-122.055923%5D%2C%20%5B43.03466%2C%20-83.518005%5D%2C%20%5B40.576466%2C%20-74.544128%5D%2C%20%5B34.124142%2C%20-118.476906%5D%2C%20%5B41.18184%2C%20-79.24481999999998%5D%2C%20%5B36.324818%2C%20-82.39492800000002%5D%2C%20%5B34.104434000000005%2C%20-80.163658%5D%2C%20%5B41.474072%2C%20-73.649231%5D%2C%20%5B42.9744%2C%20-83.778137%5D%2C%20%5B37.20274000000001%2C%20-76.57203%5D%2C%20%5B31.771585%2C%20-106.37721299999998%5D%2C%20%5B44.289589%2C%20-124.110571%5D%2C%20%5B40.507614%2C%20-111.890991%5D%2C%20%5B36.14835%2C%20-86.78022%5D%2C%20%5B35.18850300000001%2C%20-109.443114%5D%2C%20%5B27.447414%2C%20-82.526421%5D%2C%20%5B37.23085800000001%2C%20-120.488007%5D%2C%20%5B34.088594%2C%20-118.475404%5D%2C%20%5B43.63777%2C%20-95.5882%5D%2C%20%5B38.684055%2C%20-90.21904%5D%2C%20%5B44.722267%2C%20-121.208298%5D%2C%20%5B38.78587%2C%20-89.70644%5D%2C%20%5B45.032004%2C%20-93.452657%5D%2C%20%5B33.509021999999995%2C%20-112.220482%5D%2C%20%5B41.13858%2C%20-111.83286%5D%2C%20%5B40.27457%2C%20-74.83064%5D%2C%20%5B35.138924%2C%20-82.073486%5D%2C%20%5B32.869048%2C%20-117.194021%5D%2C%20%5B41.760697%2C%20-87.9451%5D%2C%20%5B33.953514%2C%20-118.089821%5D%2C%20%5B38.933085%2C%20-77.37825500000002%5D%2C%20%5B34.087246%2C%20-83.993576%5D%2C%20%5B28.5351%2C%20-81.393101%5D%2C%20%5B33.837536%2C%20-84.36829399999998%5D%2C%20%5B35.205686%2C%20-80.921954%5D%2C%20%5B32.792233%2C%20-117.112289%5D%2C%20%5B33.760509000000006%2C%20-78.85928299999998%5D%2C%20%5B40.302411%2C%20-111.72565%5D%2C%20%5B37.507307%2C%20-120.939898%5D%2C%20%5B41.86639%2C%20-87.708076%5D%2C%20%5B33.70545300000001%2C%20-117.954392%5D%2C%20%5B36.304173%2C%20-86.708119%5D%2C%20%5B41.818053000000006%2C%20-87.871211%5D%2C%20%5B45.316451%2C%20-123.838082%5D%2C%20%5B38.64210900000001%2C%20-121.358706%5D%2C%20%5B41.579193%2C%20-73.909103%5D%2C%20%5B34.272114%2C%20-119.278786%5D%2C%20%5B32.558685%2C%20-85.50631%5D%2C%20%5B42.25477%2C%20-88.02043%5D%2C%20%5B29.747272%2C%20-95.378944%5D%2C%20%5B38.994617%2C%20-76.514442%5D%2C%20%5B34.658142%2C%20-86.798416%5D%2C%20%5B37.785542%2C%20-122.39138%5D%2C%20%5B33.37774%2C%20-112.07326%5D%2C%20%5B34.833256%2C%20-82.445984%5D%2C%20%5B40.68964%2C%20-73.72655%5D%2C%20%5B42.967232%2C%20-85.672218%5D%2C%20%5B38.560244%2C%20-121.479804%5D%2C%20%5B34.147911%2C%20-118.081926%5D%2C%20%5B40.101402%2C%20-76.183548%5D%2C%20%5B41.02577%2C%20-73.60935%5D%2C%20%5B33.181248%2C%20-117.332489%5D%2C%20%5B35.805542%2C%20-78.69369499999998%5D%2C%20%5B27.537359%2C%20-81.488579%5D%2C%20%5B34.103027000000004%2C%20-118.25038899999998%5D%2C%20%5B26.09231%2C%20-80.22153%5D%2C%20%5B42.998764%2C%20-85.59027900000002%5D%2C%20%5B36.20665%2C%20-86.778389%5D%2C%20%5B34.712025%2C%20-82.30301700000003%5D%2C%20%5B28.53094%2C%20-81.38601%5D%2C%20%5B30.416386%2C%20-91.069817%5D%2C%20%5B40.038738%2C%20-75.24929%5D%2C%20%5B37.317238%2C%20-121.974213%5D%2C%20%5B30.031740000000006%2C%20-89.98892%5D%2C%20%5B33.916172%2C%20-118.18945%5D%2C%20%5B38.57172%2C%20-121.50885%5D%2C%20%5B45.00423%2C%20-93.212189%5D%2C%20%5B31.81284%2C%20-106.21316000000002%5D%2C%20%5B25.81169%2C%20-80.20049%5D%2C%20%5B39.74108%2C%20-104.8255%5D%2C%20%5B42.082142%2C%20-71.022942%5D%2C%20%5B34.14975%2C%20-118.46859%5D%2C%20%5B26.462252000000003%2C%20-81.829338%5D%2C%20%5B39.090939%2C%20-76.711838%5D%2C%20%5B36.624626%2C%20-121.582863%5D%2C%20%5B37.704262%2C%20-122.157769%5D%2C%20%5B35.76818%2C%20-78.6312%5D%2C%20%5B33.98076%2C%20-117.84163%5D%2C%20%5B37.294685%2C%20-121.81015%5D%2C%20%5B35.811226%2C%20-78.611214%5D%2C%20%5B37.96133%2C%20-121.33438999999998%5D%2C%20%5B38.488636%2C%20-121.803772%5D%2C%20%5B39.942877%2C%20-75.193123%5D%2C%20%5B27.471218%2C%20-81.43366999999998%5D%2C%20%5B40.818481%2C%20-73.89894100000002%5D%2C%20%5B32.865925%2C%20-97.002396%5D%2C%20%5B33.767326000000004%2C%20-117.867498%5D%2C%20%5B30.348478000000004%2C%20-97.758675%5D%2C%20%5B28.255655%2C%20-81.48578499999998%5D%2C%20%5B40.235321%2C%20-75.224747%5D%2C%20%5B34.266684000000005%2C%20-118.445714%5D%2C%20%5B36.07664000000001%2C%20-78.22775%5D%2C%20%5B35.559196%2C%20-82.63855%5D%2C%20%5B27.01615%2C%20-82.04568%5D%2C%20%5B37.535618%2C%20-77.429634%5D%2C%20%5B30.163623%2C%20-81.537042%5D%2C%20%5B36.122735%2C%20-86.727436%5D%2C%20%5B34.036815000000004%2C%20-118.291577%5D%2C%20%5B36.167923%2C%20-83.218796%5D%2C%20%5B40.015247%2C%20-82.994293%5D%2C%20%5B28.66436%2C%20-81.38871999999998%5D%2C%20%5B44.89048%2C%20-122.99472%5D%2C%20%5B42.761532%2C%20-74.134598%5D%2C%20%5B34.914047%2C%20-80.981934%5D%2C%20%5B37.56149%2C%20-77.37557%5D%2C%20%5B28.448675%2C%20-81.26469399999998%5D%2C%20%5B30.471299%2C%20-97.671149%5D%2C%20%5B37.351342%2C%20-120.624344%5D%2C%20%5B39.142838%2C%20-121.845251%5D%2C%20%5B43.01614%2C%20-85.67381999999998%5D%2C%20%5B34.03093%2C%20-117.328346%5D%2C%20%5B38.14129000000001%2C%20-122.22435%5D%2C%20%5B39.853046%2C%20-86.254425%5D%2C%20%5B43.780391%2C%20-70.195819%5D%2C%20%5B32.649875%2C%20-117.06483%5D%2C%20%5B33.98555%2C%20-117.711983%5D%2C%20%5B32.668274%2C%20-97.204361%5D%2C%20%5B40.879959%2C%20-73.425255%5D%2C%20%5B35.175411%2C%20-89.836617%5D%2C%20%5B44.88864%2C%20-93.00152%5D%2C%20%5B47.61958%2C%20-122.32865%5D%2C%20%5B30.216276%2C%20-97.751244%5D%2C%20%5B40.779587%2C%20-73.57100799999998%5D%2C%20%5B41.154702%2C%20-112.024727%5D%2C%20%5B33.745556%2C%20-84.349213%5D%2C%20%5B45.85363%2C%20-118.40107%5D%2C%20%5B33.803104%2C%20-118.114665%5D%2C%20%5B40.922424%2C%20-80.26332%5D%2C%20%5B37.386616%2C%20-121.90554%5D%2C%20%5B35.46028%2C%20-97.58323%5D%2C%20%5B28.515728000000006%2C%20-81.289764%5D%2C%20%5B36.12652%2C%20-115.19022%5D%2C%20%5B40.65311%2C%20-112.04505%5D%2C%20%5B36.10893%2C%20-86.72418%5D%2C%20%5B34.888134%2C%20-82.10345500000003%5D%2C%20%5B47.52388%2C%20-122.264618%5D%2C%20%5B34.92308%2C%20-82.307182%5D%2C%20%5B43.22754000000001%2C%20-71.36041999999998%5D%2C%20%5B36.706566%2C%20-76.108939%5D%2C%20%5B45.006234%2C%20-123.979878%5D%2C%20%5B33.936031%2C%20-117.116714%5D%2C%20%5B34.99403%2C%20-82.06485%5D%2C%20%5B43.15105%2C%20-87.91626%5D%2C%20%5B27.447717%2C%20-82.60730600000002%5D%2C%20%5B36.053542%2C%20-120.063764%5D%2C%20%5B36.887729%2C%20-76.228809%5D%2C%20%5B42.323017%2C%20-88.164642%5D%2C%20%5B42.65296%2C%20-85.34344%5D%2C%20%5B30.362555%2C%20-97.728088%5D%2C%20%5B41.605804%2C%20-72.70324699999998%5D%2C%20%5B27.88282%2C%20-82.65535%5D%2C%20%5B42.795761%2C%20-74.01673000000002%5D%2C%20%5B33.636994%2C%20-117.680223%5D%2C%20%5B40.11373%2C%20-75.34232%5D%2C%20%5B40.02607%2C%20-76.87088%5D%2C%20%5B29.708763%2C%20-96.53928%5D%2C%20%5B32.186142%2C%20-81.03029599999998%5D%2C%20%5B35.292053%2C%20-80.796669%5D%2C%20%5B38.88652%2C%20-77.22052%5D%2C%20%5B29.445002%2C%20-98.360748%5D%2C%20%5B29.81785%2C%20-95.37722%5D%2C%20%5B35.470711%2C%20-97.508972%5D%2C%20%5B37.355961%2C%20-121.868294%5D%2C%20%5B34.346944%2C%20-119.422222%5D%2C%20%5B44.952526%2C%20-93.082787%5D%2C%20%5B36.1394%2C%20-85.274384%5D%2C%20%5B36.10445%2C%20-95.815323%5D%2C%20%5B39.750229%2C%20-75.536034%5D%2C%20%5B33.326038%2C%20-117.15905%5D%2C%20%5B30.691525%2C%20-88.030632%5D%2C%20%5B43.175387%2C%20-123.370898%5D%2C%20%5B37.701417%2C%20-121.894393%5D%2C%20%5B36.671997%2C%20-121.785278%5D%2C%20%5B34.426721%2C%20-117.380482%5D%2C%20%5B37.808369%2C%20-122.241493%5D%2C%20%5B30.234053000000007%2C%20-97.867371%5D%2C%20%5B32.833611%2C%20-97.200027%5D%2C%20%5B37.811161%2C%20-122.363976%5D%2C%20%5B29.638044%2C%20-98.519814%5D%2C%20%5B33.908617%2C%20-81.217044%5D%2C%20%5B38.583156%2C%20-121.503402%5D%2C%20%5B29.72613%2C%20-95.47094%5D%2C%20%5B29.735586%2C%20-95.644096%5D%2C%20%5B38.18706%2C%20-85.78926%5D%2C%20%5B32.478889%2C%20-93.779907%5D%2C%20%5B32.726121%2C%20-97.320379%5D%2C%20%5B46.53468%2C%20-122.4829%5D%2C%20%5B33.88902%2C%20-117.88046%5D%2C%20%5B45.23068%2C%20-122.774506%5D%2C%20%5B30.028428%2C%20-89.997626%5D%2C%20%5B36.837904%2C%20-119.784861%5D%2C%20%5B34.222458%2C%20-117.405602%5D%2C%20%5B34.067011%2C%20-117.445295%5D%2C%20%5B28.480631%2C%20-82.435509%5D%2C%20%5B33.068287%2C%20-80.6607%5D%2C%20%5B45.36383%2C%20-122.60623%5D%2C%20%5B35.301395%2C%20-80.731261%5D%2C%20%5B37.245902%2C%20-121.80385%5D%2C%20%5B37.49891%2C%20-122.23926000000002%5D%2C%20%5B41.316111%2C%20-120.115556%5D%2C%20%5B40.134586%2C%20-79.862312%5D%2C%20%5B30.154613%2C%20-97.592384%5D%2C%20%5B25.942303%2C%20-80.310106%5D%2C%20%5B39.181259%2C%20-78.082176%5D%2C%20%5B35.757458%2C%20-78.66523000000002%5D%2C%20%5B41.199127%2C%20-96.143089%5D%2C%20%5B41.173538%2C%20-89.07594300000002%5D%2C%20%5B39.776245%2C%20-104.989182%5D%2C%20%5B29.748049%2C%20-95.265068%5D%2C%20%5B33.924347%2C%20-117.28878%5D%2C%20%5B34.117466%2C%20-83.76297%5D%2C%20%5B40.114578%2C%20-75.071325%5D%2C%20%5B41.87419000000001%2C%20-87.71627%5D%2C%20%5B37.245461%2C%20-93.224716%5D%2C%20%5B39.97368%2C%20-83.08516%5D%2C%20%5B25.596727%2C%20-80.37394%5D%2C%20%5B38.213501%2C%20-78.382233%5D%2C%20%5B27.531313%2C%20-82.502937%5D%2C%20%5B33.915242%2C%20-118.187599%5D%2C%20%5B32.697254%2C%20-117.137215%5D%2C%20%5B33.789559999999994%2C%20-118.0892%5D%2C%20%5B34.365011%2C%20-118.503466%5D%2C%20%5B40.40038300000001%2C%20-104.99328%5D%2C%20%5B39.07186%2C%20-84.51935999999998%5D%2C%20%5B34.419919%2C%20-119.670606%5D%2C%20%5B47.24663%2C%20-122.25611%5D%2C%20%5B38.790823%2C%20-77.0606%5D%2C%20%5B34.12042%2C%20-118.27126%5D%2C%20%5B29.9139%2C%20-95.55615%5D%2C%20%5B35.475121%2C%20-97.60112%5D%2C%20%5B40.883862%2C%20-73.287766%5D%2C%20%5B42.473492%2C%20-71.24793199999998%5D%2C%20%5B37.996029%2C%20-122.330957%5D%2C%20%5B36.593559%2C%20-121.704483%5D%2C%20%5B38.45906%2C%20-90.37459%5D%2C%20%5B34.642208000000004%2C%20-83.53005999999998%5D%2C%20%5B42.49641%2C%20-83.35094000000002%5D%2C%20%5B32.900307%2C%20-96.71769%5D%2C%20%5B30.284382%2C%20-97.657846%5D%2C%20%5B35.072803%2C%20-90.027298%5D%2C%20%5B39.72559%2C%20-105.03941%5D%2C%20%5B37.354122%2C%20-121.866264%5D%2C%20%5B34.029499%2C%20-118.224541%5D%2C%20%5B27.922735%2C%20-82.3769%5D%2C%20%5B36.74287%2C%20-119.81131%5D%2C%20%5B33.869015000000005%2C%20-118.284813%5D%2C%20%5B34.033265%2C%20-118.184642%5D%2C%20%5B39.361183%2C%20-77.39806%5D%2C%20%5B33.591190000000005%2C%20-112.11679%5D%2C%20%5B39.826004%2C%20-86.131203%5D%2C%20%5B38.96696%2C%20-94.72269%5D%2C%20%5B38.567375%2C%20-121.33321399999998%5D%2C%20%5B29.4883%2C%20-95.104782%5D%2C%20%5B42.52758%2C%20-82.90907299999998%5D%2C%20%5B40.488518%2C%20-79.69583100000001%5D%2C%20%5B44.96282%2C%20-93.22649%5D%2C%20%5B25.930105%2C%20-80.212166%5D%2C%20%5B40.6657%2C%20-111.86485%5D%2C%20%5B34.003569%2C%20-117.830784%5D%2C%20%5B33.406315%2C%20-82.026382%5D%2C%20%5B30.35713%2C%20-91.116943%5D%2C%20%5B35.802399%2C%20-78.608223%5D%2C%20%5B42.518894%2C%20-83.616478%5D%2C%20%5B40.192486%2C%20-75.15293100000002%5D%2C%20%5B32.782875%2C%20-96.806267%5D%2C%20%5B34.53978%2C%20-82.44609100000002%5D%2C%20%5B37.866581%2C%20-121.637619%5D%2C%20%5B33.910721%2C%20-117.883484%5D%2C%20%5B33.683640000000004%2C%20-84.310303%5D%2C%20%5B33.941364%2C%20-118.096634%5D%2C%20%5B34.06371%2C%20-117.28439%5D%2C%20%5B33.1941%2C%20-117.25885%5D%2C%20%5B37.578735%2C%20-122.048149%5D%5D%2C%0A%20%20%20%20%20%20%20%20%20%20%20%20%20%20%20%20%7B%0A%20%20%20%20%20%20%20%20%20%20%20%20%20%20%20%20%20%20%20%20minOpacity%3A%200.5%2C%0A%20%20%20%20%20%20%20%20%20%20%20%20%20%20%20%20%20%20%20%20maxZoom%3A%2018%2C%0A%20%20%20%20%20%20%20%20%20%20%20%20%20%20%20%20%20%20%20%20max%3A%201.0%2C%0A%20%20%20%20%20%20%20%20%20%20%20%20%20%20%20%20%20%20%20%20radius%3A%2025%2C%0A%20%20%20%20%20%20%20%20%20%20%20%20%20%20%20%20%20%20%20%20blur%3A%2015%2C%0A%20%20%20%20%20%20%20%20%20%20%20%20%20%20%20%20%20%20%20%20gradient%3A%20null%0A%20%20%20%20%20%20%20%20%20%20%20%20%20%20%20%20%20%20%20%20%7D%29%0A%20%20%20%20%20%20%20%20%20%20%20%20%20%20%20%20.addTo%28map_b65fbc05711046ca8e299c9284c5451c%29%3B%0A%20%20%20%20%20%20%20%20%0A%3C/script%3E onload=\"this.contentDocument.open();this.contentDocument.write(    decodeURIComponent(this.getAttribute('data-html')));this.contentDocument.close();\" allowfullscreen webkitallowfullscreen mozallowfullscreen></iframe></div></div>"
            ],
            "text/plain": [
              "<folium.folium.Map at 0x7f6d39e95b10>"
            ]
          },
          "metadata": {
            "tags": []
          },
          "execution_count": 19
        }
      ]
    },
    {
      "cell_type": "code",
      "metadata": {
        "colab": {
          "base_uri": "https://localhost:8080/",
          "height": 285
        },
        "id": "zZ1BY8kIUNx1",
        "outputId": "4a63a139-b92d-4c64-8f5a-7477e9d9c6b8"
      },
      "source": [
        "#ploting box plot to visualize temperature range\n",
        "import seaborn as sns\n",
        "sns.set_theme(style=\"whitegrid\")\n",
        "data_temp=df['Temperature(F)']\n",
        "ax = sns.boxplot(x=data_temp)"
      ],
      "execution_count": null,
      "outputs": [
        {
          "output_type": "display_data",
          "data": {
            "image/png": "[encoded data removed]",
            "text/plain": [
              "<Figure size 432x288 with 1 Axes>"
            ]
          },
          "metadata": {
            "tags": []
          }
        }
      ]
    },
    {
      "cell_type": "markdown",
      "metadata": {
        "id": "LU5MhnQEYMDV"
      },
      "source": [
        "The highest temperature ever recorded is 134.1 °F at Furnace Creek, California, United States on 10 July 1913. The lowest temperature ever recorded in the United States was -80°F (-62 degrees Celsius) on January 23, 1971 at Prospect Creek Camp. There several datapoints which is outside this sepecified zone\n",
        "\n",
        "\n",
        "\n"
      ]
    },
    {
      "cell_type": "code",
      "metadata": {
        "id": "ni-YxoS9bRsj"
      },
      "source": [
        "#removing outliers from Temperature(F) column\n",
        "df_working_temperature= df[(df['Temperature(F)']>-80) & (df['Temperature(F)']<134)]"
      ],
      "execution_count": null,
      "outputs": []
    },
    {
      "cell_type": "code",
      "metadata": {
        "colab": {
          "base_uri": "https://localhost:8080/"
        },
        "id": "E_0EGr__2Oco",
        "outputId": "94076a6c-35ef-4dd5-ba1a-3cacc48f0e56"
      },
      "source": [
        "#Checking percentage of data lost after renoving outliers \n",
        "outlier_temp=len(df_working_temperature)/len(df)\n",
        "outlier_temp"
      ],
      "execution_count": null,
      "outputs": [
        {
          "output_type": "execute_result",
          "data": {
            "text/plain": [
              "0.976867897653968"
            ]
          },
          "metadata": {
            "tags": []
          },
          "execution_count": 11
        }
      ]
    },
    {
      "cell_type": "code",
      "metadata": {
        "colab": {
          "base_uri": "https://localhost:8080/"
        },
        "id": "E9rPUY1eJCwU",
        "outputId": "e72a4897-f85a-48df-bfd2-6171fd38012a"
      },
      "source": [
        "import numpy as np\n",
        "np.percentile(df_working_temperature['Temperature(F)'],50)"
      ],
      "execution_count": null,
      "outputs": [
        {
          "output_type": "execute_result",
          "data": {
            "text/plain": [
              "63.0"
            ]
          },
          "metadata": {
            "tags": []
          },
          "execution_count": 15
        }
      ]
    },
    {
      "cell_type": "code",
      "metadata": {
        "id": "GSyxtzA_E-4S"
      },
      "source": [
        "#Making groups within temperature column\n",
        "#low temperature= -80°F till 48°F\n",
        "#moderate temperature= 49°F till 63°F\n",
        "#High temperature= 64°F till 134°F\n",
        "low_temperatures=df_working_temperature[(df_working_temperature['Temperature(F)']>=-80) & (df_working_temperature['Temperature(F)']<48)]\n",
        "moderate_temperatures=df_working_temperature[(df_working_temperature['Temperature(F)']>49) & (df_working_temperature['Temperature(F)']<63)]\n",
        "high_temperatures=df_working_temperature[(df_working_temperature['Temperature(F)']>64) & (df_working_temperature['Temperature(F)']<134)]\n"
      ],
      "execution_count": null,
      "outputs": []
    },
    {
      "cell_type": "code",
      "metadata": {
        "colab": {
          "base_uri": "https://localhost:8080/",
          "height": 285
        },
        "id": "POk0_6uEcZco",
        "outputId": "950e28c4-b8b7-4681-e69f-3ec75d34cc3f"
      },
      "source": [
        "import seaborn as sns\n",
        "sns.set_theme(style=\"whitegrid\")\n",
        "data_temp=low_temperatures['Temperature(F)']\n",
        "ax = sns.boxplot(x=data_temp)"
      ],
      "execution_count": null,
      "outputs": [
        {
          "output_type": "display_data",
          "data": {
            "image/png": "[encoded data removed]",
            "text/plain": [
              "<Figure size 432x288 with 1 Axes>"
            ]
          },
          "metadata": {
            "tags": []
          }
        }
      ]
    },
    {
      "cell_type": "code",
      "metadata": {
        "colab": {
          "base_uri": "https://localhost:8080/",
          "height": 285
        },
        "id": "UIGjNl8rcwM3",
        "outputId": "776270ab-a064-47b0-e718-ba7f827d7234"
      },
      "source": [
        "sns.set_theme(style=\"whitegrid\")\n",
        "data_temp=moderate_temperatures['Temperature(F)']\n",
        "ax = sns.boxplot(x=data_temp)"
      ],
      "execution_count": null,
      "outputs": [
        {
          "output_type": "display_data",
          "data": {
            "image/png": "[encoded data removed]",
            "text/plain": [
              "<Figure size 432x288 with 1 Axes>"
            ]
          },
          "metadata": {
            "tags": []
          }
        }
      ]
    },
    {
      "cell_type": "code",
      "metadata": {
        "colab": {
          "base_uri": "https://localhost:8080/",
          "height": 285
        },
        "id": "qYJvyxBtc3Wj",
        "outputId": "d3114101-c729-4e04-e37b-4c7c4cec3e76"
      },
      "source": [
        "sns.set_theme(style=\"whitegrid\")\n",
        "data_temp=high_temperatures['Temperature(F)']\n",
        "ax = sns.boxplot(x=data_temp)"
      ],
      "execution_count": null,
      "outputs": [
        {
          "output_type": "display_data",
          "data": {
            "image/png": "[encoded data removed]",
            "text/plain": [
              "<Figure size 432x288 with 1 Axes>"
            ]
          },
          "metadata": {
            "tags": []
          }
        }
      ]
    },
    {
      "cell_type": "code",
      "metadata": {
        "colab": {
          "base_uri": "https://localhost:8080/"
        },
        "id": "O1qJgcUEdAGq",
        "outputId": "800fe3e1-317c-4747-c958-9a58e32cea28"
      },
      "source": [
        "#Finding number of accidents that occcured \n",
        "low_temperature_accidents=len(low_temperatures)\n",
        "moderate_temperature_accidents=len(moderate_temperatures)\n",
        "high_temperature_accidents=len(high_temperatures)\n",
        "print(\"Number of accidents that occured at low temperatures {}\".format(low_temperature_accidents))\n",
        "print(\"Number of accidents that occured at moderate temperatures {}\".format(moderate_temperature_accidents))\n",
        "print(\"Number of accidents that occured at high temperatures {}\".format(high_temperature_accidents))"
      ],
      "execution_count": null,
      "outputs": [
        {
          "output_type": "stream",
          "text": [
            "Number of accidents that occured at low temperatures 656334\n",
            "Number of accidents that occured at moderate temperatures 683148\n",
            "Number of accidents that occured at high temperatures 1308496\n"
          ],
          "name": "stdout"
        }
      ]
    },
    {
      "cell_type": "code",
      "metadata": {
        "colab": {
          "base_uri": "https://localhost:8080/",
          "height": 479
        },
        "id": "d5V3mJ-2fmcq",
        "outputId": "d563fa54-0d1d-40aa-ac54-68d36bff4ad4"
      },
      "source": [
        "import numpy as np\n",
        "import matplotlib.pyplot as plt\n",
        "\n",
        "x=['low_temperature_accidents','moderate_temperature_accidents','high_temperature_accidents']\n",
        "X_axis = np.arange(len(x))\n",
        "temp=[low_temperature_accidents,moderate_temperature_accidents,high_temperature_accidents]\n",
        "plt.bar(X_axis - 0.2, temp, 0.4, label = 'Number of accidents occured')\n",
        "\n",
        "\n",
        "plt.xticks(X_axis, x,rotation=90)\n",
        "plt.xlabel(\"temperature regions\")\n",
        "plt.ylabel(\"Number of accidents\")\n",
        "plt.title(\"Number of accidents occured at different temperature zones\")\n",
        "plt.legend()\n",
        "plt.show()"
      ],
      "execution_count": null,
      "outputs": [
        {
          "output_type": "display_data",
          "data": {
            "image/png": "[encoded data removed]",
            "text/plain": [
              "<Figure size 432x288 with 1 Axes>"
            ]
          },
          "metadata": {
            "tags": []
          }
        }
      ]
    },
    {
      "cell_type": "code",
      "metadata": {
        "id": "GUk9m_4Dh8JN"
      },
      "source": [
        "checking_columns=['Amenity', 'Bump', 'Crossing', 'Give_Way',\n",
        "       'Junction', 'No_Exit', 'Railway', 'Roundabout', 'Station', 'Stop',\n",
        "       'Traffic_Calming', 'Traffic_Signal', 'Turning_Loop']"
      ],
      "execution_count": null,
      "outputs": []
    },
    {
      "cell_type": "code",
      "metadata": {
        "id": "EvNo6bMYh8-t"
      },
      "source": [
        "various_temp=counting(checking_columns,high_temperatures)"
      ],
      "execution_count": null,
      "outputs": []
    },
    {
      "cell_type": "code",
      "metadata": {
        "id": "Wc6MkYPQioLP"
      },
      "source": [
        "import numpy as np\n",
        "tru_temp=[]\n",
        "fal_temp=[]\n",
        "for elements in np.arange(12):\n",
        "  t=various_temp[elements][1]\n",
        "  s=various_temp[elements][0]\n",
        "  tru_temp.append(t)\n",
        "  fal_temp.append(s)"
      ],
      "execution_count": null,
      "outputs": []
    },
    {
      "cell_type": "code",
      "metadata": {
        "colab": {
          "base_uri": "https://localhost:8080/",
          "height": 375
        },
        "id": "5tB9J6PHi49u",
        "outputId": "754438b7-72b5-49d8-8256-308f85a0da5b"
      },
      "source": [
        "# Finding out where the number of accidents are more at high temperature zone\n",
        "X=['Amenity', 'Bump', 'Crossing', 'Give_Way',\n",
        "       'Junction', 'No_Exit', 'Railway', 'Roundabout', 'Station', 'Stop',\n",
        "       'Traffic_Calming', 'Traffic_Signal']\n",
        "\n",
        "X_axis = np.arange(len(X))\n",
        "  \n",
        "plt.bar(X_axis - 0.2, tru_temp, 0.4, label = 'Number of accidents occured')\n",
        "#plt.bar(X_axis + 0.2, fal_temp, 0.4, label = 'No accidents occured')\n",
        "  \n",
        "plt.xticks(X_axis, X,rotation=90)\n",
        "plt.xlabel(\"accidents location\")\n",
        "plt.ylabel(\"Number of accidents\")\n",
        "plt.title(\"Number of accidents occured in each location\")\n",
        "plt.legend()\n",
        "plt.show()"
      ],
      "execution_count": null,
      "outputs": [
        {
          "output_type": "display_data",
          "data": {
            "image/png": "[encoded data removed]",
            "text/plain": [
              "<Figure size 432x288 with 1 Axes>"
            ]
          },
          "metadata": {
            "tags": []
          }
        }
      ]
    },
    {
      "cell_type": "markdown",
      "metadata": {
        "id": "-cY-rEJCjpVh"
      },
      "source": [
        "##Weather Conditions"
      ]
    },
    {
      "cell_type": "code",
      "metadata": {
        "id": "vcREQZYQmxPq"
      },
      "source": [
        "total_weather=len(df.Weather_Condition.unique())"
      ],
      "execution_count": null,
      "outputs": []
    },
    {
      "cell_type": "code",
      "metadata": {
        "colab": {
          "base_uri": "https://localhost:8080/"
        },
        "id": "EUOP2thUkDjm",
        "outputId": "e279a2cd-1d94-49bd-9054-27fd12a934d9"
      },
      "source": [
        "#number of different weather conditions\n",
        "print('Total number of different weather conditions avaliable in dataset',total_weather)"
      ],
      "execution_count": null,
      "outputs": [
        {
          "output_type": "stream",
          "text": [
            "Total number of different weather conditions avaliable in dataset 129\n"
          ],
          "name": "stdout"
        }
      ]
    },
    {
      "cell_type": "code",
      "metadata": {
        "colab": {
          "base_uri": "https://localhost:8080/"
        },
        "id": "ozr6UxXpG9Q0",
        "outputId": "6b50b883-767d-42bf-d5fc-b7b90f661ae2"
      },
      "source": [
        "df.Weather_Condition.value_counts()[0:80]"
      ],
      "execution_count": null,
      "outputs": [
        {
          "output_type": "execute_result",
          "data": {
            "text/plain": [
              "Fair                            692680\n",
              "Clear                           498925\n",
              "Mostly Cloudy                   386122\n",
              "Partly Cloudy                   268851\n",
              "Cloudy                          245054\n",
              "                                 ...  \n",
              "Light Snow and Sleet / Windy         9\n",
              "Drizzle / Windy                      7\n",
              "Light Snow with Thunder              7\n",
              "Patches of Fog / Windy               6\n",
              "Heavy Snow with Thunder              6\n",
              "Name: Weather_Condition, Length: 90, dtype: int64"
            ]
          },
          "metadata": {
            "tags": []
          },
          "execution_count": 13
        }
      ]
    },
    {
      "cell_type": "code",
      "metadata": {
        "id": "zibjfLWEpJlt",
        "colab": {
          "base_uri": "https://localhost:8080/",
          "height": 285
        },
        "outputId": "00383337-1817-444b-8a72-3addf80916d8"
      },
      "source": [
        "import seaborn as sns\n",
        "sns.set_theme(style=\"whitegrid\")\n",
        "data_temp=df.Weather_Condition.value_counts()[0:80]\n",
        "ax = sns.boxplot(x=data_temp)"
      ],
      "execution_count": null,
      "outputs": [
        {
          "output_type": "display_data",
          "data": {
            "image/png": "[encoded data removed]",
            "text/plain": [
              "<Figure size 432x288 with 1 Axes>"
            ]
          },
          "metadata": {
            "tags": []
          }
        }
      ]
    },
    {
      "cell_type": "code",
      "metadata": {
        "colab": {
          "base_uri": "https://localhost:8080/"
        },
        "id": "zhVGeWNFHnqz",
        "outputId": "740ca324-ba61-4766-8766-45d9f1337d7f"
      },
      "source": [
        "import numpy as np\n",
        "np.percentile (df.Weather_Condition.value_counts()[0:80],75)"
      ],
      "execution_count": null,
      "outputs": [
        {
          "output_type": "execute_result",
          "data": {
            "text/plain": [
              "3145.0"
            ]
          },
          "metadata": {
            "tags": []
          },
          "execution_count": 18
        }
      ]
    },
    {
      "cell_type": "markdown",
      "metadata": {
        "id": "d0gYmejGIr29"
      },
      "source": [
        "75% of data contributes only 3145 accidents. Therefore analysis is performed on 25% of data which have majority of accidents"
      ]
    },
    {
      "cell_type": "code",
      "metadata": {
        "id": "ZJMANUPhIqcT"
      },
      "source": [
        "df_weather=df.Weather_Condition.value_counts()[0:80][df.Weather_Condition.value_counts()[0:80]>3145]"
      ],
      "execution_count": null,
      "outputs": []
    },
    {
      "cell_type": "code",
      "metadata": {
        "id": "wTS-e2cdM0oW"
      },
      "source": [
        "#converting series to dataframe\n",
        "df_weather_1 = pd.DataFrame(df_weather)"
      ],
      "execution_count": null,
      "outputs": []
    },
    {
      "cell_type": "code",
      "metadata": {
        "colab": {
          "base_uri": "https://localhost:8080/",
          "height": 413
        },
        "id": "nyYn54tkR2YP",
        "outputId": "786915d3-12c7-4ad6-9df0-ebb22143b1ef"
      },
      "source": [
        "import matplotlib.pyplot as plt \n",
        "X=df_weather_1.index.to_list()\n",
        "data = df_weather_1['Weather_Condition']\n",
        "X_axis = np.arange(len(X))\n",
        "  \n",
        "plt.bar(X_axis - 0.2, data, 0.4, label = 'Number of accidents occured')\n",
        "  \n",
        "plt.xticks(X_axis, X, rotation=90)\n",
        "plt.xlabel(\"weather condiition\")\n",
        "plt.ylabel(\"Number of accidents\")\n",
        "plt.title(\"Number of accidents occured at various enviromental conditions\")\n",
        "plt.legend()\n",
        "plt.show()"
      ],
      "execution_count": null,
      "outputs": [
        {
          "output_type": "display_data",
          "data": {
            "image/png": "[encoded data removed]",
            "text/plain": [
              "<Figure size 432x288 with 1 Axes>"
            ]
          },
          "metadata": {
            "tags": []
          }
        }
      ]
    },
    {
      "cell_type": "markdown",
      "metadata": {
        "id": "TPrtk-U_xATE"
      },
      "source": [
        "## Summary and conclusion"
      ]
    },
    {
      "cell_type": "markdown",
      "metadata": {
        "id": "vjV0w_h5tXxi"
      },
      "source": [
        "\n",
        "\n",
        "1.   It was observed that majority of accidents occur at Traffic signal(453665), junction (2902752), crossing (218929). Very less accidents occur at Traffic_calming, Bump, Roundabouts. Thereby it is important to focus at these areas to minimize the damage.\n",
        "\n",
        "2.   From the box plot it was observed that majority of cities (95%) have less than 848 accidents, Majority of cities about 1306 has observed only 1 accident for a span of 4 years.\n",
        "\n",
        "3.   1. On weekdays: High percentage of accidents occur between 6 to 10 am and 3pm to 6pm\n",
        "     2. On weekends:High percentage of accidents occur between 10 am and 3 am\n",
        "\n",
        "\n",
        "4.   Percentage of accidents that occur on weekday (Monday to Friday) are very much similar and it drastically falls on weekends(saturday and sunday)\n",
        "\n",
        "5.   The majority of accidents occur when temperature range is between 64°F till 134°F and they are occuring at Traffic_Signal, Junctions and crossing \n",
        "\n",
        "6.   It is very clear that majority accidents when it fair, clear, and cloudy\n",
        "\n",
        "7.   The number of accidents that occur during the year is constant\n"
      ]
    }
  ]
}